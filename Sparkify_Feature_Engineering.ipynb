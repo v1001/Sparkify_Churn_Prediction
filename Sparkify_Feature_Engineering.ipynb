{
 "cells": [
  {
   "cell_type": "markdown",
   "metadata": {},
   "source": [
    "# Sparkify Project Workspace\n",
    "This workspace contains a tiny subset (128MB) of the full dataset available (12GB). Feel free to use this workspace to build your project, or to explore a smaller subset with Spark before deploying your cluster on the cloud. Instructions for setting up your Spark cluster is included in the last lesson of the Extracurricular Spark Course content.\n",
    "\n",
    "You can follow the steps below to guide your data analysis and model building portion of this project."
   ]
  },
  {
   "cell_type": "code",
   "execution_count": 1,
   "metadata": {},
   "outputs": [],
   "source": [
    "# import libraries\n",
    "from pyspark.sql import SparkSession\n",
    "from pyspark.sql.functions import avg, col, concat, desc, explode, lit, min, max, split, udf, sum\n",
    "from pyspark.sql.types import IntegerType\n",
    "\n",
    "from pyspark.ml import Pipeline\n",
    "from pyspark.ml.classification import LogisticRegression\n",
    "from pyspark.ml.evaluation import MulticlassClassificationEvaluator\n",
    "from pyspark.ml.feature import CountVectorizer, IDF, Normalizer, PCA, RegexTokenizer, StandardScaler, StopWordsRemover, StringIndexer, VectorAssembler\n",
    "from pyspark.ml.regression import LinearRegression\n",
    "from pyspark.ml.tuning import CrossValidator, ParamGridBuilder\n",
    "\n",
    "import re\n",
    "import datetime\n",
    "import numpy as np\n",
    "import pandas as pd\n",
    "\n",
    "import time\n",
    "\n",
    "from matplotlib import pyplot as plt\n",
    "%matplotlib inline"
   ]
  },
  {
   "cell_type": "code",
   "execution_count": 2,
   "metadata": {},
   "outputs": [],
   "source": [
    "# create a Spark session\n",
    "spark = SparkSession.builder \\\n",
    "    .master(\"local[4]\") \\\n",
    "    .appName(\"Sparkify_Churn_Analysis\") \\\n",
    "    .config(\"spark.network.timeout\",\"3601\") \\\n",
    "    .config(\"spark.executor.heartbeatInterval\",\"3600\") \\\n",
    "    .getOrCreate()"
   ]
  },
  {
   "cell_type": "markdown",
   "metadata": {},
   "source": [
    "# Load and Clean Dataset\n",
    "In this workspace, the mini-dataset file is `mini_sparkify_event_data.json`. Load and clean the dataset, checking for invalid or missing data - for example, records without userids or sessionids. "
   ]
  },
  {
   "cell_type": "code",
   "execution_count": 4,
   "metadata": {},
   "outputs": [
    {
     "data": {
      "text/plain": [
       "DataFrame[artist: string, auth: string, firstName: string, gender: string, itemInSession: bigint, lastName: string, length: double, level: string, location: string, method: string, page: string, registration: bigint, sessionId: bigint, song: string, status: bigint, ts: bigint, userAgent: string, userId: string]"
      ]
     },
     "execution_count": 4,
     "metadata": {},
     "output_type": "execute_result"
    }
   ],
   "source": [
    "df = spark.read.json('mini_sparkify_event_data.json')\n",
    "df.createOrReplaceTempView(\"log_table\")\n",
    "df.persist()"
   ]
  },
  {
   "cell_type": "markdown",
   "metadata": {},
   "source": [
    "Let's first drop duplicates."
   ]
  },
  {
   "cell_type": "code",
   "execution_count": 5,
   "metadata": {},
   "outputs": [],
   "source": [
    "df = df.dropDuplicates()"
   ]
  },
  {
   "cell_type": "markdown",
   "metadata": {},
   "source": [
    "and log entries from unregistered users"
   ]
  },
  {
   "cell_type": "code",
   "execution_count": 6,
   "metadata": {},
   "outputs": [],
   "source": [
    "df = spark.sql(\" SELECT * FROM log_table WHERE userID != '' \")"
   ]
  },
  {
   "cell_type": "code",
   "execution_count": 7,
   "metadata": {},
   "outputs": [],
   "source": [
    "df.createOrReplaceTempView(\"log_table\")"
   ]
  },
  {
   "cell_type": "markdown",
   "metadata": {},
   "source": [
    "### Adding columns for hour, date, weekday and calendar week:"
   ]
  },
  {
   "cell_type": "code",
   "execution_count": 8,
   "metadata": {},
   "outputs": [],
   "source": [
    "get_hour = udf(lambda x: datetime.datetime.fromtimestamp(x / 1000.0).hour)\n",
    "get_date = udf(lambda x: str(datetime.datetime.fromtimestamp(x / 1000.0).date()))\n",
    "get_weekday = udf(lambda x: datetime.datetime.fromtimestamp(x / 1000.0).weekday())\n",
    "get_week = udf(lambda x: datetime.datetime.fromtimestamp(x / 1000.0).date().isocalendar()[1])"
   ]
  },
  {
   "cell_type": "code",
   "execution_count": 9,
   "metadata": {},
   "outputs": [],
   "source": [
    "df = df.withColumn(\"date\", get_date(df.ts))\n",
    "df = df.withColumn(\"hour\", get_hour(df.ts))\n",
    "df = df.withColumn(\"weekday\", get_weekday(df.ts))\n",
    "df = df.withColumn(\"week\", get_week(df.ts))"
   ]
  },
  {
   "cell_type": "code",
   "execution_count": 10,
   "metadata": {},
   "outputs": [],
   "source": [
    "df.createOrReplaceTempView(\"log_table\")"
   ]
  },
  {
   "cell_type": "code",
   "execution_count": 13,
   "metadata": {},
   "outputs": [
    {
     "name": "stdout",
     "output_type": "stream",
     "text": [
      "Data was collected between 2018-10-01 02:01:57 and 2018-12-03 02:11:16 over 63 days.\n"
     ]
    }
   ],
   "source": [
    "ts_begin = spark.sql('SELECT MIN(ts) FROM log_table').first()[0]\n",
    "ts_end = spark.sql('SELECT MAX(ts) FROM log_table').first()[0]\n",
    "begin_datettime = datetime.datetime.fromtimestamp(ts_begin/1000)\n",
    "end_datetime = datetime.datetime.fromtimestamp(ts_end/1000)\n",
    "print('Data was collected between {} and {} over {} days.'.format(str(begin_datettime), str(end_datetime), (ts_end - ts_begin)//(24*3600000)))"
   ]
  },
  {
   "cell_type": "markdown",
   "metadata": {},
   "source": [
    "### The suggestion was to define churn as following events:\n",
    "1. Customer cancelled account.\n",
    "2. Customer downgraded account.\n",
    "\n",
    "The first case is easier to track. Since the number of cancelled auth and visits to \"Cancellation Confirmation\" page is same, we can assume, that after visiting the page and getting the cancelled auth the users have cancelled their accounts.\n",
    "\n",
    "The second case is more complicated and ambiguous, because the user behaviour of someone who downgraded their account may not be different from that of a paying user.They may choose to downgrade because they don't use the service frequently or just don't have the financial ability to pay for higher level service. Also let's keep in mind that we still generate revenue from free level users by rolling ads.\n",
    "\n",
    "### In this notebook we define churn as account cancellation."
   ]
  },
  {
   "cell_type": "code",
   "execution_count": 11,
   "metadata": {},
   "outputs": [],
   "source": [
    "get_churn_cancel = udf(lambda x: int(x=='Cancellation Confirmation'), IntegerType())\n",
    "df = df.withColumn('churn_cancelled', get_churn_cancel('page'))\n",
    "df.createOrReplaceTempView(\"log_table\")"
   ]
  },
  {
   "cell_type": "markdown",
   "metadata": {},
   "source": [
    "### Outliers\n",
    "\n",
    "#### Early churn\n",
    "If a user cancelled account in a timeframe less than a five days from beginning of observations we are dealing with early churn. In this case this user's data will not be compareable to others."
   ]
  },
  {
   "cell_type": "code",
   "execution_count": 14,
   "metadata": {},
   "outputs": [],
   "source": [
    "# let's find early churn users:\n",
    "early_churn = spark.sql(''' SELECT userID, ts FROM log_table WHERE churn_cancelled = 1 ''').toPandas()\n",
    "early_churn.sort_values('ts', inplace = True)\n",
    "early_churn[early_churn['ts'] < ts_begin + 3600*24*5*1000]\n",
    "early_churn = early_churn[early_churn['ts'] < ts_begin + 3600*24*5*1000]\n",
    "list_remove = early_churn.userID.tolist()"
   ]
  },
  {
   "cell_type": "markdown",
   "metadata": {},
   "source": [
    "#### Non-use\n",
    "Some customers have very low interaction level. It is possible that they do not use the service at all. Keeping them in the analysis will skew the distribution of our features. We will assume that users with less than one interaction per day on average are effectively not using our service."
   ]
  },
  {
   "cell_type": "code",
   "execution_count": 15,
   "metadata": {},
   "outputs": [],
   "source": [
    "usage_statistic = spark.sql(''' SELECT userID, count(ts) AS interactions, MAX(churn_cancelled) AS churn FROM log_table GROUP BY userID ''').toPandas()"
   ]
  },
  {
   "cell_type": "code",
   "execution_count": 16,
   "metadata": {},
   "outputs": [
    {
     "name": "stderr",
     "output_type": "stream",
     "text": [
      "No handles with labels found to put in legend.\n"
     ]
    },
    {
     "data": {
      "image/png": "[encoded data removed]",
      "text/plain": [
       "<Figure size 1332x756 with 1 Axes>"
      ]
     },
     "metadata": {
      "needs_background": "light"
     },
     "output_type": "display_data"
    }
   ],
   "source": [
    "usage_statistic.groupby('churn')['interactions'].hist(bins = [0, 1, 2, 4, 8, 16, 32, 64, 128, 256, 512, 1024, 2048, 5096, 10192])\n",
    "plt.xscale('log')\n",
    "plt.legend()\n",
    "fig = plt.gcf()\n",
    "fig.set_size_inches(18.5, 10.5)"
   ]
  },
  {
   "cell_type": "code",
   "execution_count": 17,
   "metadata": {},
   "outputs": [],
   "source": [
    "non_users = usage_statistic[usage_statistic['interactions']<60].userID.tolist()\n",
    "list_remove.extend([x for x in non_users if not x in list_remove])"
   ]
  },
  {
   "cell_type": "code",
   "execution_count": 18,
   "metadata": {},
   "outputs": [
    {
     "name": "stdout",
     "output_type": "stream",
     "text": [
      "We will have to remove 14 users from our analysis due to early churn or low number of interactions.\n",
      "User IDs:  100011 100001 100024 300007 100006 125 133 22 90 68 135 156 300003 134\n"
     ]
    }
   ],
   "source": [
    "print('We will have to remove {} users from our analysis due to early churn or low number of interactions.'.format(len(list_remove)))\n",
    "print('User IDs: ', ' '.join(list_remove))"
   ]
  },
  {
   "cell_type": "markdown",
   "metadata": {},
   "source": [
    "# Feature Engineering"
   ]
  },
  {
   "cell_type": "markdown",
   "metadata": {},
   "source": [
    "##### Methodology\n",
    "It may seem to plausible to involve such factors as browser, platform, location or gender in the prediction of churn. These factors may lead to churn, but they are affecting certain groups of customers and are not related to individual customer experience. Therefore they will not help us to predict churn, but rather indicate which customer groups may be more dissatisfied with our service.\n",
    "\n",
    "In this analysis we will focus on user specific factors such as:\n",
    " * number of songs played\n",
    " * number of different songs played\n",
    " * number of different artists\n",
    " * number of sessions\n",
    " * number of upgrades\n",
    " * number of downgrades\n",
    " * page visits\n",
    "     * downgrade\n",
    "     * upgrade\n",
    "     * thumbs down\n",
    "     * thumbs up\n",
    "     * roll advert\n",
    "     * home\n",
    "     * logout\n",
    "     * settings\n",
    "     * save settings\n",
    "     * add to playlist\n",
    "     * help\n",
    "     * error\n",
    "     * about\n",
    "     * add friend"
   ]
  },
  {
   "cell_type": "code",
   "execution_count": 46,
   "metadata": {},
   "outputs": [],
   "source": [
    "df_churn = spark.sql('''\n",
    "SELECT userID, count(song) AS song_count, \\\n",
    "count(DISTINCT song) AS dist_song_count, \\\n",
    "count(DISTINCT artist) AS dist_artist_count, \\\n",
    "count(DISTINCT sessionId) AS session_count, \\\n",
    "count(CASE WHEN page = \"Submit Downgrade\" THEN 1 END) AS downgrade_count, \\\n",
    "count(CASE WHEN page = \"Submit Upgrade\" THEN 1 END) AS upgrade_count, \\\n",
    "count(CASE WHEN page = \"Cancellation Confirmation\" THEN 1 END) AS churn, \\\n",
    "count(CASE WHEN page = \"Home\" THEN 1 END) AS page_visits_home, \\\n",
    "count(CASE WHEN page = \"Logout\" THEN 1 END) AS page_visits_logout, \\\n",
    "count(CASE WHEN page = \"Settings\" THEN 1 END) AS page_visits_settings, \\\n",
    "count(CASE WHEN page = \"Save Settings\" THEN 1 END) AS page_visits_save_settings, \\\n",
    "count(CASE WHEN page = \"Thumbs Down\" THEN 1 END) AS page_visits_thumbs_down, \\\n",
    "count(CASE WHEN page = \"Thumbs Up\" THEN 1 END) AS page_visits_thumbs_up, \\\n",
    "count(CASE WHEN page = \"Upgrade\" THEN 1 END) AS page_visits_upgrade, \\\n",
    "count(CASE WHEN page = \"Downgrade\" THEN 1 END) AS page_visits_downgrade, \\\n",
    "count(CASE WHEN page = \"Roll Advert\" THEN 1 END) AS page_visits_roll_advert, \\\n",
    "count(CASE WHEN page = \"About\" THEN 1 END) AS page_visits_about, \\\n",
    "count(CASE WHEN page = \"Add to Playlist\" THEN 1 END) AS page_visits_add_to_playlist, \\\n",
    "count(CASE WHEN page = \"Add Friend\" THEN 1 END) AS page_visits_add_friend, \\\n",
    "count(CASE WHEN page = \"Help\" THEN 1 END) AS page_visits_help, \\\n",
    "count(CASE WHEN page = \"Error\" THEN 1 END) AS page_visits_error \\\n",
    "FROM log_table GROUP BY userID ''').toPandas()"
   ]
  },
  {
   "cell_type": "code",
   "execution_count": 47,
   "metadata": {},
   "outputs": [
    {
     "data": {
      "text/html": [
       "<div>\n",
       "<style scoped>\n",
       "    .dataframe tbody tr th:only-of-type {\n",
       "        vertical-align: middle;\n",
       "    }\n",
       "\n",
       "    .dataframe tbody tr th {\n",
       "        vertical-align: top;\n",
       "    }\n",
       "\n",
       "    .dataframe thead th {\n",
       "        text-align: right;\n",
       "    }\n",
       "</style>\n",
       "<table border=\"1\" class=\"dataframe\">\n",
       "  <thead>\n",
       "    <tr style=\"text-align: right;\">\n",
       "      <th></th>\n",
       "      <th>userID</th>\n",
       "      <th>song_count</th>\n",
       "      <th>dist_song_count</th>\n",
       "      <th>dist_artist_count</th>\n",
       "      <th>session_count</th>\n",
       "      <th>downgrade_count</th>\n",
       "      <th>upgrade_count</th>\n",
       "      <th>churn</th>\n",
       "    </tr>\n",
       "  </thead>\n",
       "  <tbody>\n",
       "    <tr>\n",
       "      <th>0</th>\n",
       "      <td>100010</td>\n",
       "      <td>275</td>\n",
       "      <td>269</td>\n",
       "      <td>252</td>\n",
       "      <td>7</td>\n",
       "      <td>0</td>\n",
       "      <td>0</td>\n",
       "      <td>0</td>\n",
       "    </tr>\n",
       "    <tr>\n",
       "      <th>1</th>\n",
       "      <td>200002</td>\n",
       "      <td>387</td>\n",
       "      <td>378</td>\n",
       "      <td>339</td>\n",
       "      <td>6</td>\n",
       "      <td>0</td>\n",
       "      <td>1</td>\n",
       "      <td>0</td>\n",
       "    </tr>\n",
       "    <tr>\n",
       "      <th>2</th>\n",
       "      <td>125</td>\n",
       "      <td>8</td>\n",
       "      <td>8</td>\n",
       "      <td>8</td>\n",
       "      <td>1</td>\n",
       "      <td>0</td>\n",
       "      <td>0</td>\n",
       "      <td>1</td>\n",
       "    </tr>\n",
       "    <tr>\n",
       "      <th>3</th>\n",
       "      <td>51</td>\n",
       "      <td>2111</td>\n",
       "      <td>1854</td>\n",
       "      <td>1385</td>\n",
       "      <td>10</td>\n",
       "      <td>0</td>\n",
       "      <td>0</td>\n",
       "      <td>1</td>\n",
       "    </tr>\n",
       "    <tr>\n",
       "      <th>4</th>\n",
       "      <td>124</td>\n",
       "      <td>4079</td>\n",
       "      <td>3339</td>\n",
       "      <td>2232</td>\n",
       "      <td>29</td>\n",
       "      <td>0</td>\n",
       "      <td>0</td>\n",
       "      <td>0</td>\n",
       "    </tr>\n",
       "    <tr>\n",
       "      <th>5</th>\n",
       "      <td>7</td>\n",
       "      <td>150</td>\n",
       "      <td>148</td>\n",
       "      <td>142</td>\n",
       "      <td>7</td>\n",
       "      <td>0</td>\n",
       "      <td>0</td>\n",
       "      <td>0</td>\n",
       "    </tr>\n",
       "    <tr>\n",
       "      <th>6</th>\n",
       "      <td>54</td>\n",
       "      <td>2841</td>\n",
       "      <td>2414</td>\n",
       "      <td>1744</td>\n",
       "      <td>37</td>\n",
       "      <td>1</td>\n",
       "      <td>1</td>\n",
       "      <td>1</td>\n",
       "    </tr>\n",
       "    <tr>\n",
       "      <th>7</th>\n",
       "      <td>15</td>\n",
       "      <td>1914</td>\n",
       "      <td>1707</td>\n",
       "      <td>1302</td>\n",
       "      <td>15</td>\n",
       "      <td>0</td>\n",
       "      <td>0</td>\n",
       "      <td>0</td>\n",
       "    </tr>\n",
       "    <tr>\n",
       "      <th>8</th>\n",
       "      <td>155</td>\n",
       "      <td>820</td>\n",
       "      <td>759</td>\n",
       "      <td>643</td>\n",
       "      <td>6</td>\n",
       "      <td>0</td>\n",
       "      <td>1</td>\n",
       "      <td>0</td>\n",
       "    </tr>\n",
       "    <tr>\n",
       "      <th>9</th>\n",
       "      <td>132</td>\n",
       "      <td>1928</td>\n",
       "      <td>1718</td>\n",
       "      <td>1299</td>\n",
       "      <td>16</td>\n",
       "      <td>0</td>\n",
       "      <td>1</td>\n",
       "      <td>0</td>\n",
       "    </tr>\n",
       "  </tbody>\n",
       "</table>\n",
       "</div>"
      ],
      "text/plain": [
       "   userID  song_count  dist_song_count  dist_artist_count  session_count  \\\n",
       "0  100010         275              269                252              7   \n",
       "1  200002         387              378                339              6   \n",
       "2     125           8                8                  8              1   \n",
       "3      51        2111             1854               1385             10   \n",
       "4     124        4079             3339               2232             29   \n",
       "5       7         150              148                142              7   \n",
       "6      54        2841             2414               1744             37   \n",
       "7      15        1914             1707               1302             15   \n",
       "8     155         820              759                643              6   \n",
       "9     132        1928             1718               1299             16   \n",
       "\n",
       "   downgrade_count  upgrade_count  churn  \n",
       "0                0              0      0  \n",
       "1                0              1      0  \n",
       "2                0              0      1  \n",
       "3                0              0      1  \n",
       "4                0              0      0  \n",
       "5                0              0      0  \n",
       "6                1              1      1  \n",
       "7                0              0      0  \n",
       "8                0              1      0  \n",
       "9                0              1      0  "
      ]
     },
     "execution_count": 47,
     "metadata": {},
     "output_type": "execute_result"
    }
   ],
   "source": [
    "# let's look at the counts\n",
    "df_churn.iloc[:10,:8]"
   ]
  },
  {
   "cell_type": "code",
   "execution_count": 48,
   "metadata": {},
   "outputs": [
    {
     "data": {
      "text/html": [
       "<div>\n",
       "<style scoped>\n",
       "    .dataframe tbody tr th:only-of-type {\n",
       "        vertical-align: middle;\n",
       "    }\n",
       "\n",
       "    .dataframe tbody tr th {\n",
       "        vertical-align: top;\n",
       "    }\n",
       "\n",
       "    .dataframe thead th {\n",
       "        text-align: right;\n",
       "    }\n",
       "</style>\n",
       "<table border=\"1\" class=\"dataframe\">\n",
       "  <thead>\n",
       "    <tr style=\"text-align: right;\">\n",
       "      <th></th>\n",
       "      <th>churn</th>\n",
       "      <th>page_visits_home</th>\n",
       "      <th>page_visits_logout</th>\n",
       "      <th>page_visits_settings</th>\n",
       "      <th>page_visits_save_settings</th>\n",
       "      <th>page_visits_thumbs_down</th>\n",
       "      <th>page_visits_thumbs_up</th>\n",
       "      <th>page_visits_upgrade</th>\n",
       "      <th>page_visits_downgrade</th>\n",
       "      <th>page_visits_roll_advert</th>\n",
       "      <th>page_visits_about</th>\n",
       "      <th>page_visits_add_to_playlist</th>\n",
       "      <th>page_visits_add_friend</th>\n",
       "      <th>page_visits_help</th>\n",
       "      <th>page_visits_error</th>\n",
       "    </tr>\n",
       "  </thead>\n",
       "  <tbody>\n",
       "    <tr>\n",
       "      <th>0</th>\n",
       "      <td>0</td>\n",
       "      <td>11</td>\n",
       "      <td>5</td>\n",
       "      <td>0</td>\n",
       "      <td>0</td>\n",
       "      <td>5</td>\n",
       "      <td>17</td>\n",
       "      <td>2</td>\n",
       "      <td>0</td>\n",
       "      <td>52</td>\n",
       "      <td>1</td>\n",
       "      <td>7</td>\n",
       "      <td>4</td>\n",
       "      <td>2</td>\n",
       "      <td>0</td>\n",
       "    </tr>\n",
       "    <tr>\n",
       "      <th>1</th>\n",
       "      <td>0</td>\n",
       "      <td>20</td>\n",
       "      <td>5</td>\n",
       "      <td>3</td>\n",
       "      <td>0</td>\n",
       "      <td>6</td>\n",
       "      <td>21</td>\n",
       "      <td>2</td>\n",
       "      <td>5</td>\n",
       "      <td>7</td>\n",
       "      <td>3</td>\n",
       "      <td>8</td>\n",
       "      <td>4</td>\n",
       "      <td>2</td>\n",
       "      <td>0</td>\n",
       "    </tr>\n",
       "    <tr>\n",
       "      <th>2</th>\n",
       "      <td>1</td>\n",
       "      <td>0</td>\n",
       "      <td>0</td>\n",
       "      <td>0</td>\n",
       "      <td>0</td>\n",
       "      <td>0</td>\n",
       "      <td>0</td>\n",
       "      <td>0</td>\n",
       "      <td>0</td>\n",
       "      <td>1</td>\n",
       "      <td>0</td>\n",
       "      <td>0</td>\n",
       "      <td>0</td>\n",
       "      <td>0</td>\n",
       "      <td>0</td>\n",
       "    </tr>\n",
       "    <tr>\n",
       "      <th>3</th>\n",
       "      <td>1</td>\n",
       "      <td>75</td>\n",
       "      <td>24</td>\n",
       "      <td>12</td>\n",
       "      <td>1</td>\n",
       "      <td>21</td>\n",
       "      <td>100</td>\n",
       "      <td>0</td>\n",
       "      <td>23</td>\n",
       "      <td>0</td>\n",
       "      <td>2</td>\n",
       "      <td>52</td>\n",
       "      <td>28</td>\n",
       "      <td>12</td>\n",
       "      <td>1</td>\n",
       "    </tr>\n",
       "    <tr>\n",
       "      <th>4</th>\n",
       "      <td>0</td>\n",
       "      <td>176</td>\n",
       "      <td>59</td>\n",
       "      <td>20</td>\n",
       "      <td>6</td>\n",
       "      <td>41</td>\n",
       "      <td>171</td>\n",
       "      <td>0</td>\n",
       "      <td>41</td>\n",
       "      <td>4</td>\n",
       "      <td>7</td>\n",
       "      <td>118</td>\n",
       "      <td>74</td>\n",
       "      <td>23</td>\n",
       "      <td>6</td>\n",
       "    </tr>\n",
       "    <tr>\n",
       "      <th>5</th>\n",
       "      <td>0</td>\n",
       "      <td>10</td>\n",
       "      <td>3</td>\n",
       "      <td>3</td>\n",
       "      <td>1</td>\n",
       "      <td>1</td>\n",
       "      <td>7</td>\n",
       "      <td>2</td>\n",
       "      <td>0</td>\n",
       "      <td>16</td>\n",
       "      <td>0</td>\n",
       "      <td>5</td>\n",
       "      <td>1</td>\n",
       "      <td>1</td>\n",
       "      <td>1</td>\n",
       "    </tr>\n",
       "    <tr>\n",
       "      <th>6</th>\n",
       "      <td>1</td>\n",
       "      <td>129</td>\n",
       "      <td>36</td>\n",
       "      <td>17</td>\n",
       "      <td>3</td>\n",
       "      <td>29</td>\n",
       "      <td>163</td>\n",
       "      <td>1</td>\n",
       "      <td>39</td>\n",
       "      <td>47</td>\n",
       "      <td>5</td>\n",
       "      <td>72</td>\n",
       "      <td>33</td>\n",
       "      <td>17</td>\n",
       "      <td>1</td>\n",
       "    </tr>\n",
       "    <tr>\n",
       "      <th>7</th>\n",
       "      <td>0</td>\n",
       "      <td>93</td>\n",
       "      <td>27</td>\n",
       "      <td>16</td>\n",
       "      <td>2</td>\n",
       "      <td>14</td>\n",
       "      <td>81</td>\n",
       "      <td>0</td>\n",
       "      <td>28</td>\n",
       "      <td>1</td>\n",
       "      <td>2</td>\n",
       "      <td>59</td>\n",
       "      <td>31</td>\n",
       "      <td>8</td>\n",
       "      <td>2</td>\n",
       "    </tr>\n",
       "    <tr>\n",
       "      <th>8</th>\n",
       "      <td>0</td>\n",
       "      <td>30</td>\n",
       "      <td>14</td>\n",
       "      <td>5</td>\n",
       "      <td>0</td>\n",
       "      <td>3</td>\n",
       "      <td>58</td>\n",
       "      <td>2</td>\n",
       "      <td>12</td>\n",
       "      <td>8</td>\n",
       "      <td>2</td>\n",
       "      <td>24</td>\n",
       "      <td>11</td>\n",
       "      <td>9</td>\n",
       "      <td>3</td>\n",
       "    </tr>\n",
       "    <tr>\n",
       "      <th>9</th>\n",
       "      <td>0</td>\n",
       "      <td>83</td>\n",
       "      <td>34</td>\n",
       "      <td>17</td>\n",
       "      <td>4</td>\n",
       "      <td>17</td>\n",
       "      <td>96</td>\n",
       "      <td>1</td>\n",
       "      <td>19</td>\n",
       "      <td>2</td>\n",
       "      <td>4</td>\n",
       "      <td>38</td>\n",
       "      <td>41</td>\n",
       "      <td>16</td>\n",
       "      <td>3</td>\n",
       "    </tr>\n",
       "  </tbody>\n",
       "</table>\n",
       "</div>"
      ],
      "text/plain": [
       "   churn  page_visits_home  page_visits_logout  page_visits_settings  \\\n",
       "0      0                11                   5                     0   \n",
       "1      0                20                   5                     3   \n",
       "2      1                 0                   0                     0   \n",
       "3      1                75                  24                    12   \n",
       "4      0               176                  59                    20   \n",
       "5      0                10                   3                     3   \n",
       "6      1               129                  36                    17   \n",
       "7      0                93                  27                    16   \n",
       "8      0                30                  14                     5   \n",
       "9      0                83                  34                    17   \n",
       "\n",
       "   page_visits_save_settings  page_visits_thumbs_down  page_visits_thumbs_up  \\\n",
       "0                          0                        5                     17   \n",
       "1                          0                        6                     21   \n",
       "2                          0                        0                      0   \n",
       "3                          1                       21                    100   \n",
       "4                          6                       41                    171   \n",
       "5                          1                        1                      7   \n",
       "6                          3                       29                    163   \n",
       "7                          2                       14                     81   \n",
       "8                          0                        3                     58   \n",
       "9                          4                       17                     96   \n",
       "\n",
       "   page_visits_upgrade  page_visits_downgrade  page_visits_roll_advert  \\\n",
       "0                    2                      0                       52   \n",
       "1                    2                      5                        7   \n",
       "2                    0                      0                        1   \n",
       "3                    0                     23                        0   \n",
       "4                    0                     41                        4   \n",
       "5                    2                      0                       16   \n",
       "6                    1                     39                       47   \n",
       "7                    0                     28                        1   \n",
       "8                    2                     12                        8   \n",
       "9                    1                     19                        2   \n",
       "\n",
       "   page_visits_about  page_visits_add_to_playlist  page_visits_add_friend  \\\n",
       "0                  1                            7                       4   \n",
       "1                  3                            8                       4   \n",
       "2                  0                            0                       0   \n",
       "3                  2                           52                      28   \n",
       "4                  7                          118                      74   \n",
       "5                  0                            5                       1   \n",
       "6                  5                           72                      33   \n",
       "7                  2                           59                      31   \n",
       "8                  2                           24                      11   \n",
       "9                  4                           38                      41   \n",
       "\n",
       "   page_visits_help  page_visits_error  \n",
       "0                 2                  0  \n",
       "1                 2                  0  \n",
       "2                 0                  0  \n",
       "3                12                  1  \n",
       "4                23                  6  \n",
       "5                 1                  1  \n",
       "6                17                  1  \n",
       "7                 8                  2  \n",
       "8                 9                  3  \n",
       "9                16                  3  "
      ]
     },
     "execution_count": 48,
     "metadata": {},
     "output_type": "execute_result"
    }
   ],
   "source": [
    "# let's look at the page visits\n",
    "df_churn.iloc[:10,7:]"
   ]
  },
  {
   "cell_type": "markdown",
   "metadata": {},
   "source": [
    "As discussed before we will remove users, who churned in less than one week."
   ]
  },
  {
   "cell_type": "code",
   "execution_count": 49,
   "metadata": {},
   "outputs": [],
   "source": [
    "df_churn = df_churn[~df_churn.userID.isin(list_remove)]"
   ]
  },
  {
   "cell_type": "code",
   "execution_count": 50,
   "metadata": {},
   "outputs": [
    {
     "data": {
      "text/plain": [
       "array([[<matplotlib.axes._subplots.AxesSubplot object at 0x7f6700fb1a58>,\n",
       "        <matplotlib.axes._subplots.AxesSubplot object at 0x7f6700425160>,\n",
       "        <matplotlib.axes._subplots.AxesSubplot object at 0x7f6700fb5160>,\n",
       "        <matplotlib.axes._subplots.AxesSubplot object at 0x7f67004aa1d0>],\n",
       "       [<matplotlib.axes._subplots.AxesSubplot object at 0x7f6700482240>,\n",
       "        <matplotlib.axes._subplots.AxesSubplot object at 0x7f6700482470>,\n",
       "        <matplotlib.axes._subplots.AxesSubplot object at 0x7f6700577438>,\n",
       "        <matplotlib.axes._subplots.AxesSubplot object at 0x7f6700546860>],\n",
       "       [<matplotlib.axes._subplots.AxesSubplot object at 0x7f6700300630>,\n",
       "        <matplotlib.axes._subplots.AxesSubplot object at 0x7f670032d2b0>,\n",
       "        <matplotlib.axes._subplots.AxesSubplot object at 0x7f6700327a20>,\n",
       "        <matplotlib.axes._subplots.AxesSubplot object at 0x7f6700244588>],\n",
       "       [<matplotlib.axes._subplots.AxesSubplot object at 0x7f67004974a8>,\n",
       "        <matplotlib.axes._subplots.AxesSubplot object at 0x7f670034aa20>,\n",
       "        <matplotlib.axes._subplots.AxesSubplot object at 0x7f67003db128>,\n",
       "        <matplotlib.axes._subplots.AxesSubplot object at 0x7f6700473198>],\n",
       "       [<matplotlib.axes._subplots.AxesSubplot object at 0x7f670032e198>,\n",
       "        <matplotlib.axes._subplots.AxesSubplot object at 0x7f6700256198>,\n",
       "        <matplotlib.axes._subplots.AxesSubplot object at 0x7f670028cfd0>,\n",
       "        <matplotlib.axes._subplots.AxesSubplot object at 0x7f67005c3e48>]], dtype=object)"
      ]
     },
     "execution_count": 50,
     "metadata": {},
     "output_type": "execute_result"
    },
    {
     "data": {
      "image/png": "[encoded data removed]",
      "text/plain": [
       "<matplotlib.figure.Figure at 0x7f670042a048>"
      ]
     },
     "metadata": {
      "needs_background": "light"
     },
     "output_type": "display_data"
    }
   ],
   "source": [
    "df_churn.drop(columns = ['churn']).hist(figsize = (16,14))"
   ]
  },
  {
   "cell_type": "markdown",
   "metadata": {},
   "source": [
    "Let's rescale the statistics with the number of sessions."
   ]
  },
  {
   "cell_type": "code",
   "execution_count": 51,
   "metadata": {},
   "outputs": [],
   "source": [
    "df_div = df_churn.copy(deep = True)\n",
    "df_div.iloc[:,1:4] = df_div.iloc[:,1:4].div(df_div.session_count, axis=0)\n",
    "df_div.iloc[:,8:] = df_div.iloc[:,8:].div(df_div.session_count, axis=0)"
   ]
  },
  {
   "cell_type": "code",
   "execution_count": 52,
   "metadata": {},
   "outputs": [
    {
     "data": {
      "text/html": [
       "<div>\n",
       "<style scoped>\n",
       "    .dataframe tbody tr th:only-of-type {\n",
       "        vertical-align: middle;\n",
       "    }\n",
       "\n",
       "    .dataframe tbody tr th {\n",
       "        vertical-align: top;\n",
       "    }\n",
       "\n",
       "    .dataframe thead th {\n",
       "        text-align: right;\n",
       "    }\n",
       "</style>\n",
       "<table border=\"1\" class=\"dataframe\">\n",
       "  <thead>\n",
       "    <tr style=\"text-align: right;\">\n",
       "      <th></th>\n",
       "      <th>song_count</th>\n",
       "      <th>dist_song_count</th>\n",
       "      <th>dist_artist_count</th>\n",
       "      <th>session_count</th>\n",
       "      <th>downgrade_count</th>\n",
       "      <th>upgrade_count</th>\n",
       "      <th>churn</th>\n",
       "      <th>page_visits_home</th>\n",
       "      <th>page_visits_logout</th>\n",
       "      <th>page_visits_settings</th>\n",
       "      <th>...</th>\n",
       "      <th>page_visits_thumbs_down</th>\n",
       "      <th>page_visits_thumbs_up</th>\n",
       "      <th>page_visits_upgrade</th>\n",
       "      <th>page_visits_downgrade</th>\n",
       "      <th>page_visits_roll_advert</th>\n",
       "      <th>page_visits_about</th>\n",
       "      <th>page_visits_add_to_playlist</th>\n",
       "      <th>page_visits_add_friend</th>\n",
       "      <th>page_visits_help</th>\n",
       "      <th>page_visits_error</th>\n",
       "    </tr>\n",
       "  </thead>\n",
       "  <tbody>\n",
       "    <tr>\n",
       "      <th>count</th>\n",
       "      <td>211.000000</td>\n",
       "      <td>211.000000</td>\n",
       "      <td>211.000000</td>\n",
       "      <td>211.00000</td>\n",
       "      <td>211.000000</td>\n",
       "      <td>211.000000</td>\n",
       "      <td>211.000000</td>\n",
       "      <td>211.000000</td>\n",
       "      <td>211.000000</td>\n",
       "      <td>211.000000</td>\n",
       "      <td>...</td>\n",
       "      <td>211.000000</td>\n",
       "      <td>211.000000</td>\n",
       "      <td>211.000000</td>\n",
       "      <td>211.000000</td>\n",
       "      <td>211.000000</td>\n",
       "      <td>211.000000</td>\n",
       "      <td>211.000000</td>\n",
       "      <td>211.000000</td>\n",
       "      <td>211.000000</td>\n",
       "      <td>211.000000</td>\n",
       "    </tr>\n",
       "    <tr>\n",
       "      <th>mean</th>\n",
       "      <td>72.043244</td>\n",
       "      <td>66.232464</td>\n",
       "      <td>54.996462</td>\n",
       "      <td>14.92891</td>\n",
       "      <td>0.298578</td>\n",
       "      <td>0.753555</td>\n",
       "      <td>0.218009</td>\n",
       "      <td>3.234601</td>\n",
       "      <td>1.051545</td>\n",
       "      <td>0.499003</td>\n",
       "      <td>...</td>\n",
       "      <td>0.794146</td>\n",
       "      <td>3.853737</td>\n",
       "      <td>0.199056</td>\n",
       "      <td>0.598534</td>\n",
       "      <td>1.642088</td>\n",
       "      <td>0.162744</td>\n",
       "      <td>1.999003</td>\n",
       "      <td>1.396093</td>\n",
       "      <td>0.449686</td>\n",
       "      <td>0.087725</td>\n",
       "    </tr>\n",
       "    <tr>\n",
       "      <th>std</th>\n",
       "      <td>41.417794</td>\n",
       "      <td>36.941480</td>\n",
       "      <td>29.469223</td>\n",
       "      <td>14.76578</td>\n",
       "      <td>0.602335</td>\n",
       "      <td>0.734149</td>\n",
       "      <td>0.413876</td>\n",
       "      <td>1.525071</td>\n",
       "      <td>0.687516</td>\n",
       "      <td>0.420930</td>\n",
       "      <td>...</td>\n",
       "      <td>0.579493</td>\n",
       "      <td>2.237342</td>\n",
       "      <td>0.241285</td>\n",
       "      <td>0.577246</td>\n",
       "      <td>1.829017</td>\n",
       "      <td>0.203898</td>\n",
       "      <td>1.249258</td>\n",
       "      <td>0.883167</td>\n",
       "      <td>0.327990</td>\n",
       "      <td>0.131907</td>\n",
       "    </tr>\n",
       "    <tr>\n",
       "      <th>min</th>\n",
       "      <td>10.250000</td>\n",
       "      <td>10.250000</td>\n",
       "      <td>10.250000</td>\n",
       "      <td>1.00000</td>\n",
       "      <td>0.000000</td>\n",
       "      <td>0.000000</td>\n",
       "      <td>0.000000</td>\n",
       "      <td>0.500000</td>\n",
       "      <td>0.000000</td>\n",
       "      <td>0.000000</td>\n",
       "      <td>...</td>\n",
       "      <td>0.000000</td>\n",
       "      <td>0.333333</td>\n",
       "      <td>0.000000</td>\n",
       "      <td>0.000000</td>\n",
       "      <td>0.000000</td>\n",
       "      <td>0.000000</td>\n",
       "      <td>0.000000</td>\n",
       "      <td>0.000000</td>\n",
       "      <td>0.000000</td>\n",
       "      <td>0.000000</td>\n",
       "    </tr>\n",
       "    <tr>\n",
       "      <th>25%</th>\n",
       "      <td>40.738889</td>\n",
       "      <td>38.541667</td>\n",
       "      <td>33.248248</td>\n",
       "      <td>6.00000</td>\n",
       "      <td>0.000000</td>\n",
       "      <td>0.000000</td>\n",
       "      <td>0.000000</td>\n",
       "      <td>2.142857</td>\n",
       "      <td>0.714286</td>\n",
       "      <td>0.250000</td>\n",
       "      <td>...</td>\n",
       "      <td>0.426407</td>\n",
       "      <td>2.242647</td>\n",
       "      <td>0.040064</td>\n",
       "      <td>0.000000</td>\n",
       "      <td>0.300752</td>\n",
       "      <td>0.000000</td>\n",
       "      <td>1.000000</td>\n",
       "      <td>0.766968</td>\n",
       "      <td>0.246212</td>\n",
       "      <td>0.000000</td>\n",
       "    </tr>\n",
       "    <tr>\n",
       "      <th>50%</th>\n",
       "      <td>66.041667</td>\n",
       "      <td>60.500000</td>\n",
       "      <td>49.250000</td>\n",
       "      <td>11.00000</td>\n",
       "      <td>0.000000</td>\n",
       "      <td>1.000000</td>\n",
       "      <td>0.000000</td>\n",
       "      <td>3.000000</td>\n",
       "      <td>1.000000</td>\n",
       "      <td>0.428571</td>\n",
       "      <td>...</td>\n",
       "      <td>0.700000</td>\n",
       "      <td>3.583333</td>\n",
       "      <td>0.142857</td>\n",
       "      <td>0.476190</td>\n",
       "      <td>1.071429</td>\n",
       "      <td>0.125000</td>\n",
       "      <td>1.844828</td>\n",
       "      <td>1.290323</td>\n",
       "      <td>0.400000</td>\n",
       "      <td>0.047619</td>\n",
       "    </tr>\n",
       "    <tr>\n",
       "      <th>75%</th>\n",
       "      <td>91.961098</td>\n",
       "      <td>84.850000</td>\n",
       "      <td>67.747826</td>\n",
       "      <td>18.50000</td>\n",
       "      <td>0.000000</td>\n",
       "      <td>1.000000</td>\n",
       "      <td>0.000000</td>\n",
       "      <td>3.932018</td>\n",
       "      <td>1.250000</td>\n",
       "      <td>0.666667</td>\n",
       "      <td>...</td>\n",
       "      <td>1.000000</td>\n",
       "      <td>5.000000</td>\n",
       "      <td>0.276364</td>\n",
       "      <td>0.916084</td>\n",
       "      <td>2.477273</td>\n",
       "      <td>0.232051</td>\n",
       "      <td>2.628289</td>\n",
       "      <td>1.816667</td>\n",
       "      <td>0.594118</td>\n",
       "      <td>0.125000</td>\n",
       "    </tr>\n",
       "    <tr>\n",
       "      <th>max</th>\n",
       "      <td>286.666667</td>\n",
       "      <td>246.444444</td>\n",
       "      <td>197.000000</td>\n",
       "      <td>107.00000</td>\n",
       "      <td>3.000000</td>\n",
       "      <td>4.000000</td>\n",
       "      <td>1.000000</td>\n",
       "      <td>11.000000</td>\n",
       "      <td>8.000000</td>\n",
       "      <td>4.000000</td>\n",
       "      <td>...</td>\n",
       "      <td>3.466667</td>\n",
       "      <td>13.777778</td>\n",
       "      <td>2.000000</td>\n",
       "      <td>2.444444</td>\n",
       "      <td>14.000000</td>\n",
       "      <td>2.000000</td>\n",
       "      <td>8.000000</td>\n",
       "      <td>4.666667</td>\n",
       "      <td>2.000000</td>\n",
       "      <td>1.000000</td>\n",
       "    </tr>\n",
       "  </tbody>\n",
       "</table>\n",
       "<p>8 rows × 21 columns</p>\n",
       "</div>"
      ],
      "text/plain": [
       "       song_count  dist_song_count  dist_artist_count  session_count  \\\n",
       "count  211.000000       211.000000         211.000000      211.00000   \n",
       "mean    72.043244        66.232464          54.996462       14.92891   \n",
       "std     41.417794        36.941480          29.469223       14.76578   \n",
       "min     10.250000        10.250000          10.250000        1.00000   \n",
       "25%     40.738889        38.541667          33.248248        6.00000   \n",
       "50%     66.041667        60.500000          49.250000       11.00000   \n",
       "75%     91.961098        84.850000          67.747826       18.50000   \n",
       "max    286.666667       246.444444         197.000000      107.00000   \n",
       "\n",
       "       downgrade_count  upgrade_count       churn  page_visits_home  \\\n",
       "count       211.000000     211.000000  211.000000        211.000000   \n",
       "mean          0.298578       0.753555    0.218009          3.234601   \n",
       "std           0.602335       0.734149    0.413876          1.525071   \n",
       "min           0.000000       0.000000    0.000000          0.500000   \n",
       "25%           0.000000       0.000000    0.000000          2.142857   \n",
       "50%           0.000000       1.000000    0.000000          3.000000   \n",
       "75%           0.000000       1.000000    0.000000          3.932018   \n",
       "max           3.000000       4.000000    1.000000         11.000000   \n",
       "\n",
       "       page_visits_logout  page_visits_settings        ...          \\\n",
       "count          211.000000            211.000000        ...           \n",
       "mean             1.051545              0.499003        ...           \n",
       "std              0.687516              0.420930        ...           \n",
       "min              0.000000              0.000000        ...           \n",
       "25%              0.714286              0.250000        ...           \n",
       "50%              1.000000              0.428571        ...           \n",
       "75%              1.250000              0.666667        ...           \n",
       "max              8.000000              4.000000        ...           \n",
       "\n",
       "       page_visits_thumbs_down  page_visits_thumbs_up  page_visits_upgrade  \\\n",
       "count               211.000000             211.000000           211.000000   \n",
       "mean                  0.794146               3.853737             0.199056   \n",
       "std                   0.579493               2.237342             0.241285   \n",
       "min                   0.000000               0.333333             0.000000   \n",
       "25%                   0.426407               2.242647             0.040064   \n",
       "50%                   0.700000               3.583333             0.142857   \n",
       "75%                   1.000000               5.000000             0.276364   \n",
       "max                   3.466667              13.777778             2.000000   \n",
       "\n",
       "       page_visits_downgrade  page_visits_roll_advert  page_visits_about  \\\n",
       "count             211.000000               211.000000         211.000000   \n",
       "mean                0.598534                 1.642088           0.162744   \n",
       "std                 0.577246                 1.829017           0.203898   \n",
       "min                 0.000000                 0.000000           0.000000   \n",
       "25%                 0.000000                 0.300752           0.000000   \n",
       "50%                 0.476190                 1.071429           0.125000   \n",
       "75%                 0.916084                 2.477273           0.232051   \n",
       "max                 2.444444                14.000000           2.000000   \n",
       "\n",
       "       page_visits_add_to_playlist  page_visits_add_friend  page_visits_help  \\\n",
       "count                   211.000000              211.000000        211.000000   \n",
       "mean                      1.999003                1.396093          0.449686   \n",
       "std                       1.249258                0.883167          0.327990   \n",
       "min                       0.000000                0.000000          0.000000   \n",
       "25%                       1.000000                0.766968          0.246212   \n",
       "50%                       1.844828                1.290323          0.400000   \n",
       "75%                       2.628289                1.816667          0.594118   \n",
       "max                       8.000000                4.666667          2.000000   \n",
       "\n",
       "       page_visits_error  \n",
       "count         211.000000  \n",
       "mean            0.087725  \n",
       "std             0.131907  \n",
       "min             0.000000  \n",
       "25%             0.000000  \n",
       "50%             0.047619  \n",
       "75%             0.125000  \n",
       "max             1.000000  \n",
       "\n",
       "[8 rows x 21 columns]"
      ]
     },
     "execution_count": 52,
     "metadata": {},
     "output_type": "execute_result"
    }
   ],
   "source": [
    "df_div.describe()"
   ]
  },
  {
   "cell_type": "markdown",
   "metadata": {},
   "source": [
    "We will use StandardScaler to scale the parameters."
   ]
  },
  {
   "cell_type": "code",
   "execution_count": 53,
   "metadata": {},
   "outputs": [],
   "source": [
    "from sklearn.preprocessing import StandardScaler\n",
    "from sklearn.preprocessing import QuantileTransformer\n",
    "scaler = QuantileTransformer(n_quantiles = 1000, output_distribution = 'uniform')\n",
    "df_div.iloc[:,1:7] = scaler.fit_transform(df_div.iloc[:,1:7])\n",
    "df_div.iloc[:,8:] = scaler.fit_transform(df_div.iloc[:,8:])"
   ]
  },
  {
   "cell_type": "code",
   "execution_count": 54,
   "metadata": {},
   "outputs": [
    {
     "data": {
      "text/plain": [
       "array([[<matplotlib.axes._subplots.AxesSubplot object at 0x7f66f9efe588>,\n",
       "        <matplotlib.axes._subplots.AxesSubplot object at 0x7f66f1e06240>,\n",
       "        <matplotlib.axes._subplots.AxesSubplot object at 0x7f66f1dc0128>,\n",
       "        <matplotlib.axes._subplots.AxesSubplot object at 0x7f66f1dd9978>],\n",
       "       [<matplotlib.axes._subplots.AxesSubplot object at 0x7f66f1d1fcf8>,\n",
       "        <matplotlib.axes._subplots.AxesSubplot object at 0x7f66f1d1fd30>,\n",
       "        <matplotlib.axes._subplots.AxesSubplot object at 0x7f66f1c9c748>,\n",
       "        <matplotlib.axes._subplots.AxesSubplot object at 0x7f66f1cc2550>],\n",
       "       [<matplotlib.axes._subplots.AxesSubplot object at 0x7f66f1c847b8>,\n",
       "        <matplotlib.axes._subplots.AxesSubplot object at 0x7f66f1c3ab38>,\n",
       "        <matplotlib.axes._subplots.AxesSubplot object at 0x7f66f1bf3a58>,\n",
       "        <matplotlib.axes._subplots.AxesSubplot object at 0x7f66f1baea58>],\n",
       "       [<matplotlib.axes._subplots.AxesSubplot object at 0x7f66f1b64278>,\n",
       "        <matplotlib.axes._subplots.AxesSubplot object at 0x7f66f1b1e278>,\n",
       "        <matplotlib.axes._subplots.AxesSubplot object at 0x7f66f1ad5748>,\n",
       "        <matplotlib.axes._subplots.AxesSubplot object at 0x7f66f1b0ec88>],\n",
       "       [<matplotlib.axes._subplots.AxesSubplot object at 0x7f66f1b6cac8>,\n",
       "        <matplotlib.axes._subplots.AxesSubplot object at 0x7f66f1a7c278>,\n",
       "        <matplotlib.axes._subplots.AxesSubplot object at 0x7f66f1a352e8>,\n",
       "        <matplotlib.axes._subplots.AxesSubplot object at 0x7f66f19f12e8>]], dtype=object)"
      ]
     },
     "execution_count": 54,
     "metadata": {},
     "output_type": "execute_result"
    },
    {
     "data": {
      "image/png": "[encoded data removed]",
      "text/plain": [
       "<matplotlib.figure.Figure at 0x7f66f9e5d860>"
      ]
     },
     "metadata": {
      "needs_background": "light"
     },
     "output_type": "display_data"
    }
   ],
   "source": [
    "df_div.drop(columns = ['churn']).hist(figsize = (16,14))"
   ]
  },
  {
   "cell_type": "code",
   "execution_count": 55,
   "metadata": {},
   "outputs": [
    {
     "data": {
      "text/html": [
       "<div>\n",
       "<style scoped>\n",
       "    .dataframe tbody tr th:only-of-type {\n",
       "        vertical-align: middle;\n",
       "    }\n",
       "\n",
       "    .dataframe tbody tr th {\n",
       "        vertical-align: top;\n",
       "    }\n",
       "\n",
       "    .dataframe thead th {\n",
       "        text-align: right;\n",
       "    }\n",
       "</style>\n",
       "<table border=\"1\" class=\"dataframe\">\n",
       "  <thead>\n",
       "    <tr style=\"text-align: right;\">\n",
       "      <th></th>\n",
       "      <th>song_count</th>\n",
       "      <th>dist_song_count</th>\n",
       "      <th>dist_artist_count</th>\n",
       "      <th>session_count</th>\n",
       "      <th>downgrade_count</th>\n",
       "      <th>upgrade_count</th>\n",
       "      <th>churn</th>\n",
       "      <th>page_visits_home</th>\n",
       "      <th>page_visits_logout</th>\n",
       "      <th>page_visits_settings</th>\n",
       "      <th>...</th>\n",
       "      <th>page_visits_thumbs_down</th>\n",
       "      <th>page_visits_thumbs_up</th>\n",
       "      <th>page_visits_upgrade</th>\n",
       "      <th>page_visits_downgrade</th>\n",
       "      <th>page_visits_roll_advert</th>\n",
       "      <th>page_visits_about</th>\n",
       "      <th>page_visits_add_to_playlist</th>\n",
       "      <th>page_visits_add_friend</th>\n",
       "      <th>page_visits_help</th>\n",
       "      <th>page_visits_error</th>\n",
       "    </tr>\n",
       "  </thead>\n",
       "  <tbody>\n",
       "    <tr>\n",
       "      <th>count</th>\n",
       "      <td>2.110000e+02</td>\n",
       "      <td>2.110000e+02</td>\n",
       "      <td>2.110000e+02</td>\n",
       "      <td>2.110000e+02</td>\n",
       "      <td>2.110000e+02</td>\n",
       "      <td>2.110000e+02</td>\n",
       "      <td>211.000000</td>\n",
       "      <td>2.110000e+02</td>\n",
       "      <td>2.110000e+02</td>\n",
       "      <td>2.110000e+02</td>\n",
       "      <td>...</td>\n",
       "      <td>2.110000e+02</td>\n",
       "      <td>2.110000e+02</td>\n",
       "      <td>2.110000e+02</td>\n",
       "      <td>2.110000e+02</td>\n",
       "      <td>2.110000e+02</td>\n",
       "      <td>2.110000e+02</td>\n",
       "      <td>2.110000e+02</td>\n",
       "      <td>2.110000e+02</td>\n",
       "      <td>2.110000e+02</td>\n",
       "      <td>2.110000e+02</td>\n",
       "    </tr>\n",
       "    <tr>\n",
       "      <th>mean</th>\n",
       "      <td>4.999890e-01</td>\n",
       "      <td>4.999995e-01</td>\n",
       "      <td>5.000062e-01</td>\n",
       "      <td>4.996919e-01</td>\n",
       "      <td>2.056560e-01</td>\n",
       "      <td>4.287866e-01</td>\n",
       "      <td>0.218009</td>\n",
       "      <td>5.000080e-01</td>\n",
       "      <td>4.997232e-01</td>\n",
       "      <td>4.943060e-01</td>\n",
       "      <td>...</td>\n",
       "      <td>4.983189e-01</td>\n",
       "      <td>5.000105e-01</td>\n",
       "      <td>4.770950e-01</td>\n",
       "      <td>4.627445e-01</td>\n",
       "      <td>4.969105e-01</td>\n",
       "      <td>4.652525e-01</td>\n",
       "      <td>4.999564e-01</td>\n",
       "      <td>4.987365e-01</td>\n",
       "      <td>4.942798e-01</td>\n",
       "      <td>3.993524e-01</td>\n",
       "    </tr>\n",
       "    <tr>\n",
       "      <th>std</th>\n",
       "      <td>2.907290e-01</td>\n",
       "      <td>2.907313e-01</td>\n",
       "      <td>2.907326e-01</td>\n",
       "      <td>2.910068e-01</td>\n",
       "      <td>3.756292e-01</td>\n",
       "      <td>3.478958e-01</td>\n",
       "      <td>0.413876</td>\n",
       "      <td>2.906957e-01</td>\n",
       "      <td>2.908303e-01</td>\n",
       "      <td>2.995560e-01</td>\n",
       "      <td>...</td>\n",
       "      <td>2.934511e-01</td>\n",
       "      <td>2.907200e-01</td>\n",
       "      <td>3.228376e-01</td>\n",
       "      <td>3.372508e-01</td>\n",
       "      <td>2.957166e-01</td>\n",
       "      <td>3.346957e-01</td>\n",
       "      <td>2.907645e-01</td>\n",
       "      <td>2.927962e-01</td>\n",
       "      <td>2.995798e-01</td>\n",
       "      <td>3.811742e-01</td>\n",
       "    </tr>\n",
       "    <tr>\n",
       "      <th>min</th>\n",
       "      <td>1.000000e-07</td>\n",
       "      <td>1.000000e-07</td>\n",
       "      <td>1.000000e-07</td>\n",
       "      <td>1.000000e-07</td>\n",
       "      <td>1.000000e-07</td>\n",
       "      <td>1.000000e-07</td>\n",
       "      <td>0.000000</td>\n",
       "      <td>1.000000e-07</td>\n",
       "      <td>1.000000e-07</td>\n",
       "      <td>1.000000e-07</td>\n",
       "      <td>...</td>\n",
       "      <td>1.000000e-07</td>\n",
       "      <td>1.000000e-07</td>\n",
       "      <td>1.000000e-07</td>\n",
       "      <td>1.000000e-07</td>\n",
       "      <td>1.000000e-07</td>\n",
       "      <td>1.000000e-07</td>\n",
       "      <td>1.000000e-07</td>\n",
       "      <td>1.000000e-07</td>\n",
       "      <td>1.000000e-07</td>\n",
       "      <td>1.000000e-07</td>\n",
       "    </tr>\n",
       "    <tr>\n",
       "      <th>25%</th>\n",
       "      <td>2.501012e-01</td>\n",
       "      <td>2.499478e-01</td>\n",
       "      <td>2.498456e-01</td>\n",
       "      <td>2.262262e-01</td>\n",
       "      <td>1.000000e-07</td>\n",
       "      <td>1.000000e-07</td>\n",
       "      <td>0.000000</td>\n",
       "      <td>2.502503e-01</td>\n",
       "      <td>2.502503e-01</td>\n",
       "      <td>2.497497e-01</td>\n",
       "      <td>...</td>\n",
       "      <td>2.510052e-01</td>\n",
       "      <td>2.500869e-01</td>\n",
       "      <td>2.498745e-01</td>\n",
       "      <td>1.000000e-07</td>\n",
       "      <td>2.499288e-01</td>\n",
       "      <td>1.000000e-07</td>\n",
       "      <td>2.167167e-01</td>\n",
       "      <td>2.501151e-01</td>\n",
       "      <td>2.559076e-01</td>\n",
       "      <td>1.000000e-07</td>\n",
       "    </tr>\n",
       "    <tr>\n",
       "      <th>50%</th>\n",
       "      <td>4.996663e-01</td>\n",
       "      <td>4.995841e-01</td>\n",
       "      <td>4.997366e-01</td>\n",
       "      <td>5.165165e-01</td>\n",
       "      <td>1.000000e-07</td>\n",
       "      <td>6.406406e-01</td>\n",
       "      <td>0.000000</td>\n",
       "      <td>5.240240e-01</td>\n",
       "      <td>5.355355e-01</td>\n",
       "      <td>5.070070e-01</td>\n",
       "      <td>...</td>\n",
       "      <td>5.025025e-01</td>\n",
       "      <td>5.002555e-01</td>\n",
       "      <td>5.025025e-01</td>\n",
       "      <td>4.974975e-01</td>\n",
       "      <td>5.001124e-01</td>\n",
       "      <td>4.974975e-01</td>\n",
       "      <td>4.999827e-01</td>\n",
       "      <td>4.998364e-01</td>\n",
       "      <td>5.025025e-01</td>\n",
       "      <td>5.025025e-01</td>\n",
       "    </tr>\n",
       "    <tr>\n",
       "      <th>75%</th>\n",
       "      <td>7.497637e-01</td>\n",
       "      <td>7.511496e-01</td>\n",
       "      <td>7.498585e-01</td>\n",
       "      <td>7.510010e-01</td>\n",
       "      <td>1.000000e-07</td>\n",
       "      <td>6.406406e-01</td>\n",
       "      <td>0.000000</td>\n",
       "      <td>7.499274e-01</td>\n",
       "      <td>7.427427e-01</td>\n",
       "      <td>7.502503e-01</td>\n",
       "      <td>...</td>\n",
       "      <td>7.217217e-01</td>\n",
       "      <td>7.452452e-01</td>\n",
       "      <td>7.488403e-01</td>\n",
       "      <td>7.500634e-01</td>\n",
       "      <td>7.511099e-01</td>\n",
       "      <td>7.500733e-01</td>\n",
       "      <td>7.500981e-01</td>\n",
       "      <td>7.487487e-01</td>\n",
       "      <td>7.523139e-01</td>\n",
       "      <td>7.572573e-01</td>\n",
       "    </tr>\n",
       "    <tr>\n",
       "      <th>max</th>\n",
       "      <td>9.999999e-01</td>\n",
       "      <td>9.999999e-01</td>\n",
       "      <td>9.999999e-01</td>\n",
       "      <td>9.999999e-01</td>\n",
       "      <td>9.999999e-01</td>\n",
       "      <td>9.999999e-01</td>\n",
       "      <td>1.000000</td>\n",
       "      <td>9.999999e-01</td>\n",
       "      <td>9.999999e-01</td>\n",
       "      <td>9.999999e-01</td>\n",
       "      <td>...</td>\n",
       "      <td>9.999999e-01</td>\n",
       "      <td>9.999999e-01</td>\n",
       "      <td>9.999999e-01</td>\n",
       "      <td>9.999999e-01</td>\n",
       "      <td>9.999999e-01</td>\n",
       "      <td>9.999999e-01</td>\n",
       "      <td>9.999999e-01</td>\n",
       "      <td>9.999999e-01</td>\n",
       "      <td>9.999999e-01</td>\n",
       "      <td>9.999999e-01</td>\n",
       "    </tr>\n",
       "  </tbody>\n",
       "</table>\n",
       "<p>8 rows × 21 columns</p>\n",
       "</div>"
      ],
      "text/plain": [
       "         song_count  dist_song_count  dist_artist_count  session_count  \\\n",
       "count  2.110000e+02     2.110000e+02       2.110000e+02   2.110000e+02   \n",
       "mean   4.999890e-01     4.999995e-01       5.000062e-01   4.996919e-01   \n",
       "std    2.907290e-01     2.907313e-01       2.907326e-01   2.910068e-01   \n",
       "min    1.000000e-07     1.000000e-07       1.000000e-07   1.000000e-07   \n",
       "25%    2.501012e-01     2.499478e-01       2.498456e-01   2.262262e-01   \n",
       "50%    4.996663e-01     4.995841e-01       4.997366e-01   5.165165e-01   \n",
       "75%    7.497637e-01     7.511496e-01       7.498585e-01   7.510010e-01   \n",
       "max    9.999999e-01     9.999999e-01       9.999999e-01   9.999999e-01   \n",
       "\n",
       "       downgrade_count  upgrade_count       churn  page_visits_home  \\\n",
       "count     2.110000e+02   2.110000e+02  211.000000      2.110000e+02   \n",
       "mean      2.056560e-01   4.287866e-01    0.218009      5.000080e-01   \n",
       "std       3.756292e-01   3.478958e-01    0.413876      2.906957e-01   \n",
       "min       1.000000e-07   1.000000e-07    0.000000      1.000000e-07   \n",
       "25%       1.000000e-07   1.000000e-07    0.000000      2.502503e-01   \n",
       "50%       1.000000e-07   6.406406e-01    0.000000      5.240240e-01   \n",
       "75%       1.000000e-07   6.406406e-01    0.000000      7.499274e-01   \n",
       "max       9.999999e-01   9.999999e-01    1.000000      9.999999e-01   \n",
       "\n",
       "       page_visits_logout  page_visits_settings        ...          \\\n",
       "count        2.110000e+02          2.110000e+02        ...           \n",
       "mean         4.997232e-01          4.943060e-01        ...           \n",
       "std          2.908303e-01          2.995560e-01        ...           \n",
       "min          1.000000e-07          1.000000e-07        ...           \n",
       "25%          2.502503e-01          2.497497e-01        ...           \n",
       "50%          5.355355e-01          5.070070e-01        ...           \n",
       "75%          7.427427e-01          7.502503e-01        ...           \n",
       "max          9.999999e-01          9.999999e-01        ...           \n",
       "\n",
       "       page_visits_thumbs_down  page_visits_thumbs_up  page_visits_upgrade  \\\n",
       "count             2.110000e+02           2.110000e+02         2.110000e+02   \n",
       "mean              4.983189e-01           5.000105e-01         4.770950e-01   \n",
       "std               2.934511e-01           2.907200e-01         3.228376e-01   \n",
       "min               1.000000e-07           1.000000e-07         1.000000e-07   \n",
       "25%               2.510052e-01           2.500869e-01         2.498745e-01   \n",
       "50%               5.025025e-01           5.002555e-01         5.025025e-01   \n",
       "75%               7.217217e-01           7.452452e-01         7.488403e-01   \n",
       "max               9.999999e-01           9.999999e-01         9.999999e-01   \n",
       "\n",
       "       page_visits_downgrade  page_visits_roll_advert  page_visits_about  \\\n",
       "count           2.110000e+02             2.110000e+02       2.110000e+02   \n",
       "mean            4.627445e-01             4.969105e-01       4.652525e-01   \n",
       "std             3.372508e-01             2.957166e-01       3.346957e-01   \n",
       "min             1.000000e-07             1.000000e-07       1.000000e-07   \n",
       "25%             1.000000e-07             2.499288e-01       1.000000e-07   \n",
       "50%             4.974975e-01             5.001124e-01       4.974975e-01   \n",
       "75%             7.500634e-01             7.511099e-01       7.500733e-01   \n",
       "max             9.999999e-01             9.999999e-01       9.999999e-01   \n",
       "\n",
       "       page_visits_add_to_playlist  page_visits_add_friend  page_visits_help  \\\n",
       "count                 2.110000e+02            2.110000e+02      2.110000e+02   \n",
       "mean                  4.999564e-01            4.987365e-01      4.942798e-01   \n",
       "std                   2.907645e-01            2.927962e-01      2.995798e-01   \n",
       "min                   1.000000e-07            1.000000e-07      1.000000e-07   \n",
       "25%                   2.167167e-01            2.501151e-01      2.559076e-01   \n",
       "50%                   4.999827e-01            4.998364e-01      5.025025e-01   \n",
       "75%                   7.500981e-01            7.487487e-01      7.523139e-01   \n",
       "max                   9.999999e-01            9.999999e-01      9.999999e-01   \n",
       "\n",
       "       page_visits_error  \n",
       "count       2.110000e+02  \n",
       "mean        3.993524e-01  \n",
       "std         3.811742e-01  \n",
       "min         1.000000e-07  \n",
       "25%         1.000000e-07  \n",
       "50%         5.025025e-01  \n",
       "75%         7.572573e-01  \n",
       "max         9.999999e-01  \n",
       "\n",
       "[8 rows x 21 columns]"
      ]
     },
     "execution_count": 55,
     "metadata": {},
     "output_type": "execute_result"
    }
   ],
   "source": [
    "df_div.describe()"
   ]
  },
  {
   "cell_type": "markdown",
   "metadata": {},
   "source": [
    "# Modeling\n",
    "Split the full dataset into train, test, and validation sets. Test out several of the machine learning methods you learned. Evaluate the accuracy of the various models, tuning parameters as necessary. Determine your winning model based on test accuracy and report results on the validation set. Since the churned users are a fairly small subset, I suggest using F1 score as the metric to optimize."
   ]
  },
  {
   "cell_type": "markdown",
   "metadata": {},
   "source": [
    "### 1. Supervised learning\n",
    "Supervised learning algorithms train classifiers based on known input - output pairs. To evaluate the results the data must be split into training and testing data. To comapre different models we will use validation data."
   ]
  },
  {
   "cell_type": "code",
   "execution_count": 56,
   "metadata": {},
   "outputs": [],
   "source": [
    "# the number of users is low and the number of those who churned even lower\n",
    "# let's repeat the splitting as long as we don't have at least 20% of churned users in both test and validate datasets\n",
    "train, validate, test = np.split(df_div.sample(frac=1), [int(.6*len(df_div)), int(.8*len(df_div))])\n",
    "while (len(validate[validate['churn']==1]) < len(df_div[df_div['churn']==1]) // 5) or \\\n",
    "        (len(test[test['churn']==1]) < len(df_div[df_div['churn']==1]) // 5) or \\\n",
    "        (len(test[test['churn']==1]) != len(validate[validate['churn']==1])):\n",
    "        train, validate, test = np.split(df_div.sample(frac=1), [int(.6*len(df_div)), int(.8*len(df_div))])"
   ]
  },
  {
   "cell_type": "code",
   "execution_count": 57,
   "metadata": {},
   "outputs": [],
   "source": [
    "X_val = validate.drop(columns = ['userID', 'churn'])\n",
    "y_val = validate['churn']\n",
    "\n",
    "X_test = test.drop(columns = ['userID', 'churn'])\n",
    "y_test = test['churn']\n",
    "\n",
    "X_train = train.drop(columns = ['userID', 'churn'])\n",
    "y_train = train['churn']"
   ]
  },
  {
   "cell_type": "markdown",
   "metadata": {},
   "source": [
    "We are dealing with imbalanced classes here. One way to account for that would be to downsample the majority class. This is  an easy way to balance data, but it also reduces the variability in the majority class and therefore the classifiers may be biased. For this reason we will upsample the minority class in the training data."
   ]
  },
  {
   "cell_type": "code",
   "execution_count": 58,
   "metadata": {},
   "outputs": [],
   "source": [
    "X_train = X_train.append(X_train[y_train == 1]).append(X_train[y_train == 1]).append(X_train[y_train == 1])\n",
    "y_train = y_train.append(y_train[y_train == 1]).append(y_train[y_train == 1]).append(y_train[y_train == 1])"
   ]
  },
  {
   "cell_type": "markdown",
   "metadata": {},
   "source": [
    "#### 1.1. Decision Tree"
   ]
  },
  {
   "cell_type": "code",
   "execution_count": 59,
   "metadata": {},
   "outputs": [],
   "source": [
    "from sklearn import tree\n"
   ]
  },
  {
   "cell_type": "code",
   "execution_count": 60,
   "metadata": {},
   "outputs": [],
   "source": [
    "tree_clf = tree.DecisionTreeClassifier(random_state=42)\n",
    "ts = time.time()\n",
    "tree_clf.fit(X_train, y_train)\n",
    "tree_train_time = time.time() - ts"
   ]
  },
  {
   "cell_type": "code",
   "execution_count": 61,
   "metadata": {},
   "outputs": [],
   "source": [
    "ts = time.time()\n",
    "y_pred_tree = tree_clf.predict(X_test)\n",
    "tree_predict_time = time.time() - ts"
   ]
  },
  {
   "cell_type": "code",
   "execution_count": 62,
   "metadata": {},
   "outputs": [],
   "source": [
    "from sklearn.metrics import f1_score, precision_score, recall_score, confusion_matrix"
   ]
  },
  {
   "cell_type": "code",
   "execution_count": 63,
   "metadata": {},
   "outputs": [
    {
     "name": "stdout",
     "output_type": "stream",
     "text": [
      "Decision tree metrics:\n",
      " f1: 0.11764705882352941\n",
      " precision: 0.125\n",
      " recall: 0.1111111111111111\n"
     ]
    }
   ],
   "source": [
    "f1_tree = f1_score(y_test, y_pred_tree)\n",
    "precision_tree = precision_score(y_test, y_pred_tree)\n",
    "recall_tree = recall_score(y_test, y_pred_tree)\n",
    "print('Decision tree metrics:\\n f1: {}\\n precision: {}\\n recall: {}'.format(f1_tree, precision_tree, recall_tree))"
   ]
  },
  {
   "cell_type": "code",
   "execution_count": 64,
   "metadata": {},
   "outputs": [
    {
     "data": {
      "text/plain": [
       "Text(0,0.5,'True')"
      ]
     },
     "execution_count": 64,
     "metadata": {},
     "output_type": "execute_result"
    },
    {
     "data": {
      "image/png": "[encoded data removed]",
      "text/plain": [
       "<matplotlib.figure.Figure at 0x7f66efebef98>"
      ]
     },
     "metadata": {
      "needs_background": "light"
     },
     "output_type": "display_data"
    }
   ],
   "source": [
    "tree_conf_mat = confusion_matrix(y_test, y_pred_tree).astype('float64') \n",
    "plt.matshow(tree_conf_mat, cmap=plt.cm.bwr)\n",
    "plt.colorbar()\n",
    "plt.xlabel('Predicted')\n",
    "plt.ylabel('True')"
   ]
  },
  {
   "cell_type": "markdown",
   "metadata": {},
   "source": [
    "#### 1.2. Bagging algorithm: Random Forest\n",
    "Random Forest creates multiple decision trees and counts their outputs as votes to classify a given data point."
   ]
  },
  {
   "cell_type": "code",
   "execution_count": 65,
   "metadata": {},
   "outputs": [],
   "source": [
    "from sklearn.ensemble import RandomForestClassifier"
   ]
  },
  {
   "cell_type": "code",
   "execution_count": 66,
   "metadata": {},
   "outputs": [],
   "source": [
    "rf_clf = RandomForestClassifier(random_state = 42)\n",
    "ts = time.time()\n",
    "rf_clf.fit(X_train, y_train)\n",
    "rf_train_time = time.time() - ts"
   ]
  },
  {
   "cell_type": "code",
   "execution_count": 67,
   "metadata": {},
   "outputs": [],
   "source": [
    "ts = time.time()\n",
    "y_pred_rf = rf_clf.predict(X_test)\n",
    "rf_predict_time = time.time() - ts"
   ]
  },
  {
   "cell_type": "code",
   "execution_count": 68,
   "metadata": {},
   "outputs": [
    {
     "name": "stdout",
     "output_type": "stream",
     "text": [
      "Random forest metrics:\n",
      " f1: 0.14285714285714285\n",
      " precision: 0.2\n",
      " recall: 0.1111111111111111\n"
     ]
    }
   ],
   "source": [
    "f1_rf = f1_score(y_test, y_pred_rf)\n",
    "precision_rf = precision_score(y_test, y_pred_rf)\n",
    "recall_rf = recall_score(y_test, y_pred_rf)\n",
    "print('Random forest metrics:\\n f1: {}\\n precision: {}\\n recall: {}'.format(f1_rf, precision_rf, recall_rf))"
   ]
  },
  {
   "cell_type": "code",
   "execution_count": 69,
   "metadata": {},
   "outputs": [
    {
     "data": {
      "text/plain": [
       "Text(0,0.5,'True')"
      ]
     },
     "execution_count": 69,
     "metadata": {},
     "output_type": "execute_result"
    },
    {
     "data": {
      "image/png": "[encoded data removed]",
      "text/plain": [
       "<matplotlib.figure.Figure at 0x7f66ef327fd0>"
      ]
     },
     "metadata": {
      "needs_background": "light"
     },
     "output_type": "display_data"
    }
   ],
   "source": [
    "rf_conf_mat = confusion_matrix(y_test, y_pred_rf).astype('float64') \n",
    "plt.matshow(rf_conf_mat, cmap=plt.cm.bwr)\n",
    "plt.colorbar()\n",
    "plt.xlabel('Predicted')\n",
    "plt.ylabel('True')"
   ]
  },
  {
   "cell_type": "markdown",
   "metadata": {},
   "source": [
    "#### 1.3. Boosting algorithm: AdaBoost"
   ]
  },
  {
   "cell_type": "code",
   "execution_count": 70,
   "metadata": {},
   "outputs": [],
   "source": [
    "from sklearn.ensemble import AdaBoostClassifier"
   ]
  },
  {
   "cell_type": "code",
   "execution_count": 71,
   "metadata": {},
   "outputs": [],
   "source": [
    "ada_clf = AdaBoostClassifier(random_state = 42)\n",
    "ts = time.time()\n",
    "ada_clf.fit(X_train, y_train)\n",
    "ada_train_time = time.time() - ts"
   ]
  },
  {
   "cell_type": "code",
   "execution_count": 72,
   "metadata": {},
   "outputs": [],
   "source": [
    "ts = time.time()\n",
    "y_pred_ada = ada_clf.predict(X_test)\n",
    "ada_predict_time = time.time() - ts"
   ]
  },
  {
   "cell_type": "code",
   "execution_count": 73,
   "metadata": {},
   "outputs": [
    {
     "name": "stdout",
     "output_type": "stream",
     "text": [
      "AdaBoost metrics:\n",
      " f1: 0.13333333333333333\n",
      " precision: 0.16666666666666666\n",
      " recall: 0.1111111111111111\n"
     ]
    }
   ],
   "source": [
    "f1_ada = f1_score(y_test, y_pred_ada)\n",
    "precision_ada = precision_score(y_test, y_pred_ada)\n",
    "recall_ada = recall_score(y_test, y_pred_ada)\n",
    "print('AdaBoost metrics:\\n f1: {}\\n precision: {}\\n recall: {}'.format(f1_ada, precision_ada, recall_ada))"
   ]
  },
  {
   "cell_type": "code",
   "execution_count": 74,
   "metadata": {},
   "outputs": [
    {
     "data": {
      "text/plain": [
       "Text(0,0.5,'True')"
      ]
     },
     "execution_count": 74,
     "metadata": {},
     "output_type": "execute_result"
    },
    {
     "data": {
      "image/png": "[encoded data removed]",
      "text/plain": [
       "<matplotlib.figure.Figure at 0x7f66ef3426d8>"
      ]
     },
     "metadata": {
      "needs_background": "light"
     },
     "output_type": "display_data"
    }
   ],
   "source": [
    "ada_conf_mat = confusion_matrix(y_test, y_pred_ada).astype('float64') \n",
    "plt.matshow(ada_conf_mat, cmap=plt.cm.bwr)\n",
    "plt.colorbar()\n",
    "plt.xlabel('Predicted')\n",
    "plt.ylabel('True')"
   ]
  },
  {
   "cell_type": "markdown",
   "metadata": {},
   "source": [
    "#### 1.4. Neural Network: Multi-Layer Perceptron"
   ]
  },
  {
   "cell_type": "code",
   "execution_count": 75,
   "metadata": {},
   "outputs": [],
   "source": [
    "from sklearn.neural_network import MLPClassifier"
   ]
  },
  {
   "cell_type": "code",
   "execution_count": 76,
   "metadata": {},
   "outputs": [],
   "source": [
    "mlp_clf = MLPClassifier(hidden_layer_sizes=(7), random_state = 42, early_stopping = True)\n",
    "ts = time.time()\n",
    "mlp_clf.fit(X_train, y_train)\n",
    "mlp_train_time = time.time() - ts"
   ]
  },
  {
   "cell_type": "code",
   "execution_count": 77,
   "metadata": {},
   "outputs": [],
   "source": [
    "ts = time.time()\n",
    "y_pred_mlp = mlp_clf.predict(X_test)\n",
    "mlp_predict_time = time.time() - ts"
   ]
  },
  {
   "cell_type": "code",
   "execution_count": 78,
   "metadata": {},
   "outputs": [
    {
     "name": "stdout",
     "output_type": "stream",
     "text": [
      "Multi-Layer Perceptron metrics:\n",
      " f1: 0.3461538461538462\n",
      " precision: 0.20930232558139536\n",
      " recall: 1.0\n"
     ]
    }
   ],
   "source": [
    "f1_mlp = f1_score(y_test, y_pred_mlp)\n",
    "precision_mlp = precision_score(y_test, y_pred_mlp)\n",
    "recall_mlp = recall_score(y_test, y_pred_mlp)\n",
    "print('Multi-Layer Perceptron metrics:\\n f1: {}\\n precision: {}\\n recall: {}'.format(f1_mlp, precision_mlp, recall_mlp))"
   ]
  },
  {
   "cell_type": "code",
   "execution_count": 79,
   "metadata": {},
   "outputs": [
    {
     "data": {
      "text/plain": [
       "Text(0,0.5,'True')"
      ]
     },
     "execution_count": 79,
     "metadata": {},
     "output_type": "execute_result"
    },
    {
     "data": {
      "image/png": "[encoded data removed]",
      "text/plain": [
       "<matplotlib.figure.Figure at 0x7f66ef1bcb00>"
      ]
     },
     "metadata": {
      "needs_background": "light"
     },
     "output_type": "display_data"
    }
   ],
   "source": [
    "mlp_conf_mat = confusion_matrix(y_test, y_pred_mlp).astype('float64') \n",
    "plt.matshow(mlp_conf_mat, cmap=plt.cm.bwr)\n",
    "plt.colorbar()\n",
    "plt.xlabel('Predicted')\n",
    "plt.ylabel('True')"
   ]
  },
  {
   "cell_type": "markdown",
   "metadata": {},
   "source": [
    "#### 1.5. Gaussian Naive Bayes"
   ]
  },
  {
   "cell_type": "code",
   "execution_count": 80,
   "metadata": {},
   "outputs": [],
   "source": [
    "from sklearn.naive_bayes import GaussianNB"
   ]
  },
  {
   "cell_type": "code",
   "execution_count": 81,
   "metadata": {},
   "outputs": [],
   "source": [
    "gnb_clf = GaussianNB()\n",
    "ts = time.time()\n",
    "gnb_clf.fit(X_train, y_train)\n",
    "gnb_train_time = time.time() - ts"
   ]
  },
  {
   "cell_type": "code",
   "execution_count": 82,
   "metadata": {},
   "outputs": [],
   "source": [
    "ts = time.time()\n",
    "y_pred_gnb = gnb_clf.predict(X_test)\n",
    "gnb_predict_time = time.time() - ts"
   ]
  },
  {
   "cell_type": "code",
   "execution_count": 83,
   "metadata": {},
   "outputs": [
    {
     "name": "stdout",
     "output_type": "stream",
     "text": [
      "Gaussian naive bayes metrics:\n",
      " f1: 0.36363636363636365\n",
      " precision: 0.25\n",
      " recall: 0.6666666666666666\n"
     ]
    }
   ],
   "source": [
    "f1_gnb = f1_score(y_test, y_pred_gnb)\n",
    "precision_gnb = precision_score(y_test, y_pred_gnb)\n",
    "recall_gnb = recall_score(y_test, y_pred_gnb)\n",
    "print('Gaussian naive bayes metrics:\\n f1: {}\\n precision: {}\\n recall: {}'.format(f1_gnb, precision_gnb, recall_gnb))"
   ]
  },
  {
   "cell_type": "code",
   "execution_count": 84,
   "metadata": {},
   "outputs": [
    {
     "data": {
      "text/plain": [
       "Text(0,0.5,'True')"
      ]
     },
     "execution_count": 84,
     "metadata": {},
     "output_type": "execute_result"
    },
    {
     "data": {
      "image/png": "[encoded data removed]",
      "text/plain": [
       "<matplotlib.figure.Figure at 0x7f66ef0eabe0>"
      ]
     },
     "metadata": {
      "needs_background": "light"
     },
     "output_type": "display_data"
    }
   ],
   "source": [
    "gnb_conf_mat = confusion_matrix(y_test, y_pred_gnb).astype('float64') \n",
    "plt.matshow(gnb_conf_mat, cmap=plt.cm.bwr)\n",
    "plt.colorbar()\n",
    "plt.xlabel('Predicted')\n",
    "plt.ylabel('True')"
   ]
  },
  {
   "cell_type": "markdown",
   "metadata": {},
   "source": [
    "#### 1.6. Linear Support Vector Classification"
   ]
  },
  {
   "cell_type": "code",
   "execution_count": 85,
   "metadata": {},
   "outputs": [],
   "source": [
    "from sklearn.svm import LinearSVC"
   ]
  },
  {
   "cell_type": "code",
   "execution_count": 86,
   "metadata": {},
   "outputs": [],
   "source": [
    "svc_clf = LinearSVC(random_state = 42, class_weight='balanced')\n",
    "ts = time.time()\n",
    "svc_clf.fit(X_train, y_train)\n",
    "svc_train_time = time.time() - ts"
   ]
  },
  {
   "cell_type": "code",
   "execution_count": 87,
   "metadata": {},
   "outputs": [],
   "source": [
    "ts = time.time()\n",
    "y_pred_svc = svc_clf.predict(X_test)\n",
    "svc_predict_time = time.time() - ts"
   ]
  },
  {
   "cell_type": "code",
   "execution_count": 88,
   "metadata": {},
   "outputs": [
    {
     "name": "stdout",
     "output_type": "stream",
     "text": [
      "Linear Support Vector Classification metrics:\n",
      " f1: 0.3636363636363637\n",
      " precision: 0.3076923076923077\n",
      " recall: 0.4444444444444444\n"
     ]
    }
   ],
   "source": [
    "f1_svc = f1_score(y_test, y_pred_svc)\n",
    "precision_svc = precision_score(y_test, y_pred_svc)\n",
    "recall_svc = recall_score(y_test, y_pred_svc)\n",
    "print('Linear Support Vector Classification metrics:\\n f1: {}\\n precision: {}\\n recall: {}'.format(f1_svc, precision_svc, recall_svc))"
   ]
  },
  {
   "cell_type": "code",
   "execution_count": 89,
   "metadata": {},
   "outputs": [
    {
     "data": {
      "text/plain": [
       "Text(0,0.5,'True')"
      ]
     },
     "execution_count": 89,
     "metadata": {},
     "output_type": "execute_result"
    },
    {
     "data": {
      "image/png": "[encoded data removed]",
      "text/plain": [
       "<matplotlib.figure.Figure at 0x7f66edbd0be0>"
      ]
     },
     "metadata": {
      "needs_background": "light"
     },
     "output_type": "display_data"
    }
   ],
   "source": [
    "svc_conf_mat = confusion_matrix(y_test, y_pred_svc).astype('float64') \n",
    "plt.matshow(svc_conf_mat, cmap=plt.cm.bwr)\n",
    "plt.colorbar()\n",
    "plt.xlabel('Predicted')\n",
    "plt.ylabel('True')"
   ]
  },
  {
   "cell_type": "markdown",
   "metadata": {},
   "source": [
    "#### 1.7. Logistic regression"
   ]
  },
  {
   "cell_type": "code",
   "execution_count": 90,
   "metadata": {},
   "outputs": [],
   "source": [
    "from sklearn.linear_model import LogisticRegression"
   ]
  },
  {
   "cell_type": "code",
   "execution_count": 91,
   "metadata": {},
   "outputs": [],
   "source": [
    "lr_clf = LogisticRegression(random_state = 42, class_weight='balanced', solver = 'saga')\n",
    "ts = time.time()\n",
    "lr_clf.fit(X_train, y_train)\n",
    "lr_train_time = time.time() - ts"
   ]
  },
  {
   "cell_type": "code",
   "execution_count": 92,
   "metadata": {},
   "outputs": [],
   "source": [
    "ts = time.time()\n",
    "y_pred_lr = lr_clf.predict(X_test)\n",
    "lr_predict_time = time.time() - ts"
   ]
  },
  {
   "cell_type": "code",
   "execution_count": 93,
   "metadata": {},
   "outputs": [
    {
     "name": "stdout",
     "output_type": "stream",
     "text": [
      "Logistic Regression metrics:\n",
      " f1: 0.3636363636363637\n",
      " precision: 0.3076923076923077\n",
      " recall: 0.4444444444444444\n"
     ]
    }
   ],
   "source": [
    "f1_lr = f1_score(y_test, y_pred_lr)\n",
    "precision_lr = precision_score(y_test, y_pred_lr)\n",
    "recall_lr = recall_score(y_test, y_pred_lr)\n",
    "print('Logistic Regression metrics:\\n f1: {}\\n precision: {}\\n recall: {}'.format(f1_lr, precision_lr, recall_lr))"
   ]
  },
  {
   "cell_type": "code",
   "execution_count": 94,
   "metadata": {},
   "outputs": [
    {
     "data": {
      "text/plain": [
       "Text(0,0.5,'True')"
      ]
     },
     "execution_count": 94,
     "metadata": {},
     "output_type": "execute_result"
    },
    {
     "data": {
      "image/png": "[encoded data removed]",
      "text/plain": [
       "<matplotlib.figure.Figure at 0x7f66edbd07b8>"
      ]
     },
     "metadata": {
      "needs_background": "light"
     },
     "output_type": "display_data"
    }
   ],
   "source": [
    "lr_conf_mat = confusion_matrix(y_test, y_pred_lr).astype('float64') \n",
    "plt.matshow(lr_conf_mat, cmap=plt.cm.bwr)\n",
    "plt.colorbar()\n",
    "plt.xlabel('Predicted')\n",
    "plt.ylabel('True')"
   ]
  },
  {
   "cell_type": "code",
   "execution_count": 95,
   "metadata": {},
   "outputs": [],
   "source": [
    "y_pred_lr_val = lr_clf.predict(X_val)\n",
    "y_pred_gnb_val = gnb_clf.predict(X_val)\n",
    "y_pred_svc_val = svc_clf.predict(X_val)\n",
    "y_pred_mlp_val = mlp_clf.predict(X_val)"
   ]
  },
  {
   "cell_type": "markdown",
   "metadata": {},
   "source": [
    "#### 1.8. Selecting the best supervised learning model\n",
    "We will use validation data to evaluate model predictions once again."
   ]
  },
  {
   "cell_type": "code",
   "execution_count": 96,
   "metadata": {},
   "outputs": [
    {
     "name": "stdout",
     "output_type": "stream",
     "text": [
      "Logistic Regression validation metrics:\n",
      " f1: 0.5217391304347826\n",
      " precision: 0.42857142857142855\n",
      " recall: 0.6666666666666666\n"
     ]
    }
   ],
   "source": [
    "f1_lr_val = f1_score(y_val, y_pred_lr_val)\n",
    "precision_lr_val = precision_score(y_val, y_pred_lr_val)\n",
    "recall_lr_val = recall_score(y_val, y_pred_lr_val)\n",
    "print('Logistic Regression validation metrics:\\n f1: {}\\n precision: {}\\n recall: {}'.format(f1_lr_val, precision_lr_val, recall_lr_val))"
   ]
  },
  {
   "cell_type": "code",
   "execution_count": 97,
   "metadata": {},
   "outputs": [
    {
     "name": "stdout",
     "output_type": "stream",
     "text": [
      "Linear Support Vector validation metrics:\n",
      " f1: 0.5263157894736842\n",
      " precision: 0.5\n",
      " recall: 0.5555555555555556\n"
     ]
    }
   ],
   "source": [
    "f1_svc_val = f1_score(y_val, y_pred_svc_val)\n",
    "precision_svc_val = precision_score(y_val, y_pred_svc_val)\n",
    "recall_svc_val = recall_score(y_val, y_pred_svc_val)\n",
    "print('Linear Support Vector validation metrics:\\n f1: {}\\n precision: {}\\n recall: {}'.format(f1_svc_val, precision_svc_val, recall_svc_val))"
   ]
  },
  {
   "cell_type": "code",
   "execution_count": 98,
   "metadata": {},
   "outputs": [
    {
     "name": "stdout",
     "output_type": "stream",
     "text": [
      "Multi Layer Perceptron validation metrics:\n",
      " f1: 0.36\n",
      " precision: 0.21951219512195122\n",
      " recall: 1.0\n"
     ]
    }
   ],
   "source": [
    "f1_mlp_val = f1_score(y_val, y_pred_mlp_val)\n",
    "precision_mlp_val = precision_score(y_val, y_pred_mlp_val)\n",
    "recall_mlp_val = recall_score(y_val, y_pred_mlp_val)\n",
    "print('Multi Layer Perceptron validation metrics:\\n f1: {}\\n precision: {}\\n recall: {}'.format(f1_mlp_val, precision_mlp_val, recall_mlp_val))"
   ]
  },
  {
   "cell_type": "code",
   "execution_count": 99,
   "metadata": {},
   "outputs": [
    {
     "name": "stdout",
     "output_type": "stream",
     "text": [
      "Gaussian Naive Bayes validation metrics:\n",
      " f1: 0.43478260869565216\n",
      " precision: 0.35714285714285715\n",
      " recall: 0.5555555555555556\n"
     ]
    }
   ],
   "source": [
    "f1_gnb_val = f1_score(y_val, y_pred_gnb_val)\n",
    "precision_gnb_val = precision_score(y_val, y_pred_gnb_val)\n",
    "recall_gnb_val = recall_score(y_val, y_pred_gnb_val)\n",
    "print('Gaussian Naive Bayes validation metrics:\\n f1: {}\\n precision: {}\\n recall: {}'.format(f1_gnb_val, precision_gnb_val, recall_gnb_val))"
   ]
  },
  {
   "cell_type": "markdown",
   "metadata": {},
   "source": [
    "##### Conclusion\n",
    "Logistic regressions still remains our best model. The F1 score of 0.63 is not exactly high, but we must take in consideration, that we trained the model on a very small part of our dataset. The difference in score between test and validation data shows that the randomization of the subsets can have great impact on the performance metrics in such setup."
   ]
  },
  {
   "cell_type": "markdown",
   "metadata": {},
   "source": [
    "### 2. Unsupervised learning.\n",
    "Unsupervised learning methods do not require labels. Their goal is to discover intrinsic relationships in the data. Such methods can involve dimensionality reduction (Principal Components Analysis) or clustering (K-Means)."
   ]
  },
  {
   "cell_type": "markdown",
   "metadata": {},
   "source": [
    "#### 2.1. Dimensionality reduction with PCA"
   ]
  },
  {
   "cell_type": "code",
   "execution_count": 100,
   "metadata": {},
   "outputs": [
    {
     "name": "stdout",
     "output_type": "stream",
     "text": [
      "The first 10 components explain 91.21% of variance.\n"
     ]
    },
    {
     "data": {
      "image/png": "[encoded data removed]",
      "text/plain": [
       "<matplotlib.figure.Figure at 0x7f66edb17b70>"
      ]
     },
     "metadata": {
      "needs_background": "light"
     },
     "output_type": "display_data"
    }
   ],
   "source": [
    "from sklearn.decomposition import PCA\n",
    "\n",
    "pca = PCA(random_state = 42)\n",
    "X = df_div.drop(columns = ['userID', 'churn'])\n",
    "pca.fit(X)\n",
    "plt.bar(range(1,21), 100*pca.explained_variance_ratio_)\n",
    "plt.title('PCA explained variance', fontsize = 18)\n",
    "plt.ylabel('explained variance, %', fontsize = 16)\n",
    "plt.xlabel('Component', fontsize = 16)\n",
    "fig = plt.gcf()\n",
    "fig.set_size_inches(18.5, 10.5)\n",
    "print('The first 10 components explain {:.2f}% of variance.'.format(100*pca.explained_variance_ratio_[:10].sum()))"
   ]
  },
  {
   "cell_type": "code",
   "execution_count": 101,
   "metadata": {},
   "outputs": [],
   "source": [
    "pca = PCA(n_components = 10, random_state = 42)\n",
    "X_pca = pca.fit_transform(X)"
   ]
  },
  {
   "cell_type": "markdown",
   "metadata": {},
   "source": [
    "#### 2.2. Clustering with K-Means\n",
    "We will apply K-Means to the transformed data to find the clusters of the users. In the next step we will see if churn can be localized to some of the clusters."
   ]
  },
  {
   "cell_type": "code",
   "execution_count": 102,
   "metadata": {},
   "outputs": [
    {
     "data": {
      "image/png": "[encoded data removed]",
      "text/plain": [
       "<matplotlib.figure.Figure at 0x7f66edb68e80>"
      ]
     },
     "metadata": {
      "needs_background": "light"
     },
     "output_type": "display_data"
    }
   ],
   "source": [
    "from sklearn.cluster import KMeans\n",
    "\n",
    "inertia = []\n",
    "\n",
    "for n_c in range(2,80):\n",
    "    kmeans = KMeans(n_clusters = n_c, random_state = 42)\n",
    "    kmeans.fit_predict(X_pca)\n",
    "    inertia.append(kmeans.inertia_)\n",
    "\n",
    "plt.bar(range(2,80), inertia)\n",
    "plt.title('Inertia vs. n clusters', fontsize = 18)\n",
    "plt.ylabel('Sum of squared distances between points to cluster centers', fontsize = 16)\n",
    "plt.xlabel('Number of clusters', fontsize = 16)\n",
    "fig = plt.gcf()\n",
    "fig.set_size_inches(18.5, 10.5)"
   ]
  },
  {
   "cell_type": "markdown",
   "metadata": {},
   "source": [
    "Using the elbow method we take 15 clusters."
   ]
  },
  {
   "cell_type": "code",
   "execution_count": 114,
   "metadata": {},
   "outputs": [
    {
     "data": {
      "image/png": "[encoded data removed]",
      "text/plain": [
       "<matplotlib.figure.Figure at 0x7f66ed5c06a0>"
      ]
     },
     "metadata": {
      "needs_background": "light"
     },
     "output_type": "display_data"
    }
   ],
   "source": [
    "n_c = 25\n",
    "kmeans = KMeans(n_clusters = n_c, random_state = 42)\n",
    "labels = kmeans.fit_predict(X_pca).tolist()\n",
    "df_kmeans = pd.DataFrame.from_dict({'userID':df_div['userID'].tolist(), 'churn':df_div['churn'].tolist(), 'cluster':labels})\n",
    "plt.bar(np.arange(0,n_c), df_kmeans.groupby('cluster')['churn'].count(), width = 0.45, label = 'users')\n",
    "plt.bar(np.arange(0,n_c) + 0.5, df_kmeans.groupby('cluster')['churn'].sum().tolist(), width = 0.45, label = 'churn')\n",
    "plt.title('Churn in clusters', fontsize = 18)\n",
    "plt.ylabel('Number of users and churn in cluster', fontsize = 16)\n",
    "plt.xlabel('Cluster', fontsize = 16)\n",
    "plt.legend(fontsize = 14)\n",
    "fig = plt.gcf()\n",
    "fig.set_size_inches(18.5, 10.5)"
   ]
  },
  {
   "cell_type": "code",
   "execution_count": 104,
   "metadata": {},
   "outputs": [],
   "source": [
    "df_cluster_churn = pd.DataFrame.from_dict({'user count':df_kmeans.groupby('cluster')['churn'].count().tolist(),\n",
    "                                           'churn count':df_kmeans.groupby('cluster')['churn'].sum()})"
   ]
  },
  {
   "cell_type": "code",
   "execution_count": 105,
   "metadata": {},
   "outputs": [
    {
     "data": {
      "text/html": [
       "<div>\n",
       "<style scoped>\n",
       "    .dataframe tbody tr th:only-of-type {\n",
       "        vertical-align: middle;\n",
       "    }\n",
       "\n",
       "    .dataframe tbody tr th {\n",
       "        vertical-align: top;\n",
       "    }\n",
       "\n",
       "    .dataframe thead th {\n",
       "        text-align: right;\n",
       "    }\n",
       "</style>\n",
       "<table border=\"1\" class=\"dataframe\">\n",
       "  <thead>\n",
       "    <tr style=\"text-align: right;\">\n",
       "      <th></th>\n",
       "      <th>user count</th>\n",
       "      <th>churn count</th>\n",
       "    </tr>\n",
       "    <tr>\n",
       "      <th>cluster</th>\n",
       "      <th></th>\n",
       "      <th></th>\n",
       "    </tr>\n",
       "  </thead>\n",
       "  <tbody>\n",
       "    <tr>\n",
       "      <th>0</th>\n",
       "      <td>11</td>\n",
       "      <td>3</td>\n",
       "    </tr>\n",
       "    <tr>\n",
       "      <th>1</th>\n",
       "      <td>18</td>\n",
       "      <td>5</td>\n",
       "    </tr>\n",
       "    <tr>\n",
       "      <th>2</th>\n",
       "      <td>19</td>\n",
       "      <td>3</td>\n",
       "    </tr>\n",
       "    <tr>\n",
       "      <th>3</th>\n",
       "      <td>8</td>\n",
       "      <td>2</td>\n",
       "    </tr>\n",
       "    <tr>\n",
       "      <th>4</th>\n",
       "      <td>12</td>\n",
       "      <td>5</td>\n",
       "    </tr>\n",
       "    <tr>\n",
       "      <th>5</th>\n",
       "      <td>16</td>\n",
       "      <td>3</td>\n",
       "    </tr>\n",
       "    <tr>\n",
       "      <th>6</th>\n",
       "      <td>11</td>\n",
       "      <td>0</td>\n",
       "    </tr>\n",
       "    <tr>\n",
       "      <th>7</th>\n",
       "      <td>11</td>\n",
       "      <td>3</td>\n",
       "    </tr>\n",
       "    <tr>\n",
       "      <th>8</th>\n",
       "      <td>15</td>\n",
       "      <td>1</td>\n",
       "    </tr>\n",
       "    <tr>\n",
       "      <th>9</th>\n",
       "      <td>13</td>\n",
       "      <td>2</td>\n",
       "    </tr>\n",
       "    <tr>\n",
       "      <th>10</th>\n",
       "      <td>16</td>\n",
       "      <td>4</td>\n",
       "    </tr>\n",
       "    <tr>\n",
       "      <th>11</th>\n",
       "      <td>18</td>\n",
       "      <td>7</td>\n",
       "    </tr>\n",
       "    <tr>\n",
       "      <th>12</th>\n",
       "      <td>12</td>\n",
       "      <td>1</td>\n",
       "    </tr>\n",
       "    <tr>\n",
       "      <th>13</th>\n",
       "      <td>16</td>\n",
       "      <td>4</td>\n",
       "    </tr>\n",
       "    <tr>\n",
       "      <th>14</th>\n",
       "      <td>15</td>\n",
       "      <td>3</td>\n",
       "    </tr>\n",
       "  </tbody>\n",
       "</table>\n",
       "</div>"
      ],
      "text/plain": [
       "         user count  churn count\n",
       "cluster                         \n",
       "0                11            3\n",
       "1                18            5\n",
       "2                19            3\n",
       "3                 8            2\n",
       "4                12            5\n",
       "5                16            3\n",
       "6                11            0\n",
       "7                11            3\n",
       "8                15            1\n",
       "9                13            2\n",
       "10               16            4\n",
       "11               18            7\n",
       "12               12            1\n",
       "13               16            4\n",
       "14               15            3"
      ]
     },
     "execution_count": 105,
     "metadata": {},
     "output_type": "execute_result"
    }
   ],
   "source": [
    "df_cluster_churn"
   ]
  },
  {
   "cell_type": "markdown",
   "metadata": {},
   "source": [
    "##### Conclusion\n",
    "Unfortunately unsupervised learning didn't yield the results we would like to get. Although some clusters have a high percentage of churn we can't find the optimal number of clusters from the small dataset."
   ]
  },
  {
   "cell_type": "code",
   "execution_count": 106,
   "metadata": {},
   "outputs": [
    {
     "data": {
      "image/png": "[encoded data removed]",
      "text/plain": [
       "<matplotlib.figure.Figure at 0x7f66ed60aa90>"
      ]
     },
     "metadata": {
      "needs_background": "light"
     },
     "output_type": "display_data"
    }
   ],
   "source": [
    "pca = PCA(n_components = 10, random_state = 42)\n",
    "X_pca = pca.fit_transform(X)\n",
    "\n",
    "plt.bar(np.arange(0,20),pca.components_[0])\n",
    "plt.xticks(np.arange(0,20), X.columns, rotation = 45)\n",
    "fig = plt.gcf()\n",
    "fig.set_size_inches(18.5, 10.5)"
   ]
  },
  {
   "cell_type": "code",
   "execution_count": 107,
   "metadata": {},
   "outputs": [
    {
     "data": {
      "image/png": "[encoded data removed]",
      "text/plain": [
       "<matplotlib.figure.Figure at 0x7f66ebfc9048>"
      ]
     },
     "metadata": {
      "needs_background": "light"
     },
     "output_type": "display_data"
    }
   ],
   "source": [
    "plt.bar(np.arange(0,20),pca.components_[1])\n",
    "plt.xticks(np.arange(0,20), X.columns, rotation = 45)\n",
    "fig = plt.gcf()\n",
    "fig.set_size_inches(18.5, 10.5)"
   ]
  },
  {
   "cell_type": "code",
   "execution_count": 108,
   "metadata": {},
   "outputs": [
    {
     "data": {
      "image/png": "[encoded data removed]",
      "text/plain": [
       "<matplotlib.figure.Figure at 0x7f66ebef40b8>"
      ]
     },
     "metadata": {
      "needs_background": "light"
     },
     "output_type": "display_data"
    }
   ],
   "source": [
    "plt.bar(np.arange(0,20),pca.components_[3])\n",
    "plt.xticks(np.arange(0,20), X.columns, rotation = 45)\n",
    "fig = plt.gcf()\n",
    "fig.set_size_inches(18.5, 10.5)"
   ]
  },
  {
   "cell_type": "code",
   "execution_count": 109,
   "metadata": {},
   "outputs": [
    {
     "data": {
      "image/png": "[encoded data removed]",
      "text/plain": [
       "<matplotlib.figure.Figure at 0x7f66ebe90b38>"
      ]
     },
     "metadata": {
      "needs_background": "light"
     },
     "output_type": "display_data"
    }
   ],
   "source": [
    "n_c = 15\n",
    "kmeans = KMeans(n_clusters = n_c)\n",
    "labels = kmeans.fit_predict(X_pca[:,2:4]).tolist()\n",
    "df_kmeans = pd.DataFrame.from_dict({'userID':df_div['userID'].tolist(), 'churn':df_div['churn'].tolist(), 'cluster':labels})\n",
    "plt.bar(np.arange(0,n_c), df_kmeans.groupby('cluster')['churn'].count(), width = 0.45, label = 'users')\n",
    "plt.bar(np.arange(0,n_c) + 0.5, df_kmeans.groupby('cluster')['churn'].sum().tolist(), width = 0.45, label = 'churn')\n",
    "plt.title('Churn in clusters', fontsize = 18)\n",
    "plt.ylabel('Number of users and churn in cluster', fontsize = 16)\n",
    "plt.xlabel('Cluster', fontsize = 16)\n",
    "plt.legend(fontsize = 14)\n",
    "fig = plt.gcf()\n",
    "fig.set_size_inches(18.5, 10.5)"
   ]
  },
  {
   "cell_type": "markdown",
   "metadata": {},
   "source": [
    "# Final Steps\n",
    "Clean up your code, adding comments and renaming variables to make the code easier to read and maintain. Refer to the Spark Project Overview page and Data Scientist Capstone Project Rubric to make sure you are including all components of the capstone project and meet all expectations. Remember, this includes thorough documentation in a README file in a Github repository, as well as a web app or blog post."
   ]
  },
  {
   "cell_type": "code",
   "execution_count": 110,
   "metadata": {},
   "outputs": [
    {
     "data": {
      "text/plain": [
       "0"
      ]
     },
     "execution_count": 110,
     "metadata": {},
     "output_type": "execute_result"
    }
   ],
   "source": [
    "from subprocess import call\n",
    "call(['python', '-m', 'nbconvert', 'Sparkify.ipynb'])"
   ]
  },
  {
   "cell_type": "code",
   "execution_count": null,
   "metadata": {},
   "outputs": [],
   "source": []
  }
 ],
 "metadata": {
  "kernelspec": {
   "display_name": "Python 3",
   "language": "python",
   "name": "python3"
  },
  "language_info": {
   "codemirror_mode": {
    "name": "ipython",
    "version": 3
   },
   "file_extension": ".py",
   "mimetype": "text/x-python",
   "name": "python",
   "nbconvert_exporter": "python",
   "pygments_lexer": "ipython3",
   "version": "3.7.6"
  }
 },
 "nbformat": 4,
 "nbformat_minor": 4
}
