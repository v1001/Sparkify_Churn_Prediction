{
 "cells": [
  {
   "cell_type": "markdown",
   "metadata": {},
   "source": [
    "# Sparkify Project Workspace\n",
    "This workspace contains a tiny subset (128MB) of the full dataset available (12GB). Feel free to use this workspace to build your project, or to explore a smaller subset with Spark before deploying your cluster on the cloud. Instructions for setting up your Spark cluster is included in the last lesson of the Extracurricular Spark Course content.\n",
    "\n",
    "You can follow the steps below to guide your data analysis and model building portion of this project."
   ]
  },
  {
   "cell_type": "code",
   "execution_count": 1,
   "metadata": {
    "scrolled": true
   },
   "outputs": [],
   "source": [
    "# import libraries\n",
    "from pyspark.sql import SparkSession\n",
    "from pyspark.sql.functions import avg, col, concat, desc, explode, lit, min, max, split, udf, sum\n",
    "from pyspark.sql.types import IntegerType\n",
    "\n",
    "from pyspark.ml import Pipeline\n",
    "from pyspark.ml.classification import LogisticRegression\n",
    "from pyspark.ml.evaluation import MulticlassClassificationEvaluator\n",
    "from pyspark.ml.feature import CountVectorizer, IDF, Normalizer, PCA, RegexTokenizer, StandardScaler, StopWordsRemover, StringIndexer, VectorAssembler\n",
    "from pyspark.ml.regression import LinearRegression\n",
    "from pyspark.ml.tuning import CrossValidator, ParamGridBuilder\n",
    "\n",
    "import re\n",
    "from datetime import datetime\n",
    "import numpy as np\n",
    "import pandas as pd\n",
    "\n",
    "from matplotlib import pyplot as plt\n",
    "%matplotlib inline"
   ]
  },
  {
   "cell_type": "code",
   "execution_count": 2,
   "metadata": {
    "scrolled": true
   },
   "outputs": [],
   "source": [
    "# create a Spark session\n",
    "spark = SparkSession.builder \\\n",
    "    .master(\"local\") \\\n",
    "    .appName(\"Sparkify_Churn_Analysis\") \\\n",
    "    .getOrCreate()"
   ]
  },
  {
   "cell_type": "markdown",
   "metadata": {},
   "source": [
    "# Load and Clean Dataset\n",
    "In this workspace, the mini-dataset file is `mini_sparkify_event_data.json`. Load and clean the dataset, checking for invalid or missing data - for example, records without userids or sessionids. "
   ]
  },
  {
   "cell_type": "code",
   "execution_count": 3,
   "metadata": {
    "scrolled": true
   },
   "outputs": [
    {
     "data": {
      "text/plain": [
       "DataFrame[artist: string, auth: string, firstName: string, gender: string, itemInSession: bigint, lastName: string, length: double, level: string, location: string, method: string, page: string, registration: bigint, sessionId: bigint, song: string, status: bigint, ts: bigint, userAgent: string, userId: string]"
      ]
     },
     "execution_count": 3,
     "metadata": {},
     "output_type": "execute_result"
    }
   ],
   "source": [
    "df = spark.read.json('mini_sparkify_event_data.json')\n",
    "df.createOrReplaceTempView(\"log_table\")\n",
    "df.persist()"
   ]
  },
  {
   "cell_type": "markdown",
   "metadata": {},
   "source": [
    "Let's first drop duplicates."
   ]
  },
  {
   "cell_type": "code",
   "execution_count": 4,
   "metadata": {
    "scrolled": true
   },
   "outputs": [],
   "source": [
    "df = df.dropDuplicates()"
   ]
  },
  {
   "cell_type": "markdown",
   "metadata": {},
   "source": [
    "and log entries from unregistered users"
   ]
  },
  {
   "cell_type": "code",
   "execution_count": 5,
   "metadata": {
    "scrolled": true
   },
   "outputs": [],
   "source": [
    "df = spark.sql(\" SELECT * FROM log_table WHERE userID != '' \")"
   ]
  },
  {
   "cell_type": "code",
   "execution_count": 6,
   "metadata": {
    "scrolled": true
   },
   "outputs": [],
   "source": [
    "df.createOrReplaceTempView(\"log_table\")"
   ]
  },
  {
   "cell_type": "markdown",
   "metadata": {},
   "source": [
    "# Exploratory Data Analysis\n",
    "When you're working with the full dataset, perform EDA by loading a small subset of the data and doing basic manipulations within Spark. In this workspace, you are already provided a small subset of data you can explore.\n",
    "\n",
    "### Define Churn\n",
    "\n",
    "Once you've done some preliminary analysis, create a column `Churn` to use as the label for your model. I suggest using the `Cancellation Confirmation` events to define your churn, which happen for both paid and free users. As a bonus task, you can also look into the `Downgrade` events.\n",
    "\n",
    "### Explore Data\n",
    "Once you've defined churn, perform some exploratory data analysis to observe the behavior for users who stayed vs users who churned. You can start by exploring aggregates on these two groups of users, observing how much of a specific action they experienced per a certain time unit or number of songs played."
   ]
  },
  {
   "cell_type": "markdown",
   "metadata": {},
   "source": [
    "Let's look at the columns:"
   ]
  },
  {
   "cell_type": "code",
   "execution_count": 7,
   "metadata": {
    "scrolled": true
   },
   "outputs": [
    {
     "name": "stdout",
     "output_type": "stream",
     "text": [
      "root\n",
      " |-- artist: string (nullable = true)\n",
      " |-- auth: string (nullable = true)\n",
      " |-- firstName: string (nullable = true)\n",
      " |-- gender: string (nullable = true)\n",
      " |-- itemInSession: long (nullable = true)\n",
      " |-- lastName: string (nullable = true)\n",
      " |-- length: double (nullable = true)\n",
      " |-- level: string (nullable = true)\n",
      " |-- location: string (nullable = true)\n",
      " |-- method: string (nullable = true)\n",
      " |-- page: string (nullable = true)\n",
      " |-- registration: long (nullable = true)\n",
      " |-- sessionId: long (nullable = true)\n",
      " |-- song: string (nullable = true)\n",
      " |-- status: long (nullable = true)\n",
      " |-- ts: long (nullable = true)\n",
      " |-- userAgent: string (nullable = true)\n",
      " |-- userId: string (nullable = true)\n",
      "\n"
     ]
    }
   ],
   "source": [
    "df.printSchema()"
   ]
  },
  {
   "cell_type": "markdown",
   "metadata": {},
   "source": [
    "Now let's see in which timeframe the data was collected:"
   ]
  },
  {
   "cell_type": "code",
   "execution_count": 8,
   "metadata": {
    "scrolled": true
   },
   "outputs": [
    {
     "name": "stdout",
     "output_type": "stream",
     "text": [
      "Data was collected between 2018-10-01 00:01:57 and 2018-12-03 01:11:16 over 63 days.\n"
     ]
    }
   ],
   "source": [
    "ts_begin = spark.sql('SELECT MIN(ts) FROM log_table').first()[0]\n",
    "ts_end = spark.sql('SELECT MAX(ts) FROM log_table').first()[0]\n",
    "begin_datettime = datetime.fromtimestamp(ts_begin/1000)\n",
    "end_datetime = datetime.fromtimestamp(ts_end/1000)\n",
    "print('Data was collected between {} and {} over {} days.'.format(str(begin_datettime), str(end_datetime), (ts_end - ts_begin)//(24*3600000)))"
   ]
  },
  {
   "cell_type": "markdown",
   "metadata": {},
   "source": [
    "And let's look at the number of songs played per day over this period:"
   ]
  },
  {
   "cell_type": "code",
   "execution_count": 9,
   "metadata": {
    "scrolled": true
   },
   "outputs": [],
   "source": [
    "interval_step = (ts_end - ts_begin) / 63\n",
    "intervals = np.arange(ts_begin, ts_end - interval_step, interval_step)\n",
    "playcount = []\n",
    "usercount = []\n",
    "downgradecount = []\n",
    "upgradecount = []\n",
    "cancelcount = []\n",
    "paidcount = []\n",
    "freecount = []\n",
    "\n",
    "for i in intervals:\n",
    "    sql_request = 'SELECT count(ts) FROM log_table WHERE page = \"NextSong\" AND ts BETWEEN {} AND {}'.format(i, i + interval_step)\n",
    "    playcount.append(spark.sql(sql_request).first()[0])\n",
    "    sql_request = 'SELECT count(DISTINCT userID) FROM log_table WHERE page = \"NextSong\" AND ts BETWEEN {} AND {}'.format(i, i + interval_step)\n",
    "    usercount.append(spark.sql(sql_request).first()[0])\n",
    "    sql_request = 'SELECT count(DISTINCT userID) FROM log_table WHERE page = \"Cancellation Confirmation\" AND ts BETWEEN {} AND {}'.format(i, i + interval_step)\n",
    "    cancelcount.append(spark.sql(sql_request).first()[0])\n",
    "    sql_request = 'SELECT count(DISTINCT userID) FROM log_table WHERE page = \"Submit Downgrade\" AND ts BETWEEN {} AND {}'.format(i, i + interval_step)\n",
    "    downgradecount.append(spark.sql(sql_request).first()[0])\n",
    "    sql_request = 'SELECT count(DISTINCT userID) FROM log_table WHERE page = \"Submit Upgrade\" AND ts BETWEEN {} AND {}'.format(i, i + interval_step)\n",
    "    upgradecount.append(spark.sql(sql_request).first()[0])\n",
    "    sql_request = 'SELECT count(DISTINCT userID) FROM log_table WHERE level = \"paid\" AND ts BETWEEN {} AND {}'.format(i, i + interval_step)\n",
    "    paidcount.append(spark.sql(sql_request).first()[0])\n",
    "    sql_request = 'SELECT count(DISTINCT userID) FROM log_table WHERE level = \"free\" AND ts BETWEEN {} AND {}'.format(i, i + interval_step)\n",
    "    freecount.append(spark.sql(sql_request).first()[0])"
   ]
  },
  {
   "cell_type": "code",
   "execution_count": 10,
   "metadata": {},
   "outputs": [
    {
     "data": {
      "image/png": "[encoded data removed]",
      "text/plain": [
       "<matplotlib.figure.Figure at 0x7f5dc4cfb4a8>"
      ]
     },
     "metadata": {
      "needs_background": "light"
     },
     "output_type": "display_data"
    }
   ],
   "source": [
    "plt.bar(np.arange(0,61),playcount[:-1])\n",
    "plt.xlabel('Date', fontsize = 16)\n",
    "plt.xticks(np.arange(0,62,4), [str(datetime.fromtimestamp(x/1000).date()) for x in intervals[::4]], rotation=45, fontsize = 14)\n",
    "plt.ylabel('Number of songs played', fontsize = 16)\n",
    "plt.title('Number of songs played', fontsize = 18)\n",
    "fig = plt.gcf()\n",
    "fig.set_size_inches(18.5, 10.5)"
   ]
  },
  {
   "cell_type": "code",
   "execution_count": 11,
   "metadata": {
    "scrolled": true
   },
   "outputs": [
    {
     "data": {
      "image/png": "[encoded data removed]",
      "text/plain": [
       "<matplotlib.figure.Figure at 0x7f5dc4ba7eb8>"
      ]
     },
     "metadata": {
      "needs_background": "light"
     },
     "output_type": "display_data"
    }
   ],
   "source": [
    "plt.bar(np.arange(0,61),[x/y for x,y in zip(playcount[:-1], usercount[:-1])])\n",
    "plt.xlabel('Date', fontsize = 16)\n",
    "plt.xticks(np.arange(0,62,4), [str(datetime.fromtimestamp(x/1000).date()) for x in intervals[::4]], rotation=45, fontsize = 14)\n",
    "plt.ylabel('Number of songs played per user', fontsize = 16)\n",
    "plt.title('Number of songs played per user', fontsize = 18)\n",
    "fig = plt.gcf()\n",
    "fig.set_size_inches(18.5, 10.5)"
   ]
  },
  {
   "cell_type": "code",
   "execution_count": 12,
   "metadata": {
    "scrolled": true
   },
   "outputs": [
    {
     "data": {
      "image/png": "[encoded data removed]",
      "text/plain": [
       "<matplotlib.figure.Figure at 0x7f5dc4af7940>"
      ]
     },
     "metadata": {
      "needs_background": "light"
     },
     "output_type": "display_data"
    }
   ],
   "source": [
    "plt.bar(np.arange(0,61),usercount[:-1])\n",
    "plt.xlabel('Date', fontsize = 16)\n",
    "plt.xticks(np.arange(0,62,4), [str(datetime.fromtimestamp(x/1000).date()) for x in intervals[::4]], rotation=45, fontsize = 14)\n",
    "plt.ylabel('Number of active users', fontsize = 16)\n",
    "plt.title('Number of active users (N_users = 225)', fontsize = 18)\n",
    "fig = plt.gcf()\n",
    "fig.set_size_inches(18.5, 10.5)"
   ]
  },
  {
   "cell_type": "code",
   "execution_count": 13,
   "metadata": {},
   "outputs": [
    {
     "data": {
      "image/png": "[encoded data removed]",
      "text/plain": [
       "<matplotlib.figure.Figure at 0x7f5dc4a7cc88>"
      ]
     },
     "metadata": {
      "needs_background": "light"
     },
     "output_type": "display_data"
    }
   ],
   "source": [
    "plt.bar(np.arange(0,61),cancelcount[:-1])\n",
    "plt.xlabel('Date', fontsize = 16)\n",
    "plt.xticks(np.arange(0,62,4), [str(datetime.fromtimestamp(x/1000).date()) for x in intervals[::4]], rotation=45, fontsize = 14)\n",
    "plt.ylabel('Number of cancellations', fontsize = 16)\n",
    "plt.title('Number of cancellations (N_users = 225)', fontsize = 18)\n",
    "fig = plt.gcf()\n",
    "fig.set_size_inches(18.5, 10.5)"
   ]
  },
  {
   "cell_type": "code",
   "execution_count": 14,
   "metadata": {},
   "outputs": [
    {
     "data": {
      "image/png": "[encoded data removed]",
      "text/plain": [
       "<matplotlib.figure.Figure at 0x7f5dc48dd470>"
      ]
     },
     "metadata": {
      "needs_background": "light"
     },
     "output_type": "display_data"
    }
   ],
   "source": [
    "plt.bar(np.arange(0,61), downgradecount[:-1], width = 0.45, label = 'downgrades')\n",
    "plt.bar(np.arange(0,61) + 0.5, upgradecount[:-1], width = 0.45, label = 'upgrades')\n",
    "plt.xlabel('Date', fontsize = 16)\n",
    "plt.xticks(np.arange(0,62,4), [str(datetime.fromtimestamp(x/1000).date()) for x in intervals[::4]], rotation=45, fontsize = 14)\n",
    "plt.ylabel('Number of upgrades and downgrades', fontsize = 16)\n",
    "plt.title('Number of upgrades and downgrades (N_users = 225)', fontsize = 18)\n",
    "plt.legend(fontsize = 14)\n",
    "fig = plt.gcf()\n",
    "fig.set_size_inches(18.5, 10.5)"
   ]
  },
  {
   "cell_type": "code",
   "execution_count": 15,
   "metadata": {},
   "outputs": [
    {
     "data": {
      "image/png": "[encoded data removed]",
      "text/plain": [
       "<matplotlib.figure.Figure at 0x7f5dc447f198>"
      ]
     },
     "metadata": {
      "needs_background": "light"
     },
     "output_type": "display_data"
    }
   ],
   "source": [
    "plt.bar(np.arange(0,61), freecount[:-1], width = 0.45, label = 'free')\n",
    "plt.bar(np.arange(0,61) + 0.5, paidcount[:-1], width = 0.45, label = 'paid')\n",
    "plt.xlabel('Date', fontsize = 16)\n",
    "plt.xticks(np.arange(0,62,4), [str(datetime.fromtimestamp(x/1000).date()) for x in intervals[::4]], rotation=45, fontsize = 14)\n",
    "plt.ylabel('Number of paying and free users', fontsize = 16)\n",
    "plt.title('Number of paying and free users (N_users = 225)', fontsize = 18)\n",
    "plt.legend(fontsize = 14)\n",
    "fig = plt.gcf()\n",
    "fig.set_size_inches(18.5, 10.5)"
   ]
  },
  {
   "cell_type": "markdown",
   "metadata": {},
   "source": [
    "This function will give an overview of distinct value counts and their distribution if the number of distinct values is smaller than 20."
   ]
  },
  {
   "cell_type": "code",
   "execution_count": 16,
   "metadata": {
    "scrolled": true
   },
   "outputs": [],
   "source": [
    "def show_distinct_counts(column_name, table_name = 'log_table'):\n",
    "    \"\"\"Shows counts of distinct values of a column in an sql table.\n",
    "    If the number of distinct values is smaller than 20 then\n",
    "    counts for each value are displayed. Otherwise only the total\n",
    "    number of distinct values is presented.\n",
    "    \n",
    "    INPUT:\n",
    "        column_name (str): name of the column\n",
    "        table_name (str): name of the table\n",
    "        \n",
    "    OUTPUT:\n",
    "        none\n",
    "    \"\"\"\n",
    "    n_distinct = spark.sql('SELECT COUNT(DISTINCT {}) AS count FROM {}'.format(column_name, table_name)).first()[0]\n",
    "    #print(n_distinct)\n",
    "    \n",
    "    if n_distinct<=20:\n",
    "        sql_query = 'SELECT {0}, count({0}) AS {0}_counts FROM {1} GROUP BY {0}'.format(column_name, table_name)\n",
    "    else:\n",
    "        sql_query = 'SELECT COUNT(DISTINCT {0}) AS Distinct_count_{0} FROM {1}'.format(column_name, table_name)\n",
    "        \n",
    "    spark.sql(sql_query).show()   "
   ]
  },
  {
   "cell_type": "markdown",
   "metadata": {},
   "source": [
    "Let's apply this function to the dataframe's columns to get an overview of the data:"
   ]
  },
  {
   "cell_type": "code",
   "execution_count": 17,
   "metadata": {
    "scrolled": true
   },
   "outputs": [
    {
     "name": "stdout",
     "output_type": "stream",
     "text": [
      "+---------------------+\n",
      "|Distinct_count_artist|\n",
      "+---------------------+\n",
      "|                17655|\n",
      "+---------------------+\n",
      "\n",
      "+---------+-----------+\n",
      "|     auth|auth_counts|\n",
      "+---------+-----------+\n",
      "|Cancelled|         52|\n",
      "|Logged In|     278102|\n",
      "+---------+-----------+\n",
      "\n",
      "+------------------------+\n",
      "|Distinct_count_firstName|\n",
      "+------------------------+\n",
      "|                     189|\n",
      "+------------------------+\n",
      "\n",
      "+------+-------------+\n",
      "|gender|gender_counts|\n",
      "+------+-------------+\n",
      "|     F|       154578|\n",
      "|     M|       123576|\n",
      "+------+-------------+\n",
      "\n",
      "+----------------------------+\n",
      "|Distinct_count_itemInSession|\n",
      "+----------------------------+\n",
      "|                        1311|\n",
      "+----------------------------+\n",
      "\n",
      "+-----------------------+\n",
      "|Distinct_count_lastName|\n",
      "+-----------------------+\n",
      "|                    173|\n",
      "+-----------------------+\n",
      "\n",
      "+---------------------+\n",
      "|Distinct_count_length|\n",
      "+---------------------+\n",
      "|                14865|\n",
      "+---------------------+\n",
      "\n",
      "+-----+------------+\n",
      "|level|level_counts|\n",
      "+-----+------------+\n",
      "| free|       55721|\n",
      "| paid|      222433|\n",
      "+-----+------------+\n",
      "\n",
      "+-----------------------+\n",
      "|Distinct_count_location|\n",
      "+-----------------------+\n",
      "|                    114|\n",
      "+-----------------------+\n",
      "\n",
      "+------+-------------+\n",
      "|method|method_counts|\n",
      "+------+-------------+\n",
      "|   PUT|       257818|\n",
      "|   GET|        20336|\n",
      "+------+-------------+\n",
      "\n",
      "+--------------------+-----------+\n",
      "|                page|page_counts|\n",
      "+--------------------+-----------+\n",
      "|              Cancel|         52|\n",
      "|    Submit Downgrade|         63|\n",
      "|         Thumbs Down|       2546|\n",
      "|                Home|      10082|\n",
      "|           Downgrade|       2055|\n",
      "|         Roll Advert|       3933|\n",
      "|              Logout|       3226|\n",
      "|       Save Settings|        310|\n",
      "|Cancellation Conf...|         52|\n",
      "|               About|        495|\n",
      "|            Settings|       1514|\n",
      "|     Add to Playlist|       6526|\n",
      "|          Add Friend|       4277|\n",
      "|            NextSong|     228108|\n",
      "|           Thumbs Up|      12551|\n",
      "|                Help|       1454|\n",
      "|             Upgrade|        499|\n",
      "|               Error|        252|\n",
      "|      Submit Upgrade|        159|\n",
      "+--------------------+-----------+\n",
      "\n",
      "+---------------------------+\n",
      "|Distinct_count_registration|\n",
      "+---------------------------+\n",
      "|                        225|\n",
      "+---------------------------+\n",
      "\n",
      "+------------------------+\n",
      "|Distinct_count_sessionId|\n",
      "+------------------------+\n",
      "|                    2312|\n",
      "+------------------------+\n",
      "\n",
      "+-------------------+\n",
      "|Distinct_count_song|\n",
      "+-------------------+\n",
      "|              58480|\n",
      "+-------------------+\n",
      "\n",
      "+------+-------------+\n",
      "|status|status_counts|\n",
      "+------+-------------+\n",
      "|   307|        23184|\n",
      "|   404|          252|\n",
      "|   200|       254718|\n",
      "+------+-------------+\n",
      "\n",
      "+-----------------+\n",
      "|Distinct_count_ts|\n",
      "+-----------------+\n",
      "|           269770|\n",
      "+-----------------+\n",
      "\n",
      "+------------------------+\n",
      "|Distinct_count_userAgent|\n",
      "+------------------------+\n",
      "|                      56|\n",
      "+------------------------+\n",
      "\n",
      "+---------------------+\n",
      "|Distinct_count_userId|\n",
      "+---------------------+\n",
      "|                  225|\n",
      "+---------------------+\n",
      "\n"
     ]
    }
   ],
   "source": [
    "for column in df.columns:\n",
    "    show_distinct_counts(column)"
   ]
  },
  {
   "cell_type": "markdown",
   "metadata": {},
   "source": [
    "This method didn't provide the results we wanted for gender and level. Let's do some extra evaluation for these columns."
   ]
  },
  {
   "cell_type": "markdown",
   "metadata": {},
   "source": [
    "First let's look at the gender distribution:"
   ]
  },
  {
   "cell_type": "code",
   "execution_count": 18,
   "metadata": {
    "scrolled": true
   },
   "outputs": [
    {
     "name": "stdout",
     "output_type": "stream",
     "text": [
      "+------+-------------+\n",
      "|gender|gender_counts|\n",
      "+------+-------------+\n",
      "|     F|          104|\n",
      "|     M|          121|\n",
      "+------+-------------+\n",
      "\n"
     ]
    }
   ],
   "source": [
    "spark.sql(''' SELECT gender, count(DISTINCT userID) AS gender_counts FROM log_table GROUP BY gender ''').show()"
   ]
  },
  {
   "cell_type": "markdown",
   "metadata": {},
   "source": [
    "Let's see how many users changed their level:"
   ]
  },
  {
   "cell_type": "code",
   "execution_count": 19,
   "metadata": {
    "scrolled": true
   },
   "outputs": [
    {
     "name": "stdout",
     "output_type": "stream",
     "text": [
      "+------------+-----+\n",
      "|level_counts|users|\n",
      "+------------+-----+\n",
      "|           1|   90|\n",
      "|           2|  135|\n",
      "+------------+-----+\n",
      "\n"
     ]
    }
   ],
   "source": [
    "spark.sql(''' SELECT levels AS level_counts, count(levels) AS users \\\n",
    "        FROM (SELECT count(DISTINCT level) AS levels \\\n",
    "        FROM log_table GROUP BY userID) GROUP BY levels ''').show()"
   ]
  },
  {
   "cell_type": "markdown",
   "metadata": {},
   "source": [
    "And how many users get their subscription cancelled:"
   ]
  },
  {
   "cell_type": "code",
   "execution_count": 20,
   "metadata": {
    "scrolled": true
   },
   "outputs": [
    {
     "name": "stdout",
     "output_type": "stream",
     "text": [
      "+---------+-----------+\n",
      "|     auth|auth_counts|\n",
      "+---------+-----------+\n",
      "|Cancelled|         52|\n",
      "|Logged In|        225|\n",
      "+---------+-----------+\n",
      "\n"
     ]
    }
   ],
   "source": [
    "spark.sql(''' SELECT auth, count(DISTINCT userID) AS auth_counts FROM log_table GROUP BY auth ''').show()"
   ]
  },
  {
   "cell_type": "markdown",
   "metadata": {},
   "source": [
    "Let's define churn as following events:\n",
    "1. Customer changed level from paid to free.\n",
    "2. Customer cancelled their account.\n",
    "The second case is easier to track. Since the number of cancelled auth and visits to \"Cancellation Confirmation\" page is same, we can assume, that after visiting the page and getting the cancelled auth the users have cancelled their accounts.\n",
    "\n",
    "The first case is more complicated. We know that 135 users changed their level. There also have been 159 visits to \"Submit Upgrade\" page and 63 visits to \"Submit Downgrade\" page."
   ]
  },
  {
   "cell_type": "markdown",
   "metadata": {},
   "source": [
    "Let's see how many free and how many paying users cancel their accounts:"
   ]
  },
  {
   "cell_type": "code",
   "execution_count": 21,
   "metadata": {
    "scrolled": true
   },
   "outputs": [
    {
     "name": "stdout",
     "output_type": "stream",
     "text": [
      "+-----+----------------+\n",
      "|level|number_cancelled|\n",
      "+-----+----------------+\n",
      "| free|              21|\n",
      "| paid|              31|\n",
      "+-----+----------------+\n",
      "\n"
     ]
    }
   ],
   "source": [
    "spark.sql('''SELECT level, count(DISTINCT userID) AS number_cancelled \\\n",
    "        FROM log_table WHERE page = \"Cancellation Confirmation\" GROUP BY level''').show()"
   ]
  },
  {
   "cell_type": "code",
   "execution_count": 22,
   "metadata": {
    "scrolled": true
   },
   "outputs": [],
   "source": [
    "get_churn_cancel = udf(lambda x: int(x=='Cancellation Confirmation'), IntegerType())\n",
    "df = df.withColumn('churn_cancelled', get_churn_cancel('page'))\n",
    "df.createOrReplaceTempView(\"log_table\")"
   ]
  },
  {
   "cell_type": "markdown",
   "metadata": {},
   "source": [
    "##### Early churn\n",
    "As we recall from our data analysis there are weekly patterns in user behaviour. If the user used the service for less than a week their data may be inconsistent with others, so later we can test if it makes sense to exclude early churn from our analysis."
   ]
  },
  {
   "cell_type": "code",
   "execution_count": 23,
   "metadata": {},
   "outputs": [],
   "source": [
    "# let's find early churn users:\n",
    "early_churn = spark.sql(''' SELECT userID, ts FROM log_table WHERE churn_cancelled = 1 ''').toPandas()\n",
    "early_churn.sort_values('ts', inplace = True)\n",
    "early_churn[early_churn['ts'] < ts_begin + 3600*24*7*1000]\n",
    "early_churn = early_churn[early_churn['ts'] < ts_begin + 3600*24*7*1000]"
   ]
  },
  {
   "cell_type": "code",
   "execution_count": 24,
   "metadata": {},
   "outputs": [
    {
     "data": {
      "text/plain": [
       "['100011', '100001', '100024', '300007', '100006', '18', '100019']"
      ]
     },
     "execution_count": 24,
     "metadata": {},
     "output_type": "execute_result"
    }
   ],
   "source": [
    "early_churn.userID.tolist()"
   ]
  },
  {
   "cell_type": "markdown",
   "metadata": {},
   "source": [
    "# Feature Engineering"
   ]
  },
  {
   "cell_type": "markdown",
   "metadata": {},
   "source": [
    "##### Methodology\n",
    "It may seem to plausible to involve such factors as browser, platform, location or gender in the prediction of churn. These factors may lead to churn, but they are affecting certain groups of customers and are not related to individual customer experience. Therefore they will not help us to predict churn, but rather indicate which customer groups may be more dissatisfied with our service.\n",
    "\n",
    "In this analysis we will focus on user specific factors such as:\n",
    " * number of songs played\n",
    " * number of different songs played\n",
    " * number of different artists\n",
    " * number of sessions\n",
    " * number of upgrades\n",
    " * number of downgrades\n",
    " * page visits\n",
    "     * downgrade\n",
    "     * upgrade\n",
    "     * thumbs down\n",
    "     * thumbs up\n",
    "     * roll advert\n",
    "     * home\n",
    "     * logout\n",
    "     * settings\n",
    "     * save settings\n",
    "     * add to playlist\n",
    "     * help\n",
    "     * error\n",
    "     * about\n",
    "     * add friend"
   ]
  },
  {
   "cell_type": "code",
   "execution_count": 25,
   "metadata": {},
   "outputs": [],
   "source": [
    "df_churn = spark.sql('''\n",
    "SELECT userID, count(song) AS song_count, \\\n",
    "count(DISTINCT song) AS dist_song_count, \\\n",
    "count(DISTINCT artist) AS dist_artist_count, \\\n",
    "count(DISTINCT sessionId) AS session_count, \\\n",
    "count(CASE WHEN page = \"Submit Downgrade\" THEN 1 END) AS downgrade_count, \\\n",
    "count(CASE WHEN page = \"Submit Upgrade\" THEN 1 END) AS upgrade_count, \\\n",
    "count(CASE WHEN page = \"Cancellation Confirmation\" THEN 1 END) AS churn, \\\n",
    "count(CASE WHEN page = \"Home\" THEN 1 END) AS page_visits_home, \\\n",
    "count(CASE WHEN page = \"Logout\" THEN 1 END) AS page_visits_logout, \\\n",
    "count(CASE WHEN page = \"Settings\" THEN 1 END) AS page_visits_settings, \\\n",
    "count(CASE WHEN page = \"Save Settings\" THEN 1 END) AS page_visits_save_settings, \\\n",
    "count(CASE WHEN page = \"Thumbs Down\" THEN 1 END) AS page_visits_thumbs_down, \\\n",
    "count(CASE WHEN page = \"Thumbs Up\" THEN 1 END) AS page_visits_thumbs_up, \\\n",
    "count(CASE WHEN page = \"Upgrade\" THEN 1 END) AS page_visits_upgrade, \\\n",
    "count(CASE WHEN page = \"Downgrade\" THEN 1 END) AS page_visits_downgrade, \\\n",
    "count(CASE WHEN page = \"Roll Advert\" THEN 1 END) AS page_visits_roll_advert, \\\n",
    "count(CASE WHEN page = \"About\" THEN 1 END) AS page_visits_about, \\\n",
    "count(CASE WHEN page = \"Add to Playlist\" THEN 1 END) AS page_visits_add_to_playlist, \\\n",
    "count(CASE WHEN page = \"Add Friend\" THEN 1 END) AS page_visits_add_friend, \\\n",
    "count(CASE WHEN page = \"Help\" THEN 1 END) AS page_visits_help, \\\n",
    "count(CASE WHEN page = \"Error\" THEN 1 END) AS page_visits_error \\\n",
    "FROM log_table GROUP BY userID ''').toPandas()"
   ]
  },
  {
   "cell_type": "code",
   "execution_count": 26,
   "metadata": {},
   "outputs": [
    {
     "data": {
      "text/html": [
       "<div>\n",
       "<style scoped>\n",
       "    .dataframe tbody tr th:only-of-type {\n",
       "        vertical-align: middle;\n",
       "    }\n",
       "\n",
       "    .dataframe tbody tr th {\n",
       "        vertical-align: top;\n",
       "    }\n",
       "\n",
       "    .dataframe thead th {\n",
       "        text-align: right;\n",
       "    }\n",
       "</style>\n",
       "<table border=\"1\" class=\"dataframe\">\n",
       "  <thead>\n",
       "    <tr style=\"text-align: right;\">\n",
       "      <th></th>\n",
       "      <th>userID</th>\n",
       "      <th>song_count</th>\n",
       "      <th>dist_song_count</th>\n",
       "      <th>dist_artist_count</th>\n",
       "      <th>session_count</th>\n",
       "      <th>downgrade_count</th>\n",
       "      <th>upgrade_count</th>\n",
       "      <th>churn</th>\n",
       "    </tr>\n",
       "  </thead>\n",
       "  <tbody>\n",
       "    <tr>\n",
       "      <th>0</th>\n",
       "      <td>100010</td>\n",
       "      <td>275</td>\n",
       "      <td>269</td>\n",
       "      <td>252</td>\n",
       "      <td>7</td>\n",
       "      <td>0</td>\n",
       "      <td>0</td>\n",
       "      <td>0</td>\n",
       "    </tr>\n",
       "    <tr>\n",
       "      <th>1</th>\n",
       "      <td>200002</td>\n",
       "      <td>387</td>\n",
       "      <td>378</td>\n",
       "      <td>339</td>\n",
       "      <td>6</td>\n",
       "      <td>0</td>\n",
       "      <td>1</td>\n",
       "      <td>0</td>\n",
       "    </tr>\n",
       "    <tr>\n",
       "      <th>2</th>\n",
       "      <td>125</td>\n",
       "      <td>8</td>\n",
       "      <td>8</td>\n",
       "      <td>8</td>\n",
       "      <td>1</td>\n",
       "      <td>0</td>\n",
       "      <td>0</td>\n",
       "      <td>1</td>\n",
       "    </tr>\n",
       "    <tr>\n",
       "      <th>3</th>\n",
       "      <td>51</td>\n",
       "      <td>2111</td>\n",
       "      <td>1854</td>\n",
       "      <td>1385</td>\n",
       "      <td>10</td>\n",
       "      <td>0</td>\n",
       "      <td>0</td>\n",
       "      <td>1</td>\n",
       "    </tr>\n",
       "    <tr>\n",
       "      <th>4</th>\n",
       "      <td>124</td>\n",
       "      <td>4079</td>\n",
       "      <td>3339</td>\n",
       "      <td>2232</td>\n",
       "      <td>29</td>\n",
       "      <td>0</td>\n",
       "      <td>0</td>\n",
       "      <td>0</td>\n",
       "    </tr>\n",
       "    <tr>\n",
       "      <th>5</th>\n",
       "      <td>7</td>\n",
       "      <td>150</td>\n",
       "      <td>148</td>\n",
       "      <td>142</td>\n",
       "      <td>7</td>\n",
       "      <td>0</td>\n",
       "      <td>0</td>\n",
       "      <td>0</td>\n",
       "    </tr>\n",
       "    <tr>\n",
       "      <th>6</th>\n",
       "      <td>54</td>\n",
       "      <td>2841</td>\n",
       "      <td>2414</td>\n",
       "      <td>1744</td>\n",
       "      <td>37</td>\n",
       "      <td>1</td>\n",
       "      <td>1</td>\n",
       "      <td>1</td>\n",
       "    </tr>\n",
       "    <tr>\n",
       "      <th>7</th>\n",
       "      <td>15</td>\n",
       "      <td>1914</td>\n",
       "      <td>1707</td>\n",
       "      <td>1302</td>\n",
       "      <td>15</td>\n",
       "      <td>0</td>\n",
       "      <td>0</td>\n",
       "      <td>0</td>\n",
       "    </tr>\n",
       "    <tr>\n",
       "      <th>8</th>\n",
       "      <td>155</td>\n",
       "      <td>820</td>\n",
       "      <td>759</td>\n",
       "      <td>643</td>\n",
       "      <td>6</td>\n",
       "      <td>0</td>\n",
       "      <td>1</td>\n",
       "      <td>0</td>\n",
       "    </tr>\n",
       "    <tr>\n",
       "      <th>9</th>\n",
       "      <td>132</td>\n",
       "      <td>1928</td>\n",
       "      <td>1718</td>\n",
       "      <td>1299</td>\n",
       "      <td>16</td>\n",
       "      <td>0</td>\n",
       "      <td>1</td>\n",
       "      <td>0</td>\n",
       "    </tr>\n",
       "  </tbody>\n",
       "</table>\n",
       "</div>"
      ],
      "text/plain": [
       "   userID  song_count  dist_song_count  dist_artist_count  session_count  \\\n",
       "0  100010         275              269                252              7   \n",
       "1  200002         387              378                339              6   \n",
       "2     125           8                8                  8              1   \n",
       "3      51        2111             1854               1385             10   \n",
       "4     124        4079             3339               2232             29   \n",
       "5       7         150              148                142              7   \n",
       "6      54        2841             2414               1744             37   \n",
       "7      15        1914             1707               1302             15   \n",
       "8     155         820              759                643              6   \n",
       "9     132        1928             1718               1299             16   \n",
       "\n",
       "   downgrade_count  upgrade_count  churn  \n",
       "0                0              0      0  \n",
       "1                0              1      0  \n",
       "2                0              0      1  \n",
       "3                0              0      1  \n",
       "4                0              0      0  \n",
       "5                0              0      0  \n",
       "6                1              1      1  \n",
       "7                0              0      0  \n",
       "8                0              1      0  \n",
       "9                0              1      0  "
      ]
     },
     "execution_count": 26,
     "metadata": {},
     "output_type": "execute_result"
    }
   ],
   "source": [
    "# let's look at the counts\n",
    "df_churn.iloc[:10,:8]"
   ]
  },
  {
   "cell_type": "code",
   "execution_count": 27,
   "metadata": {},
   "outputs": [
    {
     "data": {
      "text/html": [
       "<div>\n",
       "<style scoped>\n",
       "    .dataframe tbody tr th:only-of-type {\n",
       "        vertical-align: middle;\n",
       "    }\n",
       "\n",
       "    .dataframe tbody tr th {\n",
       "        vertical-align: top;\n",
       "    }\n",
       "\n",
       "    .dataframe thead th {\n",
       "        text-align: right;\n",
       "    }\n",
       "</style>\n",
       "<table border=\"1\" class=\"dataframe\">\n",
       "  <thead>\n",
       "    <tr style=\"text-align: right;\">\n",
       "      <th></th>\n",
       "      <th>churn</th>\n",
       "      <th>page_visits_home</th>\n",
       "      <th>page_visits_logout</th>\n",
       "      <th>page_visits_settings</th>\n",
       "      <th>page_visits_save_settings</th>\n",
       "      <th>page_visits_thumbs_down</th>\n",
       "      <th>page_visits_thumbs_up</th>\n",
       "      <th>page_visits_upgrade</th>\n",
       "      <th>page_visits_downgrade</th>\n",
       "      <th>page_visits_roll_advert</th>\n",
       "      <th>page_visits_about</th>\n",
       "      <th>page_visits_add_to_playlist</th>\n",
       "      <th>page_visits_add_friend</th>\n",
       "      <th>page_visits_help</th>\n",
       "      <th>page_visits_error</th>\n",
       "    </tr>\n",
       "  </thead>\n",
       "  <tbody>\n",
       "    <tr>\n",
       "      <th>0</th>\n",
       "      <td>0</td>\n",
       "      <td>11</td>\n",
       "      <td>5</td>\n",
       "      <td>0</td>\n",
       "      <td>0</td>\n",
       "      <td>5</td>\n",
       "      <td>17</td>\n",
       "      <td>2</td>\n",
       "      <td>0</td>\n",
       "      <td>52</td>\n",
       "      <td>1</td>\n",
       "      <td>7</td>\n",
       "      <td>4</td>\n",
       "      <td>2</td>\n",
       "      <td>0</td>\n",
       "    </tr>\n",
       "    <tr>\n",
       "      <th>1</th>\n",
       "      <td>0</td>\n",
       "      <td>20</td>\n",
       "      <td>5</td>\n",
       "      <td>3</td>\n",
       "      <td>0</td>\n",
       "      <td>6</td>\n",
       "      <td>21</td>\n",
       "      <td>2</td>\n",
       "      <td>5</td>\n",
       "      <td>7</td>\n",
       "      <td>3</td>\n",
       "      <td>8</td>\n",
       "      <td>4</td>\n",
       "      <td>2</td>\n",
       "      <td>0</td>\n",
       "    </tr>\n",
       "    <tr>\n",
       "      <th>2</th>\n",
       "      <td>1</td>\n",
       "      <td>0</td>\n",
       "      <td>0</td>\n",
       "      <td>0</td>\n",
       "      <td>0</td>\n",
       "      <td>0</td>\n",
       "      <td>0</td>\n",
       "      <td>0</td>\n",
       "      <td>0</td>\n",
       "      <td>1</td>\n",
       "      <td>0</td>\n",
       "      <td>0</td>\n",
       "      <td>0</td>\n",
       "      <td>0</td>\n",
       "      <td>0</td>\n",
       "    </tr>\n",
       "    <tr>\n",
       "      <th>3</th>\n",
       "      <td>1</td>\n",
       "      <td>75</td>\n",
       "      <td>24</td>\n",
       "      <td>12</td>\n",
       "      <td>1</td>\n",
       "      <td>21</td>\n",
       "      <td>100</td>\n",
       "      <td>0</td>\n",
       "      <td>23</td>\n",
       "      <td>0</td>\n",
       "      <td>2</td>\n",
       "      <td>52</td>\n",
       "      <td>28</td>\n",
       "      <td>12</td>\n",
       "      <td>1</td>\n",
       "    </tr>\n",
       "    <tr>\n",
       "      <th>4</th>\n",
       "      <td>0</td>\n",
       "      <td>176</td>\n",
       "      <td>59</td>\n",
       "      <td>20</td>\n",
       "      <td>6</td>\n",
       "      <td>41</td>\n",
       "      <td>171</td>\n",
       "      <td>0</td>\n",
       "      <td>41</td>\n",
       "      <td>4</td>\n",
       "      <td>7</td>\n",
       "      <td>118</td>\n",
       "      <td>74</td>\n",
       "      <td>23</td>\n",
       "      <td>6</td>\n",
       "    </tr>\n",
       "    <tr>\n",
       "      <th>5</th>\n",
       "      <td>0</td>\n",
       "      <td>10</td>\n",
       "      <td>3</td>\n",
       "      <td>3</td>\n",
       "      <td>1</td>\n",
       "      <td>1</td>\n",
       "      <td>7</td>\n",
       "      <td>2</td>\n",
       "      <td>0</td>\n",
       "      <td>16</td>\n",
       "      <td>0</td>\n",
       "      <td>5</td>\n",
       "      <td>1</td>\n",
       "      <td>1</td>\n",
       "      <td>1</td>\n",
       "    </tr>\n",
       "    <tr>\n",
       "      <th>6</th>\n",
       "      <td>1</td>\n",
       "      <td>129</td>\n",
       "      <td>36</td>\n",
       "      <td>17</td>\n",
       "      <td>3</td>\n",
       "      <td>29</td>\n",
       "      <td>163</td>\n",
       "      <td>1</td>\n",
       "      <td>39</td>\n",
       "      <td>47</td>\n",
       "      <td>5</td>\n",
       "      <td>72</td>\n",
       "      <td>33</td>\n",
       "      <td>17</td>\n",
       "      <td>1</td>\n",
       "    </tr>\n",
       "    <tr>\n",
       "      <th>7</th>\n",
       "      <td>0</td>\n",
       "      <td>93</td>\n",
       "      <td>27</td>\n",
       "      <td>16</td>\n",
       "      <td>2</td>\n",
       "      <td>14</td>\n",
       "      <td>81</td>\n",
       "      <td>0</td>\n",
       "      <td>28</td>\n",
       "      <td>1</td>\n",
       "      <td>2</td>\n",
       "      <td>59</td>\n",
       "      <td>31</td>\n",
       "      <td>8</td>\n",
       "      <td>2</td>\n",
       "    </tr>\n",
       "    <tr>\n",
       "      <th>8</th>\n",
       "      <td>0</td>\n",
       "      <td>30</td>\n",
       "      <td>14</td>\n",
       "      <td>5</td>\n",
       "      <td>0</td>\n",
       "      <td>3</td>\n",
       "      <td>58</td>\n",
       "      <td>2</td>\n",
       "      <td>12</td>\n",
       "      <td>8</td>\n",
       "      <td>2</td>\n",
       "      <td>24</td>\n",
       "      <td>11</td>\n",
       "      <td>9</td>\n",
       "      <td>3</td>\n",
       "    </tr>\n",
       "    <tr>\n",
       "      <th>9</th>\n",
       "      <td>0</td>\n",
       "      <td>83</td>\n",
       "      <td>34</td>\n",
       "      <td>17</td>\n",
       "      <td>4</td>\n",
       "      <td>17</td>\n",
       "      <td>96</td>\n",
       "      <td>1</td>\n",
       "      <td>19</td>\n",
       "      <td>2</td>\n",
       "      <td>4</td>\n",
       "      <td>38</td>\n",
       "      <td>41</td>\n",
       "      <td>16</td>\n",
       "      <td>3</td>\n",
       "    </tr>\n",
       "  </tbody>\n",
       "</table>\n",
       "</div>"
      ],
      "text/plain": [
       "   churn  page_visits_home  page_visits_logout  page_visits_settings  \\\n",
       "0      0                11                   5                     0   \n",
       "1      0                20                   5                     3   \n",
       "2      1                 0                   0                     0   \n",
       "3      1                75                  24                    12   \n",
       "4      0               176                  59                    20   \n",
       "5      0                10                   3                     3   \n",
       "6      1               129                  36                    17   \n",
       "7      0                93                  27                    16   \n",
       "8      0                30                  14                     5   \n",
       "9      0                83                  34                    17   \n",
       "\n",
       "   page_visits_save_settings  page_visits_thumbs_down  page_visits_thumbs_up  \\\n",
       "0                          0                        5                     17   \n",
       "1                          0                        6                     21   \n",
       "2                          0                        0                      0   \n",
       "3                          1                       21                    100   \n",
       "4                          6                       41                    171   \n",
       "5                          1                        1                      7   \n",
       "6                          3                       29                    163   \n",
       "7                          2                       14                     81   \n",
       "8                          0                        3                     58   \n",
       "9                          4                       17                     96   \n",
       "\n",
       "   page_visits_upgrade  page_visits_downgrade  page_visits_roll_advert  \\\n",
       "0                    2                      0                       52   \n",
       "1                    2                      5                        7   \n",
       "2                    0                      0                        1   \n",
       "3                    0                     23                        0   \n",
       "4                    0                     41                        4   \n",
       "5                    2                      0                       16   \n",
       "6                    1                     39                       47   \n",
       "7                    0                     28                        1   \n",
       "8                    2                     12                        8   \n",
       "9                    1                     19                        2   \n",
       "\n",
       "   page_visits_about  page_visits_add_to_playlist  page_visits_add_friend  \\\n",
       "0                  1                            7                       4   \n",
       "1                  3                            8                       4   \n",
       "2                  0                            0                       0   \n",
       "3                  2                           52                      28   \n",
       "4                  7                          118                      74   \n",
       "5                  0                            5                       1   \n",
       "6                  5                           72                      33   \n",
       "7                  2                           59                      31   \n",
       "8                  2                           24                      11   \n",
       "9                  4                           38                      41   \n",
       "\n",
       "   page_visits_help  page_visits_error  \n",
       "0                 2                  0  \n",
       "1                 2                  0  \n",
       "2                 0                  0  \n",
       "3                12                  1  \n",
       "4                23                  6  \n",
       "5                 1                  1  \n",
       "6                17                  1  \n",
       "7                 8                  2  \n",
       "8                 9                  3  \n",
       "9                16                  3  "
      ]
     },
     "execution_count": 27,
     "metadata": {},
     "output_type": "execute_result"
    }
   ],
   "source": [
    "# let's look at the page visits\n",
    "df_churn.iloc[:10,7:]"
   ]
  },
  {
   "cell_type": "markdown",
   "metadata": {},
   "source": [
    "As discussed before we will remove users, who churned in less than one week."
   ]
  },
  {
   "cell_type": "code",
   "execution_count": 28,
   "metadata": {},
   "outputs": [],
   "source": [
    "df_churn = df_churn[~df_churn.userID.isin(early_churn.userID.tolist())]"
   ]
  },
  {
   "cell_type": "code",
   "execution_count": 29,
   "metadata": {},
   "outputs": [
    {
     "data": {
      "text/plain": [
       "array([[<matplotlib.axes._subplots.AxesSubplot object at 0x7f5dc420cb38>,\n",
       "        <matplotlib.axes._subplots.AxesSubplot object at 0x7f5dc41b26a0>,\n",
       "        <matplotlib.axes._subplots.AxesSubplot object at 0x7f5dc416c710>,\n",
       "        <matplotlib.axes._subplots.AxesSubplot object at 0x7f5dc417ca58>],\n",
       "       [<matplotlib.axes._subplots.AxesSubplot object at 0x7f5dc40d85c0>,\n",
       "        <matplotlib.axes._subplots.AxesSubplot object at 0x7f5dc40d85f8>,\n",
       "        <matplotlib.axes._subplots.AxesSubplot object at 0x7f5dc40c8860>,\n",
       "        <matplotlib.axes._subplots.AxesSubplot object at 0x7f5dc4085860>],\n",
       "       [<matplotlib.axes._subplots.AxesSubplot object at 0x7f5dc403a080>,\n",
       "        <matplotlib.axes._subplots.AxesSubplot object at 0x7f5dbdfe3080>,\n",
       "        <matplotlib.axes._subplots.AxesSubplot object at 0x7f5dbdf9c4e0>,\n",
       "        <matplotlib.axes._subplots.AxesSubplot object at 0x7f5dbdf55a20>],\n",
       "       [<matplotlib.axes._subplots.AxesSubplot object at 0x7f5dbdf60b38>,\n",
       "        <matplotlib.axes._subplots.AxesSubplot object at 0x7f5dbdf34fd0>,\n",
       "        <matplotlib.axes._subplots.AxesSubplot object at 0x7f5dbdefc080>,\n",
       "        <matplotlib.axes._subplots.AxesSubplot object at 0x7f5dbde92a20>],\n",
       "       [<matplotlib.axes._subplots.AxesSubplot object at 0x7f5dbde66fd0>,\n",
       "        <matplotlib.axes._subplots.AxesSubplot object at 0x7f5dc4872048>,\n",
       "        <matplotlib.axes._subplots.AxesSubplot object at 0x7f5dc4838da0>,\n",
       "        <matplotlib.axes._subplots.AxesSubplot object at 0x7f5dc47f4320>]], dtype=object)"
      ]
     },
     "execution_count": 29,
     "metadata": {},
     "output_type": "execute_result"
    },
    {
     "data": {
      "image/png": "[encoded data removed]",
      "text/plain": [
       "<matplotlib.figure.Figure at 0x7f5dc4269ba8>"
      ]
     },
     "metadata": {
      "needs_background": "light"
     },
     "output_type": "display_data"
    }
   ],
   "source": [
    "df_churn.drop(columns = ['churn']).hist(figsize = (16,14))"
   ]
  },
  {
   "cell_type": "markdown",
   "metadata": {},
   "source": [
    "Let's rescale the statistics with the number of sessions."
   ]
  },
  {
   "cell_type": "code",
   "execution_count": 89,
   "metadata": {},
   "outputs": [],
   "source": [
    "df_div = df_churn.copy(deep = True)\n",
    "df_div.iloc[:,1:4] = df_div.iloc[:,1:4].div(df_div.session_count, axis=0)\n",
    "df_div.iloc[:,8:] = df_div.iloc[:,8:].div(df_div.session_count, axis=0)"
   ]
  },
  {
   "cell_type": "code",
   "execution_count": 90,
   "metadata": {},
   "outputs": [
    {
     "data": {
      "text/html": [
       "<div>\n",
       "<style scoped>\n",
       "    .dataframe tbody tr th:only-of-type {\n",
       "        vertical-align: middle;\n",
       "    }\n",
       "\n",
       "    .dataframe tbody tr th {\n",
       "        vertical-align: top;\n",
       "    }\n",
       "\n",
       "    .dataframe thead th {\n",
       "        text-align: right;\n",
       "    }\n",
       "</style>\n",
       "<table border=\"1\" class=\"dataframe\">\n",
       "  <thead>\n",
       "    <tr style=\"text-align: right;\">\n",
       "      <th></th>\n",
       "      <th>song_count</th>\n",
       "      <th>dist_song_count</th>\n",
       "      <th>dist_artist_count</th>\n",
       "      <th>session_count</th>\n",
       "      <th>downgrade_count</th>\n",
       "      <th>upgrade_count</th>\n",
       "      <th>churn</th>\n",
       "      <th>page_visits_home</th>\n",
       "      <th>page_visits_logout</th>\n",
       "      <th>page_visits_settings</th>\n",
       "      <th>...</th>\n",
       "      <th>page_visits_thumbs_down</th>\n",
       "      <th>page_visits_thumbs_up</th>\n",
       "      <th>page_visits_upgrade</th>\n",
       "      <th>page_visits_downgrade</th>\n",
       "      <th>page_visits_roll_advert</th>\n",
       "      <th>page_visits_about</th>\n",
       "      <th>page_visits_add_to_playlist</th>\n",
       "      <th>page_visits_add_friend</th>\n",
       "      <th>page_visits_help</th>\n",
       "      <th>page_visits_error</th>\n",
       "    </tr>\n",
       "  </thead>\n",
       "  <tbody>\n",
       "    <tr>\n",
       "      <th>count</th>\n",
       "      <td>218.000000</td>\n",
       "      <td>218.000000</td>\n",
       "      <td>218.000000</td>\n",
       "      <td>218.000000</td>\n",
       "      <td>218.000000</td>\n",
       "      <td>218.000000</td>\n",
       "      <td>218.000000</td>\n",
       "      <td>218.000000</td>\n",
       "      <td>218.000000</td>\n",
       "      <td>218.000000</td>\n",
       "      <td>...</td>\n",
       "      <td>218.000000</td>\n",
       "      <td>218.000000</td>\n",
       "      <td>218.000000</td>\n",
       "      <td>218.000000</td>\n",
       "      <td>218.000000</td>\n",
       "      <td>218.000000</td>\n",
       "      <td>218.000000</td>\n",
       "      <td>218.000000</td>\n",
       "      <td>218.000000</td>\n",
       "      <td>218.000000</td>\n",
       "    </tr>\n",
       "    <tr>\n",
       "      <th>mean</th>\n",
       "      <td>69.815479</td>\n",
       "      <td>64.206574</td>\n",
       "      <td>53.355827</td>\n",
       "      <td>14.495413</td>\n",
       "      <td>0.288991</td>\n",
       "      <td>0.729358</td>\n",
       "      <td>0.206422</td>\n",
       "      <td>3.146716</td>\n",
       "      <td>1.028254</td>\n",
       "      <td>0.484892</td>\n",
       "      <td>...</td>\n",
       "      <td>0.766735</td>\n",
       "      <td>3.745666</td>\n",
       "      <td>0.196105</td>\n",
       "      <td>0.577022</td>\n",
       "      <td>1.611608</td>\n",
       "      <td>0.154460</td>\n",
       "      <td>1.940166</td>\n",
       "      <td>1.366555</td>\n",
       "      <td>0.438610</td>\n",
       "      <td>0.084908</td>\n",
       "    </tr>\n",
       "    <tr>\n",
       "      <th>std</th>\n",
       "      <td>42.346979</td>\n",
       "      <td>37.811378</td>\n",
       "      <td>30.167894</td>\n",
       "      <td>14.720201</td>\n",
       "      <td>0.594884</td>\n",
       "      <td>0.734383</td>\n",
       "      <td>0.405668</td>\n",
       "      <td>1.575141</td>\n",
       "      <td>0.698332</td>\n",
       "      <td>0.423177</td>\n",
       "      <td>...</td>\n",
       "      <td>0.588750</td>\n",
       "      <td>2.278660</td>\n",
       "      <td>0.240154</td>\n",
       "      <td>0.578931</td>\n",
       "      <td>1.784380</td>\n",
       "      <td>0.201838</td>\n",
       "      <td>1.277408</td>\n",
       "      <td>0.909917</td>\n",
       "      <td>0.333966</td>\n",
       "      <td>0.130685</td>\n",
       "    </tr>\n",
       "    <tr>\n",
       "      <th>min</th>\n",
       "      <td>3.000000</td>\n",
       "      <td>3.000000</td>\n",
       "      <td>3.000000</td>\n",
       "      <td>1.000000</td>\n",
       "      <td>0.000000</td>\n",
       "      <td>0.000000</td>\n",
       "      <td>0.000000</td>\n",
       "      <td>0.000000</td>\n",
       "      <td>0.000000</td>\n",
       "      <td>0.000000</td>\n",
       "      <td>...</td>\n",
       "      <td>0.000000</td>\n",
       "      <td>0.000000</td>\n",
       "      <td>0.000000</td>\n",
       "      <td>0.000000</td>\n",
       "      <td>0.000000</td>\n",
       "      <td>0.000000</td>\n",
       "      <td>0.000000</td>\n",
       "      <td>0.000000</td>\n",
       "      <td>0.000000</td>\n",
       "      <td>0.000000</td>\n",
       "    </tr>\n",
       "    <tr>\n",
       "      <th>25%</th>\n",
       "      <td>38.811304</td>\n",
       "      <td>36.495798</td>\n",
       "      <td>32.694079</td>\n",
       "      <td>6.000000</td>\n",
       "      <td>0.000000</td>\n",
       "      <td>0.000000</td>\n",
       "      <td>0.000000</td>\n",
       "      <td>2.067857</td>\n",
       "      <td>0.673077</td>\n",
       "      <td>0.235994</td>\n",
       "      <td>...</td>\n",
       "      <td>0.376488</td>\n",
       "      <td>2.119518</td>\n",
       "      <td>0.030357</td>\n",
       "      <td>0.000000</td>\n",
       "      <td>0.333333</td>\n",
       "      <td>0.000000</td>\n",
       "      <td>1.000000</td>\n",
       "      <td>0.750000</td>\n",
       "      <td>0.203526</td>\n",
       "      <td>0.000000</td>\n",
       "    </tr>\n",
       "    <tr>\n",
       "      <th>50%</th>\n",
       "      <td>64.750000</td>\n",
       "      <td>59.520833</td>\n",
       "      <td>48.522282</td>\n",
       "      <td>10.000000</td>\n",
       "      <td>0.000000</td>\n",
       "      <td>1.000000</td>\n",
       "      <td>0.000000</td>\n",
       "      <td>2.904545</td>\n",
       "      <td>1.000000</td>\n",
       "      <td>0.409007</td>\n",
       "      <td>...</td>\n",
       "      <td>0.666667</td>\n",
       "      <td>3.500000</td>\n",
       "      <td>0.142857</td>\n",
       "      <td>0.454545</td>\n",
       "      <td>1.026316</td>\n",
       "      <td>0.116516</td>\n",
       "      <td>1.804762</td>\n",
       "      <td>1.263889</td>\n",
       "      <td>0.388889</td>\n",
       "      <td>0.037088</td>\n",
       "    </tr>\n",
       "    <tr>\n",
       "      <th>75%</th>\n",
       "      <td>91.778571</td>\n",
       "      <td>84.488487</td>\n",
       "      <td>66.151989</td>\n",
       "      <td>18.000000</td>\n",
       "      <td>0.000000</td>\n",
       "      <td>1.000000</td>\n",
       "      <td>0.000000</td>\n",
       "      <td>3.902406</td>\n",
       "      <td>1.250000</td>\n",
       "      <td>0.661765</td>\n",
       "      <td>...</td>\n",
       "      <td>1.000000</td>\n",
       "      <td>5.000000</td>\n",
       "      <td>0.272727</td>\n",
       "      <td>0.898214</td>\n",
       "      <td>2.333333</td>\n",
       "      <td>0.216667</td>\n",
       "      <td>2.623162</td>\n",
       "      <td>1.800000</td>\n",
       "      <td>0.587518</td>\n",
       "      <td>0.124053</td>\n",
       "    </tr>\n",
       "    <tr>\n",
       "      <th>max</th>\n",
       "      <td>286.666667</td>\n",
       "      <td>246.444444</td>\n",
       "      <td>197.000000</td>\n",
       "      <td>107.000000</td>\n",
       "      <td>3.000000</td>\n",
       "      <td>4.000000</td>\n",
       "      <td>1.000000</td>\n",
       "      <td>11.000000</td>\n",
       "      <td>8.000000</td>\n",
       "      <td>4.000000</td>\n",
       "      <td>...</td>\n",
       "      <td>3.466667</td>\n",
       "      <td>13.777778</td>\n",
       "      <td>2.000000</td>\n",
       "      <td>2.444444</td>\n",
       "      <td>14.000000</td>\n",
       "      <td>2.000000</td>\n",
       "      <td>8.000000</td>\n",
       "      <td>4.666667</td>\n",
       "      <td>2.000000</td>\n",
       "      <td>1.000000</td>\n",
       "    </tr>\n",
       "  </tbody>\n",
       "</table>\n",
       "<p>8 rows × 21 columns</p>\n",
       "</div>"
      ],
      "text/plain": [
       "       song_count  dist_song_count  dist_artist_count  session_count  \\\n",
       "count  218.000000       218.000000         218.000000     218.000000   \n",
       "mean    69.815479        64.206574          53.355827      14.495413   \n",
       "std     42.346979        37.811378          30.167894      14.720201   \n",
       "min      3.000000         3.000000           3.000000       1.000000   \n",
       "25%     38.811304        36.495798          32.694079       6.000000   \n",
       "50%     64.750000        59.520833          48.522282      10.000000   \n",
       "75%     91.778571        84.488487          66.151989      18.000000   \n",
       "max    286.666667       246.444444         197.000000     107.000000   \n",
       "\n",
       "       downgrade_count  upgrade_count       churn  page_visits_home  \\\n",
       "count       218.000000     218.000000  218.000000        218.000000   \n",
       "mean          0.288991       0.729358    0.206422          3.146716   \n",
       "std           0.594884       0.734383    0.405668          1.575141   \n",
       "min           0.000000       0.000000    0.000000          0.000000   \n",
       "25%           0.000000       0.000000    0.000000          2.067857   \n",
       "50%           0.000000       1.000000    0.000000          2.904545   \n",
       "75%           0.000000       1.000000    0.000000          3.902406   \n",
       "max           3.000000       4.000000    1.000000         11.000000   \n",
       "\n",
       "       page_visits_logout  page_visits_settings        ...          \\\n",
       "count          218.000000            218.000000        ...           \n",
       "mean             1.028254              0.484892        ...           \n",
       "std              0.698332              0.423177        ...           \n",
       "min              0.000000              0.000000        ...           \n",
       "25%              0.673077              0.235994        ...           \n",
       "50%              1.000000              0.409007        ...           \n",
       "75%              1.250000              0.661765        ...           \n",
       "max              8.000000              4.000000        ...           \n",
       "\n",
       "       page_visits_thumbs_down  page_visits_thumbs_up  page_visits_upgrade  \\\n",
       "count               218.000000             218.000000           218.000000   \n",
       "mean                  0.766735               3.745666             0.196105   \n",
       "std                   0.588750               2.278660             0.240154   \n",
       "min                   0.000000               0.000000             0.000000   \n",
       "25%                   0.376488               2.119518             0.030357   \n",
       "50%                   0.666667               3.500000             0.142857   \n",
       "75%                   1.000000               5.000000             0.272727   \n",
       "max                   3.466667              13.777778             2.000000   \n",
       "\n",
       "       page_visits_downgrade  page_visits_roll_advert  page_visits_about  \\\n",
       "count             218.000000               218.000000         218.000000   \n",
       "mean                0.577022                 1.611608           0.154460   \n",
       "std                 0.578931                 1.784380           0.201838   \n",
       "min                 0.000000                 0.000000           0.000000   \n",
       "25%                 0.000000                 0.333333           0.000000   \n",
       "50%                 0.454545                 1.026316           0.116516   \n",
       "75%                 0.898214                 2.333333           0.216667   \n",
       "max                 2.444444                14.000000           2.000000   \n",
       "\n",
       "       page_visits_add_to_playlist  page_visits_add_friend  page_visits_help  \\\n",
       "count                   218.000000              218.000000        218.000000   \n",
       "mean                      1.940166                1.366555          0.438610   \n",
       "std                       1.277408                0.909917          0.333966   \n",
       "min                       0.000000                0.000000          0.000000   \n",
       "25%                       1.000000                0.750000          0.203526   \n",
       "50%                       1.804762                1.263889          0.388889   \n",
       "75%                       2.623162                1.800000          0.587518   \n",
       "max                       8.000000                4.666667          2.000000   \n",
       "\n",
       "       page_visits_error  \n",
       "count         218.000000  \n",
       "mean            0.084908  \n",
       "std             0.130685  \n",
       "min             0.000000  \n",
       "25%             0.000000  \n",
       "50%             0.037088  \n",
       "75%             0.124053  \n",
       "max             1.000000  \n",
       "\n",
       "[8 rows x 21 columns]"
      ]
     },
     "execution_count": 90,
     "metadata": {},
     "output_type": "execute_result"
    }
   ],
   "source": [
    "df_div.describe()"
   ]
  },
  {
   "cell_type": "markdown",
   "metadata": {},
   "source": [
    "We will use StandardScaler to scale the parameters."
   ]
  },
  {
   "cell_type": "code",
   "execution_count": 142,
   "metadata": {},
   "outputs": [],
   "source": [
    "from sklearn.preprocessing import StandardScaler\n",
    "from sklearn.preprocessing import QuantileTransformer\n",
    "scaler = QuantileTransformer(n_quantiles = 1000, output_distribution = 'uniform')\n",
    "df_div.iloc[:,1:7] = scaler.fit_transform(df_div.iloc[:,1:7])\n",
    "df_div.iloc[:,8:] = scaler.fit_transform(df_div.iloc[:,8:])"
   ]
  },
  {
   "cell_type": "code",
   "execution_count": 143,
   "metadata": {
    "scrolled": true
   },
   "outputs": [
    {
     "data": {
      "text/plain": [
       "array([[<matplotlib.axes._subplots.AxesSubplot object at 0x7f5daf30f6a0>,\n",
       "        <matplotlib.axes._subplots.AxesSubplot object at 0x7f5daf26d6d8>,\n",
       "        <matplotlib.axes._subplots.AxesSubplot object at 0x7f5daf2272e8>,\n",
       "        <matplotlib.axes._subplots.AxesSubplot object at 0x7f5daf1e1208>],\n",
       "       [<matplotlib.axes._subplots.AxesSubplot object at 0x7f5daf27b278>,\n",
       "        <matplotlib.axes._subplots.AxesSubplot object at 0x7f5daf27b400>,\n",
       "        <matplotlib.axes._subplots.AxesSubplot object at 0x7f5daf179c18>,\n",
       "        <matplotlib.axes._subplots.AxesSubplot object at 0x7f5daf133c18>],\n",
       "       [<matplotlib.axes._subplots.AxesSubplot object at 0x7f5daf0e8c88>,\n",
       "        <matplotlib.axes._subplots.AxesSubplot object at 0x7f5daf09f748>,\n",
       "        <matplotlib.axes._subplots.AxesSubplot object at 0x7f5daf058748>,\n",
       "        <matplotlib.axes._subplots.AxesSubplot object at 0x7f5daf0107b8>],\n",
       "       [<matplotlib.axes._subplots.AxesSubplot object at 0x7f5daefc9898>,\n",
       "        <matplotlib.axes._subplots.AxesSubplot object at 0x7f5daf069128>,\n",
       "        <matplotlib.axes._subplots.AxesSubplot object at 0x7f5daefa9dd8>,\n",
       "        <matplotlib.axes._subplots.AxesSubplot object at 0x7f5daef63f28>],\n",
       "       [<matplotlib.axes._subplots.AxesSubplot object at 0x7f5daef1cf28>,\n",
       "        <matplotlib.axes._subplots.AxesSubplot object at 0x7f5daeed4f28>,\n",
       "        <matplotlib.axes._subplots.AxesSubplot object at 0x7f5daee89748>,\n",
       "        <matplotlib.axes._subplots.AxesSubplot object at 0x7f5daee42c18>]], dtype=object)"
      ]
     },
     "execution_count": 143,
     "metadata": {},
     "output_type": "execute_result"
    },
    {
     "data": {
      "image/png": "[encoded data removed]",
      "text/plain": [
       "<matplotlib.figure.Figure at 0x7f5daf303908>"
      ]
     },
     "metadata": {
      "needs_background": "light"
     },
     "output_type": "display_data"
    }
   ],
   "source": [
    "df_div.drop(columns = ['churn']).hist(figsize = (16,14))"
   ]
  },
  {
   "cell_type": "code",
   "execution_count": 144,
   "metadata": {
    "scrolled": false
   },
   "outputs": [
    {
     "data": {
      "text/html": [
       "<div>\n",
       "<style scoped>\n",
       "    .dataframe tbody tr th:only-of-type {\n",
       "        vertical-align: middle;\n",
       "    }\n",
       "\n",
       "    .dataframe tbody tr th {\n",
       "        vertical-align: top;\n",
       "    }\n",
       "\n",
       "    .dataframe thead th {\n",
       "        text-align: right;\n",
       "    }\n",
       "</style>\n",
       "<table border=\"1\" class=\"dataframe\">\n",
       "  <thead>\n",
       "    <tr style=\"text-align: right;\">\n",
       "      <th></th>\n",
       "      <th>song_count</th>\n",
       "      <th>dist_song_count</th>\n",
       "      <th>dist_artist_count</th>\n",
       "      <th>session_count</th>\n",
       "      <th>downgrade_count</th>\n",
       "      <th>upgrade_count</th>\n",
       "      <th>churn</th>\n",
       "      <th>page_visits_home</th>\n",
       "      <th>page_visits_logout</th>\n",
       "      <th>page_visits_settings</th>\n",
       "      <th>...</th>\n",
       "      <th>page_visits_thumbs_down</th>\n",
       "      <th>page_visits_thumbs_up</th>\n",
       "      <th>page_visits_upgrade</th>\n",
       "      <th>page_visits_downgrade</th>\n",
       "      <th>page_visits_roll_advert</th>\n",
       "      <th>page_visits_about</th>\n",
       "      <th>page_visits_add_to_playlist</th>\n",
       "      <th>page_visits_add_friend</th>\n",
       "      <th>page_visits_help</th>\n",
       "      <th>page_visits_error</th>\n",
       "    </tr>\n",
       "  </thead>\n",
       "  <tbody>\n",
       "    <tr>\n",
       "      <th>count</th>\n",
       "      <td>2.180000e+02</td>\n",
       "      <td>2.180000e+02</td>\n",
       "      <td>2.180000e+02</td>\n",
       "      <td>2.180000e+02</td>\n",
       "      <td>2.180000e+02</td>\n",
       "      <td>2.180000e+02</td>\n",
       "      <td>218.000000</td>\n",
       "      <td>2.180000e+02</td>\n",
       "      <td>2.180000e+02</td>\n",
       "      <td>2.180000e+02</td>\n",
       "      <td>...</td>\n",
       "      <td>2.180000e+02</td>\n",
       "      <td>2.180000e+02</td>\n",
       "      <td>2.180000e+02</td>\n",
       "      <td>2.180000e+02</td>\n",
       "      <td>2.180000e+02</td>\n",
       "      <td>2.180000e+02</td>\n",
       "      <td>2.180000e+02</td>\n",
       "      <td>2.180000e+02</td>\n",
       "      <td>2.180000e+02</td>\n",
       "      <td>2.180000e+02</td>\n",
       "    </tr>\n",
       "    <tr>\n",
       "      <th>mean</th>\n",
       "      <td>5.000192e-01</td>\n",
       "      <td>5.000045e-01</td>\n",
       "      <td>4.999995e-01</td>\n",
       "      <td>4.988153e-01</td>\n",
       "      <td>1.999477e-01</td>\n",
       "      <td>4.216465e-01</td>\n",
       "      <td>0.206422</td>\n",
       "      <td>5.000490e-01</td>\n",
       "      <td>4.993775e-01</td>\n",
       "      <td>4.914229e-01</td>\n",
       "      <td>...</td>\n",
       "      <td>4.956740e-01</td>\n",
       "      <td>4.998138e-01</td>\n",
       "      <td>4.731864e-01</td>\n",
       "      <td>4.547221e-01</td>\n",
       "      <td>4.971192e-01</td>\n",
       "      <td>4.561312e-01</td>\n",
       "      <td>4.992956e-01</td>\n",
       "      <td>4.972144e-01</td>\n",
       "      <td>4.907751e-01</td>\n",
       "      <td>3.911312e-01</td>\n",
       "    </tr>\n",
       "    <tr>\n",
       "      <th>std</th>\n",
       "      <td>2.906682e-01</td>\n",
       "      <td>2.906636e-01</td>\n",
       "      <td>2.906705e-01</td>\n",
       "      <td>2.922605e-01</td>\n",
       "      <td>3.729123e-01</td>\n",
       "      <td>3.554037e-01</td>\n",
       "      <td>0.405668</td>\n",
       "      <td>2.906004e-01</td>\n",
       "      <td>2.915742e-01</td>\n",
       "      <td>3.037150e-01</td>\n",
       "      <td>...</td>\n",
       "      <td>2.976220e-01</td>\n",
       "      <td>2.908905e-01</td>\n",
       "      <td>3.264500e-01</td>\n",
       "      <td>3.446861e-01</td>\n",
       "      <td>2.953222e-01</td>\n",
       "      <td>3.434226e-01</td>\n",
       "      <td>2.918432e-01</td>\n",
       "      <td>2.952981e-01</td>\n",
       "      <td>3.044473e-01</td>\n",
       "      <td>3.845346e-01</td>\n",
       "    </tr>\n",
       "    <tr>\n",
       "      <th>min</th>\n",
       "      <td>1.000000e-07</td>\n",
       "      <td>1.000000e-07</td>\n",
       "      <td>1.000000e-07</td>\n",
       "      <td>1.000000e-07</td>\n",
       "      <td>1.000000e-07</td>\n",
       "      <td>1.000000e-07</td>\n",
       "      <td>0.000000</td>\n",
       "      <td>1.000000e-07</td>\n",
       "      <td>1.000000e-07</td>\n",
       "      <td>1.000000e-07</td>\n",
       "      <td>...</td>\n",
       "      <td>1.000000e-07</td>\n",
       "      <td>1.000000e-07</td>\n",
       "      <td>1.000000e-07</td>\n",
       "      <td>1.000000e-07</td>\n",
       "      <td>1.000000e-07</td>\n",
       "      <td>1.000000e-07</td>\n",
       "      <td>1.000000e-07</td>\n",
       "      <td>1.000000e-07</td>\n",
       "      <td>1.000000e-07</td>\n",
       "      <td>1.000000e-07</td>\n",
       "    </tr>\n",
       "    <tr>\n",
       "      <th>25%</th>\n",
       "      <td>2.501877e-01</td>\n",
       "      <td>2.502069e-01</td>\n",
       "      <td>2.499211e-01</td>\n",
       "      <td>2.537538e-01</td>\n",
       "      <td>1.000000e-07</td>\n",
       "      <td>1.000000e-07</td>\n",
       "      <td>0.000000</td>\n",
       "      <td>2.501878e-01</td>\n",
       "      <td>2.394792e-01</td>\n",
       "      <td>2.501600e-01</td>\n",
       "      <td>...</td>\n",
       "      <td>2.499855e-01</td>\n",
       "      <td>2.502450e-01</td>\n",
       "      <td>2.498276e-01</td>\n",
       "      <td>1.000000e-07</td>\n",
       "      <td>2.582583e-01</td>\n",
       "      <td>1.000000e-07</td>\n",
       "      <td>2.422422e-01</td>\n",
       "      <td>2.532533e-01</td>\n",
       "      <td>2.498343e-01</td>\n",
       "      <td>1.000000e-07</td>\n",
       "    </tr>\n",
       "    <tr>\n",
       "      <th>50%</th>\n",
       "      <td>4.999237e-01</td>\n",
       "      <td>4.999409e-01</td>\n",
       "      <td>5.000276e-01</td>\n",
       "      <td>4.864865e-01</td>\n",
       "      <td>1.000000e-07</td>\n",
       "      <td>6.521522e-01</td>\n",
       "      <td>0.000000</td>\n",
       "      <td>4.998980e-01</td>\n",
       "      <td>5.485485e-01</td>\n",
       "      <td>5.000194e-01</td>\n",
       "      <td>...</td>\n",
       "      <td>4.929930e-01</td>\n",
       "      <td>5.000000e-01</td>\n",
       "      <td>5.090090e-01</td>\n",
       "      <td>4.994995e-01</td>\n",
       "      <td>4.919514e-01</td>\n",
       "      <td>5.000344e-01</td>\n",
       "      <td>4.975566e-01</td>\n",
       "      <td>5.000893e-01</td>\n",
       "      <td>5.000000e-01</td>\n",
       "      <td>5.010358e-01</td>\n",
       "    </tr>\n",
       "    <tr>\n",
       "      <th>75%</th>\n",
       "      <td>7.500755e-01</td>\n",
       "      <td>7.499759e-01</td>\n",
       "      <td>7.497797e-01</td>\n",
       "      <td>7.467467e-01</td>\n",
       "      <td>1.000000e-07</td>\n",
       "      <td>6.521522e-01</td>\n",
       "      <td>0.000000</td>\n",
       "      <td>7.502015e-01</td>\n",
       "      <td>7.467467e-01</td>\n",
       "      <td>7.547548e-01</td>\n",
       "      <td>...</td>\n",
       "      <td>7.307307e-01</td>\n",
       "      <td>7.527528e-01</td>\n",
       "      <td>7.487487e-01</td>\n",
       "      <td>7.499904e-01</td>\n",
       "      <td>7.487487e-01</td>\n",
       "      <td>7.478729e-01</td>\n",
       "      <td>7.500581e-01</td>\n",
       "      <td>7.467467e-01</td>\n",
       "      <td>7.497890e-01</td>\n",
       "      <td>7.605824e-01</td>\n",
       "    </tr>\n",
       "    <tr>\n",
       "      <th>max</th>\n",
       "      <td>9.999999e-01</td>\n",
       "      <td>9.999999e-01</td>\n",
       "      <td>9.999999e-01</td>\n",
       "      <td>9.999999e-01</td>\n",
       "      <td>9.999999e-01</td>\n",
       "      <td>9.999999e-01</td>\n",
       "      <td>1.000000</td>\n",
       "      <td>9.999999e-01</td>\n",
       "      <td>9.999999e-01</td>\n",
       "      <td>9.999999e-01</td>\n",
       "      <td>...</td>\n",
       "      <td>9.999999e-01</td>\n",
       "      <td>9.999999e-01</td>\n",
       "      <td>9.999999e-01</td>\n",
       "      <td>9.999999e-01</td>\n",
       "      <td>9.999999e-01</td>\n",
       "      <td>9.999999e-01</td>\n",
       "      <td>9.999999e-01</td>\n",
       "      <td>9.999999e-01</td>\n",
       "      <td>9.999999e-01</td>\n",
       "      <td>9.999999e-01</td>\n",
       "    </tr>\n",
       "  </tbody>\n",
       "</table>\n",
       "<p>8 rows × 21 columns</p>\n",
       "</div>"
      ],
      "text/plain": [
       "         song_count  dist_song_count  dist_artist_count  session_count  \\\n",
       "count  2.180000e+02     2.180000e+02       2.180000e+02   2.180000e+02   \n",
       "mean   5.000192e-01     5.000045e-01       4.999995e-01   4.988153e-01   \n",
       "std    2.906682e-01     2.906636e-01       2.906705e-01   2.922605e-01   \n",
       "min    1.000000e-07     1.000000e-07       1.000000e-07   1.000000e-07   \n",
       "25%    2.501877e-01     2.502069e-01       2.499211e-01   2.537538e-01   \n",
       "50%    4.999237e-01     4.999409e-01       5.000276e-01   4.864865e-01   \n",
       "75%    7.500755e-01     7.499759e-01       7.497797e-01   7.467467e-01   \n",
       "max    9.999999e-01     9.999999e-01       9.999999e-01   9.999999e-01   \n",
       "\n",
       "       downgrade_count  upgrade_count       churn  page_visits_home  \\\n",
       "count     2.180000e+02   2.180000e+02  218.000000      2.180000e+02   \n",
       "mean      1.999477e-01   4.216465e-01    0.206422      5.000490e-01   \n",
       "std       3.729123e-01   3.554037e-01    0.405668      2.906004e-01   \n",
       "min       1.000000e-07   1.000000e-07    0.000000      1.000000e-07   \n",
       "25%       1.000000e-07   1.000000e-07    0.000000      2.501878e-01   \n",
       "50%       1.000000e-07   6.521522e-01    0.000000      4.998980e-01   \n",
       "75%       1.000000e-07   6.521522e-01    0.000000      7.502015e-01   \n",
       "max       9.999999e-01   9.999999e-01    1.000000      9.999999e-01   \n",
       "\n",
       "       page_visits_logout  page_visits_settings        ...          \\\n",
       "count        2.180000e+02          2.180000e+02        ...           \n",
       "mean         4.993775e-01          4.914229e-01        ...           \n",
       "std          2.915742e-01          3.037150e-01        ...           \n",
       "min          1.000000e-07          1.000000e-07        ...           \n",
       "25%          2.394792e-01          2.501600e-01        ...           \n",
       "50%          5.485485e-01          5.000194e-01        ...           \n",
       "75%          7.467467e-01          7.547548e-01        ...           \n",
       "max          9.999999e-01          9.999999e-01        ...           \n",
       "\n",
       "       page_visits_thumbs_down  page_visits_thumbs_up  page_visits_upgrade  \\\n",
       "count             2.180000e+02           2.180000e+02         2.180000e+02   \n",
       "mean              4.956740e-01           4.998138e-01         4.731864e-01   \n",
       "std               2.976220e-01           2.908905e-01         3.264500e-01   \n",
       "min               1.000000e-07           1.000000e-07         1.000000e-07   \n",
       "25%               2.499855e-01           2.502450e-01         2.498276e-01   \n",
       "50%               4.929930e-01           5.000000e-01         5.090090e-01   \n",
       "75%               7.307307e-01           7.527528e-01         7.487487e-01   \n",
       "max               9.999999e-01           9.999999e-01         9.999999e-01   \n",
       "\n",
       "       page_visits_downgrade  page_visits_roll_advert  page_visits_about  \\\n",
       "count           2.180000e+02             2.180000e+02       2.180000e+02   \n",
       "mean            4.547221e-01             4.971192e-01       4.561312e-01   \n",
       "std             3.446861e-01             2.953222e-01       3.434226e-01   \n",
       "min             1.000000e-07             1.000000e-07       1.000000e-07   \n",
       "25%             1.000000e-07             2.582583e-01       1.000000e-07   \n",
       "50%             4.994995e-01             4.919514e-01       5.000344e-01   \n",
       "75%             7.499904e-01             7.487487e-01       7.478729e-01   \n",
       "max             9.999999e-01             9.999999e-01       9.999999e-01   \n",
       "\n",
       "       page_visits_add_to_playlist  page_visits_add_friend  page_visits_help  \\\n",
       "count                 2.180000e+02            2.180000e+02      2.180000e+02   \n",
       "mean                  4.992956e-01            4.972144e-01      4.907751e-01   \n",
       "std                   2.918432e-01            2.952981e-01      3.044473e-01   \n",
       "min                   1.000000e-07            1.000000e-07      1.000000e-07   \n",
       "25%                   2.422422e-01            2.532533e-01      2.498343e-01   \n",
       "50%                   4.975566e-01            5.000893e-01      5.000000e-01   \n",
       "75%                   7.500581e-01            7.467467e-01      7.497890e-01   \n",
       "max                   9.999999e-01            9.999999e-01      9.999999e-01   \n",
       "\n",
       "       page_visits_error  \n",
       "count       2.180000e+02  \n",
       "mean        3.911312e-01  \n",
       "std         3.845346e-01  \n",
       "min         1.000000e-07  \n",
       "25%         1.000000e-07  \n",
       "50%         5.010358e-01  \n",
       "75%         7.605824e-01  \n",
       "max         9.999999e-01  \n",
       "\n",
       "[8 rows x 21 columns]"
      ]
     },
     "execution_count": 144,
     "metadata": {},
     "output_type": "execute_result"
    }
   ],
   "source": [
    "df_div.describe()"
   ]
  },
  {
   "cell_type": "markdown",
   "metadata": {},
   "source": [
    "# Modeling\n",
    "Split the full dataset into train, test, and validation sets. Test out several of the machine learning methods you learned. Evaluate the accuracy of the various models, tuning parameters as necessary. Determine your winning model based on test accuracy and report results on the validation set. Since the churned users are a fairly small subset, I suggest using F1 score as the metric to optimize."
   ]
  },
  {
   "cell_type": "markdown",
   "metadata": {},
   "source": [
    "### 1. Supervised learning\n",
    "Supervised learning algorithms train classifiers based on known input - output pairs. To evaluate the results the data must be split into training and testing data. To comapre different models we will use validation data."
   ]
  },
  {
   "cell_type": "code",
   "execution_count": 145,
   "metadata": {
    "scrolled": true
   },
   "outputs": [],
   "source": [
    "# the number of users is low and the number of those who churned even lower\n",
    "# let's repeat the splitting as long as we don't have at least 20% of churned users in both test and validate datasets\n",
    "train, validate, test = np.split(df_div.sample(frac=1), [int(.6*len(df_div)), int(.8*len(df_div))])\n",
    "while (len(validate[validate['churn']==1]) < len(df_div[df_div['churn']==1]) // 5) or \\\n",
    "        (len(test[test['churn']==1]) < len(df_div[df_div['churn']==1]) // 5) or \\\n",
    "        (len(test[test['churn']==1]) != len(validate[validate['churn']==1])):\n",
    "        train, validate, test = np.split(df_div.sample(frac=1), [int(.6*len(df_div)), int(.8*len(df_div))])"
   ]
  },
  {
   "cell_type": "code",
   "execution_count": 146,
   "metadata": {},
   "outputs": [],
   "source": [
    "X_val = validate.drop(columns = ['userID', 'churn'])\n",
    "y_val = validate['churn']\n",
    "\n",
    "X_test = test.drop(columns = ['userID', 'churn'])\n",
    "y_test = test['churn']\n",
    "\n",
    "X_train = train.drop(columns = ['userID', 'churn'])\n",
    "y_train = train['churn']"
   ]
  },
  {
   "cell_type": "markdown",
   "metadata": {},
   "source": [
    "We are dealing with imbalanced classes here. One way to account for that would be to downsample the majority class. This is  an easy way to balance data, but it also reduces the variability in the majority class and therefore the classifiers may be biased. For this reason we will upsample the minority class in the training data."
   ]
  },
  {
   "cell_type": "code",
   "execution_count": 147,
   "metadata": {},
   "outputs": [],
   "source": [
    "X_train = X_train.append(X_train[y_train == 1]).append(X_train[y_train == 1]).append(X_train[y_train == 1])\n",
    "y_train = y_train.append(y_train[y_train == 1]).append(y_train[y_train == 1]).append(y_train[y_train == 1])"
   ]
  },
  {
   "cell_type": "markdown",
   "metadata": {},
   "source": [
    "#### 1.1. Decision Tree"
   ]
  },
  {
   "cell_type": "code",
   "execution_count": 148,
   "metadata": {},
   "outputs": [],
   "source": [
    "from sklearn import tree\n",
    "import time"
   ]
  },
  {
   "cell_type": "code",
   "execution_count": 149,
   "metadata": {},
   "outputs": [],
   "source": [
    "tree_clf = tree.DecisionTreeClassifier(random_state=42)\n",
    "ts = time.time()\n",
    "tree_clf.fit(X_train, y_train)\n",
    "tree_train_time = time.time() - ts"
   ]
  },
  {
   "cell_type": "code",
   "execution_count": 150,
   "metadata": {},
   "outputs": [],
   "source": [
    "ts = time.time()\n",
    "y_pred_tree = tree_clf.predict(X_test)\n",
    "tree_predict_time = time.time() - ts"
   ]
  },
  {
   "cell_type": "code",
   "execution_count": 151,
   "metadata": {},
   "outputs": [],
   "source": [
    "from sklearn.metrics import f1_score, precision_score, recall_score, confusion_matrix"
   ]
  },
  {
   "cell_type": "code",
   "execution_count": 152,
   "metadata": {},
   "outputs": [
    {
     "name": "stdout",
     "output_type": "stream",
     "text": [
      "Decision tree metrics:\n",
      " f1: 0.2857142857142857\n",
      " precision: 0.4\n",
      " recall: 0.2222222222222222\n"
     ]
    }
   ],
   "source": [
    "f1_tree = f1_score(y_test, y_pred_tree)\n",
    "precision_tree = precision_score(y_test, y_pred_tree)\n",
    "recall_tree = recall_score(y_test, y_pred_tree)\n",
    "print('Decision tree metrics:\\n f1: {}\\n precision: {}\\n recall: {}'.format(f1_tree, precision_tree, recall_tree))"
   ]
  },
  {
   "cell_type": "code",
   "execution_count": 153,
   "metadata": {},
   "outputs": [
    {
     "data": {
      "text/plain": [
       "Text(0,0.5,'True')"
      ]
     },
     "execution_count": 153,
     "metadata": {},
     "output_type": "execute_result"
    },
    {
     "data": {
      "image/png": "[encoded data removed]",
      "text/plain": [
       "<matplotlib.figure.Figure at 0x7f5daea545c0>"
      ]
     },
     "metadata": {
      "needs_background": "light"
     },
     "output_type": "display_data"
    }
   ],
   "source": [
    "tree_conf_mat = confusion_matrix(y_test, y_pred_tree).astype('float64') \n",
    "plt.matshow(tree_conf_mat, cmap=plt.cm.bwr)\n",
    "plt.colorbar()\n",
    "plt.xlabel('Predicted')\n",
    "plt.ylabel('True')"
   ]
  },
  {
   "cell_type": "markdown",
   "metadata": {},
   "source": [
    "#### 1.2. Bagging algorithm: Random Forest\n",
    "Random Forest creates multiple decision trees and counts their outputs as votes to classify a given data point."
   ]
  },
  {
   "cell_type": "code",
   "execution_count": 154,
   "metadata": {},
   "outputs": [],
   "source": [
    "from sklearn.ensemble import RandomForestClassifier"
   ]
  },
  {
   "cell_type": "code",
   "execution_count": 155,
   "metadata": {},
   "outputs": [],
   "source": [
    "rf_clf = RandomForestClassifier(random_state = 42)\n",
    "ts = time.time()\n",
    "rf_clf.fit(X_train, y_train)\n",
    "rf_train_time = time.time() - ts"
   ]
  },
  {
   "cell_type": "code",
   "execution_count": 156,
   "metadata": {},
   "outputs": [],
   "source": [
    "ts = time.time()\n",
    "y_pred_rf = rf_clf.predict(X_test)\n",
    "rf_predict_time = time.time() - ts"
   ]
  },
  {
   "cell_type": "code",
   "execution_count": 157,
   "metadata": {},
   "outputs": [
    {
     "name": "stdout",
     "output_type": "stream",
     "text": [
      "Random forest metrics:\n",
      " f1: 0.1818181818181818\n",
      " precision: 0.5\n",
      " recall: 0.1111111111111111\n"
     ]
    }
   ],
   "source": [
    "f1_rf = f1_score(y_test, y_pred_rf)\n",
    "precision_rf = precision_score(y_test, y_pred_rf)\n",
    "recall_rf = recall_score(y_test, y_pred_rf)\n",
    "print('Random forest metrics:\\n f1: {}\\n precision: {}\\n recall: {}'.format(f1_rf, precision_rf, recall_rf))"
   ]
  },
  {
   "cell_type": "code",
   "execution_count": 158,
   "metadata": {},
   "outputs": [
    {
     "data": {
      "text/plain": [
       "Text(0,0.5,'True')"
      ]
     },
     "execution_count": 158,
     "metadata": {},
     "output_type": "execute_result"
    },
    {
     "data": {
      "image/png": "[encoded data removed]",
      "text/plain": [
       "<matplotlib.figure.Figure at 0x7f5daf1fe550>"
      ]
     },
     "metadata": {
      "needs_background": "light"
     },
     "output_type": "display_data"
    }
   ],
   "source": [
    "rf_conf_mat = confusion_matrix(y_test, y_pred_rf).astype('float64') \n",
    "plt.matshow(rf_conf_mat, cmap=plt.cm.bwr)\n",
    "plt.colorbar()\n",
    "plt.xlabel('Predicted')\n",
    "plt.ylabel('True')"
   ]
  },
  {
   "cell_type": "markdown",
   "metadata": {},
   "source": [
    "#### 1.3. Boosting algorithm: AdaBoost"
   ]
  },
  {
   "cell_type": "code",
   "execution_count": 159,
   "metadata": {},
   "outputs": [],
   "source": [
    "from sklearn.ensemble import AdaBoostClassifier"
   ]
  },
  {
   "cell_type": "code",
   "execution_count": 160,
   "metadata": {},
   "outputs": [],
   "source": [
    "ada_clf = AdaBoostClassifier(random_state = 42)\n",
    "ts = time.time()\n",
    "ada_clf.fit(X_train, y_train)\n",
    "ada_train_time = time.time() - ts"
   ]
  },
  {
   "cell_type": "code",
   "execution_count": 161,
   "metadata": {},
   "outputs": [],
   "source": [
    "ts = time.time()\n",
    "y_pred_ada = ada_clf.predict(X_test)\n",
    "ada_predict_time = time.time() - ts"
   ]
  },
  {
   "cell_type": "code",
   "execution_count": 162,
   "metadata": {},
   "outputs": [
    {
     "name": "stdout",
     "output_type": "stream",
     "text": [
      "AdaBoost metrics:\n",
      " f1: 0.0\n",
      " precision: 0.0\n",
      " recall: 0.0\n"
     ]
    }
   ],
   "source": [
    "f1_ada = f1_score(y_test, y_pred_ada)\n",
    "precision_ada = precision_score(y_test, y_pred_ada)\n",
    "recall_ada = recall_score(y_test, y_pred_ada)\n",
    "print('AdaBoost metrics:\\n f1: {}\\n precision: {}\\n recall: {}'.format(f1_ada, precision_ada, recall_ada))"
   ]
  },
  {
   "cell_type": "code",
   "execution_count": 163,
   "metadata": {},
   "outputs": [
    {
     "data": {
      "text/plain": [
       "Text(0,0.5,'True')"
      ]
     },
     "execution_count": 163,
     "metadata": {},
     "output_type": "execute_result"
    },
    {
     "data": {
      "image/png": "[encoded data removed]",
      "text/plain": [
       "<matplotlib.figure.Figure at 0x7f5daf3e98d0>"
      ]
     },
     "metadata": {
      "needs_background": "light"
     },
     "output_type": "display_data"
    }
   ],
   "source": [
    "ada_conf_mat = confusion_matrix(y_test, y_pred_ada).astype('float64') \n",
    "plt.matshow(ada_conf_mat, cmap=plt.cm.bwr)\n",
    "plt.colorbar()\n",
    "plt.xlabel('Predicted')\n",
    "plt.ylabel('True')"
   ]
  },
  {
   "cell_type": "markdown",
   "metadata": {},
   "source": [
    "#### 1.4. Neural Network: Multi-Layer Perceptron"
   ]
  },
  {
   "cell_type": "code",
   "execution_count": 164,
   "metadata": {},
   "outputs": [],
   "source": [
    "from sklearn.neural_network import MLPClassifier"
   ]
  },
  {
   "cell_type": "code",
   "execution_count": 165,
   "metadata": {},
   "outputs": [],
   "source": [
    "mlp_clf = MLPClassifier(hidden_layer_sizes=(7), random_state = 42, early_stopping = True)\n",
    "ts = time.time()\n",
    "mlp_clf.fit(X_train, y_train)\n",
    "mlp_train_time = time.time() - ts"
   ]
  },
  {
   "cell_type": "code",
   "execution_count": 166,
   "metadata": {},
   "outputs": [],
   "source": [
    "ts = time.time()\n",
    "y_pred_mlp = mlp_clf.predict(X_test)\n",
    "mlp_predict_time = time.time() - ts"
   ]
  },
  {
   "cell_type": "code",
   "execution_count": 167,
   "metadata": {
    "scrolled": false
   },
   "outputs": [
    {
     "name": "stdout",
     "output_type": "stream",
     "text": [
      "Multi-Layer Perceptron metrics:\n",
      " f1: 0.339622641509434\n",
      " precision: 0.20454545454545456\n",
      " recall: 1.0\n"
     ]
    }
   ],
   "source": [
    "f1_mlp = f1_score(y_test, y_pred_mlp)\n",
    "precision_mlp = precision_score(y_test, y_pred_mlp)\n",
    "recall_mlp = recall_score(y_test, y_pred_mlp)\n",
    "print('Multi-Layer Perceptron metrics:\\n f1: {}\\n precision: {}\\n recall: {}'.format(f1_mlp, precision_mlp, recall_mlp))"
   ]
  },
  {
   "cell_type": "code",
   "execution_count": 168,
   "metadata": {},
   "outputs": [
    {
     "data": {
      "text/plain": [
       "Text(0,0.5,'True')"
      ]
     },
     "execution_count": 168,
     "metadata": {},
     "output_type": "execute_result"
    },
    {
     "data": {
      "image/png": "[encoded data removed]",
      "text/plain": [
       "<matplotlib.figure.Figure at 0x7f5dae8ae6a0>"
      ]
     },
     "metadata": {
      "needs_background": "light"
     },
     "output_type": "display_data"
    }
   ],
   "source": [
    "mlp_conf_mat = confusion_matrix(y_test, y_pred_mlp).astype('float64') \n",
    "plt.matshow(mlp_conf_mat, cmap=plt.cm.bwr)\n",
    "plt.colorbar()\n",
    "plt.xlabel('Predicted')\n",
    "plt.ylabel('True')"
   ]
  },
  {
   "cell_type": "markdown",
   "metadata": {},
   "source": [
    "#### 1.5. Gaussian Naive Bayes"
   ]
  },
  {
   "cell_type": "code",
   "execution_count": 169,
   "metadata": {},
   "outputs": [],
   "source": [
    "from sklearn.naive_bayes import GaussianNB"
   ]
  },
  {
   "cell_type": "code",
   "execution_count": 170,
   "metadata": {},
   "outputs": [],
   "source": [
    "gnb_clf = GaussianNB()\n",
    "ts = time.time()\n",
    "gnb_clf.fit(X_train, y_train)\n",
    "gnb_train_time = time.time() - ts"
   ]
  },
  {
   "cell_type": "code",
   "execution_count": 171,
   "metadata": {},
   "outputs": [],
   "source": [
    "ts = time.time()\n",
    "y_pred_gnb = gnb_clf.predict(X_test)\n",
    "gnb_predict_time = time.time() - ts"
   ]
  },
  {
   "cell_type": "code",
   "execution_count": 172,
   "metadata": {},
   "outputs": [
    {
     "name": "stdout",
     "output_type": "stream",
     "text": [
      "Gaussian naive bayes metrics:\n",
      " f1: 0.24242424242424243\n",
      " precision: 0.16666666666666666\n",
      " recall: 0.4444444444444444\n"
     ]
    }
   ],
   "source": [
    "f1_gnb = f1_score(y_test, y_pred_gnb)\n",
    "precision_gnb = precision_score(y_test, y_pred_gnb)\n",
    "recall_gnb = recall_score(y_test, y_pred_gnb)\n",
    "print('Gaussian naive bayes metrics:\\n f1: {}\\n precision: {}\\n recall: {}'.format(f1_gnb, precision_gnb, recall_gnb))"
   ]
  },
  {
   "cell_type": "code",
   "execution_count": 173,
   "metadata": {},
   "outputs": [
    {
     "data": {
      "text/plain": [
       "Text(0,0.5,'True')"
      ]
     },
     "execution_count": 173,
     "metadata": {},
     "output_type": "execute_result"
    },
    {
     "data": {
      "image/png": "[encoded data removed]",
      "text/plain": [
       "<matplotlib.figure.Figure at 0x7f5dae83b4a8>"
      ]
     },
     "metadata": {
      "needs_background": "light"
     },
     "output_type": "display_data"
    }
   ],
   "source": [
    "gnb_conf_mat = confusion_matrix(y_test, y_pred_gnb).astype('float64') \n",
    "plt.matshow(gnb_conf_mat, cmap=plt.cm.bwr)\n",
    "plt.colorbar()\n",
    "plt.xlabel('Predicted')\n",
    "plt.ylabel('True')"
   ]
  },
  {
   "cell_type": "markdown",
   "metadata": {},
   "source": [
    "#### 1.6. Linear Support Vector Classification"
   ]
  },
  {
   "cell_type": "code",
   "execution_count": 174,
   "metadata": {},
   "outputs": [],
   "source": [
    "from sklearn.svm import LinearSVC"
   ]
  },
  {
   "cell_type": "code",
   "execution_count": 175,
   "metadata": {},
   "outputs": [],
   "source": [
    "svc_clf = LinearSVC(random_state = 42, class_weight='balanced')\n",
    "ts = time.time()\n",
    "svc_clf.fit(X_train, y_train)\n",
    "svc_train_time = time.time() - ts"
   ]
  },
  {
   "cell_type": "code",
   "execution_count": 176,
   "metadata": {},
   "outputs": [],
   "source": [
    "ts = time.time()\n",
    "y_pred_svc = svc_clf.predict(X_test)\n",
    "svc_predict_time = time.time() - ts"
   ]
  },
  {
   "cell_type": "code",
   "execution_count": 177,
   "metadata": {},
   "outputs": [
    {
     "name": "stdout",
     "output_type": "stream",
     "text": [
      "Linear Support Vector Classification metrics:\n",
      " f1: 0.3636363636363637\n",
      " precision: 0.3076923076923077\n",
      " recall: 0.4444444444444444\n"
     ]
    }
   ],
   "source": [
    "f1_svc = f1_score(y_test, y_pred_svc)\n",
    "precision_svc = precision_score(y_test, y_pred_svc)\n",
    "recall_svc = recall_score(y_test, y_pred_svc)\n",
    "print('Linear Support Vector Classification metrics:\\n f1: {}\\n precision: {}\\n recall: {}'.format(f1_svc, precision_svc, recall_svc))"
   ]
  },
  {
   "cell_type": "code",
   "execution_count": 178,
   "metadata": {
    "scrolled": true
   },
   "outputs": [
    {
     "data": {
      "text/plain": [
       "Text(0,0.5,'True')"
      ]
     },
     "execution_count": 178,
     "metadata": {},
     "output_type": "execute_result"
    },
    {
     "data": {
      "image/png": "[encoded data removed]",
      "text/plain": [
       "<matplotlib.figure.Figure at 0x7f5dae77bf28>"
      ]
     },
     "metadata": {
      "needs_background": "light"
     },
     "output_type": "display_data"
    }
   ],
   "source": [
    "svc_conf_mat = confusion_matrix(y_test, y_pred_svc).astype('float64') \n",
    "plt.matshow(svc_conf_mat, cmap=plt.cm.bwr)\n",
    "plt.colorbar()\n",
    "plt.xlabel('Predicted')\n",
    "plt.ylabel('True')"
   ]
  },
  {
   "cell_type": "markdown",
   "metadata": {},
   "source": [
    "#### 1.7. Logistic regression"
   ]
  },
  {
   "cell_type": "code",
   "execution_count": 179,
   "metadata": {},
   "outputs": [],
   "source": [
    "from sklearn.linear_model import LogisticRegression"
   ]
  },
  {
   "cell_type": "code",
   "execution_count": 180,
   "metadata": {},
   "outputs": [],
   "source": [
    "lr_clf = LogisticRegression(random_state = 42, class_weight='balanced', solver = 'saga')\n",
    "ts = time.time()\n",
    "lr_clf.fit(X_train, y_train)\n",
    "lr_train_time = time.time() - ts"
   ]
  },
  {
   "cell_type": "code",
   "execution_count": 181,
   "metadata": {},
   "outputs": [],
   "source": [
    "ts = time.time()\n",
    "y_pred_lr = lr_clf.predict(X_test)\n",
    "lr_predict_time = time.time() - ts"
   ]
  },
  {
   "cell_type": "code",
   "execution_count": 182,
   "metadata": {
    "scrolled": true
   },
   "outputs": [
    {
     "name": "stdout",
     "output_type": "stream",
     "text": [
      "Logistic Regression metrics:\n",
      " f1: 0.32\n",
      " precision: 0.25\n",
      " recall: 0.4444444444444444\n"
     ]
    }
   ],
   "source": [
    "f1_lr = f1_score(y_test, y_pred_lr)\n",
    "precision_lr = precision_score(y_test, y_pred_lr)\n",
    "recall_lr = recall_score(y_test, y_pred_lr)\n",
    "print('Logistic Regression metrics:\\n f1: {}\\n precision: {}\\n recall: {}'.format(f1_lr, precision_lr, recall_lr))"
   ]
  },
  {
   "cell_type": "code",
   "execution_count": 183,
   "metadata": {
    "scrolled": false
   },
   "outputs": [
    {
     "data": {
      "text/plain": [
       "Text(0,0.5,'True')"
      ]
     },
     "execution_count": 183,
     "metadata": {},
     "output_type": "execute_result"
    },
    {
     "data": {
      "image/png": "[encoded data removed]",
      "text/plain": [
       "<matplotlib.figure.Figure at 0x7f5dae6dda90>"
      ]
     },
     "metadata": {
      "needs_background": "light"
     },
     "output_type": "display_data"
    }
   ],
   "source": [
    "lr_conf_mat = confusion_matrix(y_test, y_pred_lr).astype('float64') \n",
    "plt.matshow(lr_conf_mat, cmap=plt.cm.bwr)\n",
    "plt.colorbar()\n",
    "plt.xlabel('Predicted')\n",
    "plt.ylabel('True')"
   ]
  },
  {
   "cell_type": "code",
   "execution_count": 184,
   "metadata": {},
   "outputs": [],
   "source": [
    "y_pred_lr_val = lr_clf.predict(X_val)\n",
    "y_pred_gnb_val = gnb_clf.predict(X_val)\n",
    "y_pred_svc_val = svc_clf.predict(X_val)\n",
    "y_pred_mlp_val = mlp_clf.predict(X_val)"
   ]
  },
  {
   "cell_type": "markdown",
   "metadata": {},
   "source": [
    "#### 1.8. Selecting the best supervised learning model\n",
    "We will use validation data to evaluate model predictions once again."
   ]
  },
  {
   "cell_type": "code",
   "execution_count": 185,
   "metadata": {},
   "outputs": [
    {
     "name": "stdout",
     "output_type": "stream",
     "text": [
      "Logistic Regression validation metrics:\n",
      " f1: 0.631578947368421\n",
      " precision: 0.6\n",
      " recall: 0.6666666666666666\n"
     ]
    }
   ],
   "source": [
    "f1_lr_val = f1_score(y_val, y_pred_lr_val)\n",
    "precision_lr_val = precision_score(y_val, y_pred_lr_val)\n",
    "recall_lr_val = recall_score(y_val, y_pred_lr_val)\n",
    "print('Logistic Regression validation metrics:\\n f1: {}\\n precision: {}\\n recall: {}'.format(f1_lr_val, precision_lr_val, recall_lr_val))"
   ]
  },
  {
   "cell_type": "code",
   "execution_count": 186,
   "metadata": {},
   "outputs": [
    {
     "name": "stdout",
     "output_type": "stream",
     "text": [
      "Linear Support Vector validation metrics:\n",
      " f1: 0.5555555555555556\n",
      " precision: 0.5555555555555556\n",
      " recall: 0.5555555555555556\n"
     ]
    }
   ],
   "source": [
    "f1_svc_val = f1_score(y_val, y_pred_svc_val)\n",
    "precision_svc_val = precision_score(y_val, y_pred_svc_val)\n",
    "recall_svc_val = recall_score(y_val, y_pred_svc_val)\n",
    "print('Linear Support Vector validation metrics:\\n f1: {}\\n precision: {}\\n recall: {}'.format(f1_svc_val, precision_svc_val, recall_svc_val))"
   ]
  },
  {
   "cell_type": "code",
   "execution_count": 187,
   "metadata": {},
   "outputs": [
    {
     "name": "stdout",
     "output_type": "stream",
     "text": [
      "Multi Layer Perceptron validation metrics:\n",
      " f1: 0.3461538461538462\n",
      " precision: 0.20930232558139536\n",
      " recall: 1.0\n"
     ]
    }
   ],
   "source": [
    "f1_mlp_val = f1_score(y_val, y_pred_mlp_val)\n",
    "precision_mlp_val = precision_score(y_val, y_pred_mlp_val)\n",
    "recall_mlp_val = recall_score(y_val, y_pred_mlp_val)\n",
    "print('Multi Layer Perceptron validation metrics:\\n f1: {}\\n precision: {}\\n recall: {}'.format(f1_mlp_val, precision_mlp_val, recall_mlp_val))"
   ]
  },
  {
   "cell_type": "code",
   "execution_count": 188,
   "metadata": {},
   "outputs": [
    {
     "name": "stdout",
     "output_type": "stream",
     "text": [
      "Gaussian Naive Bayes validation metrics:\n",
      " f1: 0.33333333333333326\n",
      " precision: 0.23809523809523808\n",
      " recall: 0.5555555555555556\n"
     ]
    }
   ],
   "source": [
    "f1_gnb_val = f1_score(y_val, y_pred_gnb_val)\n",
    "precision_gnb_val = precision_score(y_val, y_pred_gnb_val)\n",
    "recall_gnb_val = recall_score(y_val, y_pred_gnb_val)\n",
    "print('Gaussian Naive Bayes validation metrics:\\n f1: {}\\n precision: {}\\n recall: {}'.format(f1_gnb_val, precision_gnb_val, recall_gnb_val))"
   ]
  },
  {
   "cell_type": "markdown",
   "metadata": {},
   "source": [
    "##### Conclusion\n",
    "Logistic regressions still remains our best model. The F1 score of 0.63 is not exactly high, but we must take in consideration, that we trained the model on a very small part of our dataset. The difference in score between test and validation data shows that the randomization of the subsets can have great impact on the performance metrics in such setup."
   ]
  },
  {
   "cell_type": "markdown",
   "metadata": {},
   "source": [
    "### 2. Unsupervised learning.\n",
    "Unsupervised learning methods do not require labels. Their goal is to discover intrinsic relationships in the data. Such methods can involve dimensionality reduction (Principal Components Analysis) or clustering (K-Means)."
   ]
  },
  {
   "cell_type": "markdown",
   "metadata": {},
   "source": [
    "#### 2.1. Dimensionality reduction with PCA"
   ]
  },
  {
   "cell_type": "code",
   "execution_count": 83,
   "metadata": {},
   "outputs": [
    {
     "name": "stdout",
     "output_type": "stream",
     "text": [
      "The first 10 components explain 91.36% of variance.\n"
     ]
    },
    {
     "data": {
      "image/png": "[encoded data removed]",
      "text/plain": [
       "<matplotlib.figure.Figure at 0x7f5db170f828>"
      ]
     },
     "metadata": {
      "needs_background": "light"
     },
     "output_type": "display_data"
    }
   ],
   "source": [
    "from sklearn.decomposition import PCA\n",
    "\n",
    "pca = PCA(random_state = 42)\n",
    "X = df_div.drop(columns = ['userID', 'churn'])\n",
    "pca.fit(X)\n",
    "plt.bar(range(1,21), 100*pca.explained_variance_ratio_)\n",
    "plt.title('PCA explained variance', fontsize = 18)\n",
    "plt.ylabel('explained variance, %', fontsize = 16)\n",
    "plt.xlabel('Component', fontsize = 16)\n",
    "fig = plt.gcf()\n",
    "fig.set_size_inches(18.5, 10.5)\n",
    "print('The first 10 components explain {:.2f}% of variance.'.format(100*pca.explained_variance_ratio_[:10].sum()))"
   ]
  },
  {
   "cell_type": "code",
   "execution_count": 84,
   "metadata": {},
   "outputs": [],
   "source": [
    "pca = PCA(n_components = 5, random_state = 42)\n",
    "X_pca = pca.fit_transform(X)"
   ]
  },
  {
   "cell_type": "markdown",
   "metadata": {},
   "source": [
    "#### 2.2. Clustering with K-Means\n",
    "We will apply K-Means to the transformed data to find the clusters of the users. In the next step we will see if churn can be localized to some of the clusters."
   ]
  },
  {
   "cell_type": "code",
   "execution_count": 85,
   "metadata": {},
   "outputs": [
    {
     "data": {
      "image/png": "[encoded data removed]",
      "text/plain": [
       "<matplotlib.figure.Figure at 0x7f5db16e4eb8>"
      ]
     },
     "metadata": {
      "needs_background": "light"
     },
     "output_type": "display_data"
    }
   ],
   "source": [
    "from sklearn.cluster import KMeans\n",
    "\n",
    "inertia = []\n",
    "\n",
    "for n_c in range(2,80):\n",
    "    kmeans = KMeans(n_clusters = n_c, random_state = 42)\n",
    "    kmeans.fit_predict(X_pca)\n",
    "    inertia.append(kmeans.inertia_)\n",
    "\n",
    "plt.bar(range(2,80), inertia)\n",
    "plt.title('Inertia vs. n clusters', fontsize = 18)\n",
    "plt.ylabel('Sum of squared distances between points to cluster centers', fontsize = 16)\n",
    "plt.xlabel('Number of clusters', fontsize = 16)\n",
    "fig = plt.gcf()\n",
    "fig.set_size_inches(18.5, 10.5)"
   ]
  },
  {
   "cell_type": "markdown",
   "metadata": {},
   "source": [
    "Using the elbow method we take 15 clusters."
   ]
  },
  {
   "cell_type": "code",
   "execution_count": 86,
   "metadata": {
    "scrolled": false
   },
   "outputs": [
    {
     "data": {
      "image/png": "[encoded data removed]",
      "text/plain": [
       "<matplotlib.figure.Figure at 0x7f5db1237a58>"
      ]
     },
     "metadata": {
      "needs_background": "light"
     },
     "output_type": "display_data"
    }
   ],
   "source": [
    "n_c = 15\n",
    "kmeans = KMeans(n_clusters = n_c, random_state = 42)\n",
    "labels = kmeans.fit_predict(X_pca).tolist()\n",
    "df_kmeans = pd.DataFrame.from_dict({'userID':df_div['userID'].tolist(), 'churn':df_div['churn'].tolist(), 'cluster':labels})\n",
    "plt.bar(np.arange(0,n_c), df_kmeans.groupby('cluster')['churn'].count()/len(df_kmeans), width = 0.45, label = '% users')\n",
    "plt.bar(np.arange(0,n_c) + 0.5, df_kmeans.groupby('cluster')['churn'].mean().tolist(), width = 0.45, label = '% churn')\n",
    "plt.title('Churn in clusters', fontsize = 18)\n",
    "plt.ylabel('% users in cluster, % churn in cluster', fontsize = 16)\n",
    "plt.xlabel('Cluster', fontsize = 16)\n",
    "plt.legend(fontsize = 14)\n",
    "fig = plt.gcf()\n",
    "fig.set_size_inches(18.5, 10.5)"
   ]
  },
  {
   "cell_type": "code",
   "execution_count": 87,
   "metadata": {},
   "outputs": [],
   "source": [
    "df_cluster_churn = pd.DataFrame.from_dict({'user count':df_kmeans.groupby('cluster')['churn'].count().tolist(),\n",
    "                                           'churn count':df_kmeans.groupby('cluster')['churn'].sum()})"
   ]
  },
  {
   "cell_type": "code",
   "execution_count": 88,
   "metadata": {},
   "outputs": [
    {
     "data": {
      "text/html": [
       "<div>\n",
       "<style scoped>\n",
       "    .dataframe tbody tr th:only-of-type {\n",
       "        vertical-align: middle;\n",
       "    }\n",
       "\n",
       "    .dataframe tbody tr th {\n",
       "        vertical-align: top;\n",
       "    }\n",
       "\n",
       "    .dataframe thead th {\n",
       "        text-align: right;\n",
       "    }\n",
       "</style>\n",
       "<table border=\"1\" class=\"dataframe\">\n",
       "  <thead>\n",
       "    <tr style=\"text-align: right;\">\n",
       "      <th></th>\n",
       "      <th>user count</th>\n",
       "      <th>churn count</th>\n",
       "    </tr>\n",
       "    <tr>\n",
       "      <th>cluster</th>\n",
       "      <th></th>\n",
       "      <th></th>\n",
       "    </tr>\n",
       "  </thead>\n",
       "  <tbody>\n",
       "    <tr>\n",
       "      <th>0</th>\n",
       "      <td>12</td>\n",
       "      <td>3</td>\n",
       "    </tr>\n",
       "    <tr>\n",
       "      <th>1</th>\n",
       "      <td>27</td>\n",
       "      <td>5</td>\n",
       "    </tr>\n",
       "    <tr>\n",
       "      <th>2</th>\n",
       "      <td>16</td>\n",
       "      <td>4</td>\n",
       "    </tr>\n",
       "    <tr>\n",
       "      <th>3</th>\n",
       "      <td>12</td>\n",
       "      <td>1</td>\n",
       "    </tr>\n",
       "    <tr>\n",
       "      <th>4</th>\n",
       "      <td>25</td>\n",
       "      <td>8</td>\n",
       "    </tr>\n",
       "    <tr>\n",
       "      <th>5</th>\n",
       "      <td>10</td>\n",
       "      <td>1</td>\n",
       "    </tr>\n",
       "    <tr>\n",
       "      <th>6</th>\n",
       "      <td>12</td>\n",
       "      <td>2</td>\n",
       "    </tr>\n",
       "    <tr>\n",
       "      <th>7</th>\n",
       "      <td>6</td>\n",
       "      <td>2</td>\n",
       "    </tr>\n",
       "    <tr>\n",
       "      <th>8</th>\n",
       "      <td>18</td>\n",
       "      <td>3</td>\n",
       "    </tr>\n",
       "    <tr>\n",
       "      <th>9</th>\n",
       "      <td>10</td>\n",
       "      <td>5</td>\n",
       "    </tr>\n",
       "    <tr>\n",
       "      <th>10</th>\n",
       "      <td>14</td>\n",
       "      <td>1</td>\n",
       "    </tr>\n",
       "    <tr>\n",
       "      <th>11</th>\n",
       "      <td>16</td>\n",
       "      <td>4</td>\n",
       "    </tr>\n",
       "    <tr>\n",
       "      <th>12</th>\n",
       "      <td>12</td>\n",
       "      <td>1</td>\n",
       "    </tr>\n",
       "    <tr>\n",
       "      <th>13</th>\n",
       "      <td>14</td>\n",
       "      <td>3</td>\n",
       "    </tr>\n",
       "    <tr>\n",
       "      <th>14</th>\n",
       "      <td>14</td>\n",
       "      <td>2</td>\n",
       "    </tr>\n",
       "  </tbody>\n",
       "</table>\n",
       "</div>"
      ],
      "text/plain": [
       "         user count  churn count\n",
       "cluster                         \n",
       "0                12            3\n",
       "1                27            5\n",
       "2                16            4\n",
       "3                12            1\n",
       "4                25            8\n",
       "5                10            1\n",
       "6                12            2\n",
       "7                 6            2\n",
       "8                18            3\n",
       "9                10            5\n",
       "10               14            1\n",
       "11               16            4\n",
       "12               12            1\n",
       "13               14            3\n",
       "14               14            2"
      ]
     },
     "execution_count": 88,
     "metadata": {},
     "output_type": "execute_result"
    }
   ],
   "source": [
    "df_cluster_churn"
   ]
  },
  {
   "cell_type": "markdown",
   "metadata": {},
   "source": [
    "##### Conclusion\n",
    "Unfortunately unsupervised learning didn't yield the results we would like to get. Although some clusters have a high percentage of churn we can't find the optimal number of clusters from the small dataset."
   ]
  },
  {
   "cell_type": "markdown",
   "metadata": {},
   "source": [
    "# Final Steps\n",
    "Clean up your code, adding comments and renaming variables to make the code easier to read and maintain. Refer to the Spark Project Overview page and Data Scientist Capstone Project Rubric to make sure you are including all components of the capstone project and meet all expectations. Remember, this includes thorough documentation in a README file in a Github repository, as well as a web app or blog post."
   ]
  },
  {
   "cell_type": "code",
   "execution_count": 202,
   "metadata": {
    "scrolled": true
   },
   "outputs": [
    {
     "data": {
      "text/plain": [
       "0"
      ]
     },
     "execution_count": 202,
     "metadata": {},
     "output_type": "execute_result"
    }
   ],
   "source": [
    "from subprocess import call\n",
    "call(['python', '-m', 'nbconvert', 'Sparkify.ipynb'])"
   ]
  },
  {
   "cell_type": "code",
   "execution_count": null,
   "metadata": {},
   "outputs": [],
   "source": []
  }
 ],
 "metadata": {
  "kernelspec": {
   "display_name": "Python 3",
   "language": "python",
   "name": "python3"
  },
  "language_info": {
   "codemirror_mode": {
    "name": "ipython",
    "version": 3
   },
   "file_extension": ".py",
   "mimetype": "text/x-python",
   "name": "python",
   "nbconvert_exporter": "python",
   "pygments_lexer": "ipython3",
   "version": "3.6.3"
  }
 },
 "nbformat": 4,
 "nbformat_minor": 2
}
